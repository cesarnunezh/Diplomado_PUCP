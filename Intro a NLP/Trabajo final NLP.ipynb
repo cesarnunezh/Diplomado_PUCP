{
 "cells": [
  {
   "cell_type": "markdown",
   "source": [
    "# Análisis de sentimientos de los conflictos sociales asociados a la actividad minera en el Perú: 2007-2019\n",
    "<b>Autor</b>: César Núñez Huamán\n",
    "\n",
    "<b>Abstract</b>: \n"
   ],
   "metadata": {
    "collapsed": false
   },
   "id": "fb1ccb9faefe128a"
  },
  {
   "cell_type": "markdown",
   "source": [
    "## 1. Descripción del tema"
   ],
   "metadata": {
    "collapsed": false
   },
   "id": "41a6e721bc061b73"
  },
  {
   "cell_type": "markdown",
   "source": [],
   "metadata": {
    "collapsed": false
   },
   "id": "ea201060675fc198"
  },
  {
   "cell_type": "markdown",
   "source": [
    "## 2. Justificación"
   ],
   "metadata": {
    "collapsed": false
   },
   "id": "7aa72d77065fadee"
  },
  {
   "cell_type": "markdown",
   "source": [],
   "metadata": {
    "collapsed": false
   },
   "id": "9f1fd1c57174127e"
  },
  {
   "cell_type": "markdown",
   "source": [
    "## 3. Descripción del Corpus"
   ],
   "metadata": {
    "collapsed": false
   },
   "id": "aab4a63dae36c7ac"
  },
  {
   "cell_type": "markdown",
   "source": [],
   "metadata": {
    "collapsed": false
   },
   "id": "4877f71194a3cb36"
  },
  {
   "cell_type": "markdown",
   "source": [
    "## 4. Plan de análisis"
   ],
   "metadata": {
    "collapsed": false
   },
   "id": "4206e0d7194a0d3e"
  },
  {
   "cell_type": "code",
   "execution_count": null,
   "outputs": [],
   "source": [],
   "metadata": {
    "collapsed": false
   },
   "id": "d7df5eded5513a2a"
  },
  {
   "cell_type": "markdown",
   "source": [
    "## 5. Análisis de texto"
   ],
   "metadata": {
    "collapsed": false
   },
   "id": "ed2e9c55525b6201"
  },
  {
   "cell_type": "markdown",
   "source": [],
   "metadata": {
    "collapsed": false
   },
   "id": "6cd67990941a775e"
  },
  {
   "cell_type": "markdown",
   "source": [
    "## 6. Conclusiones"
   ],
   "metadata": {
    "collapsed": false
   },
   "id": "4f12e98624490382"
  },
  {
   "cell_type": "markdown",
   "source": [],
   "metadata": {
    "collapsed": false
   },
   "id": "7ef030582212e87a"
  }
 ],
 "metadata": {
  "kernelspec": {
   "display_name": "Python 3",
   "language": "python",
   "name": "python3"
  },
  "language_info": {
   "codemirror_mode": {
    "name": "ipython",
    "version": 2
   },
   "file_extension": ".py",
   "mimetype": "text/x-python",
   "name": "python",
   "nbconvert_exporter": "python",
   "pygments_lexer": "ipython2",
   "version": "2.7.6"
  }
 },
 "nbformat": 4,
 "nbformat_minor": 5
}
