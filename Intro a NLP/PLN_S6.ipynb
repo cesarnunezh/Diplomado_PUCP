{
 "cells": [
  {
   "cell_type": "markdown",
   "id": "f19c87d7-1c92-49d1-ab3a-ddc063ec278a",
   "metadata": {
    "id": "f19c87d7-1c92-49d1-ab3a-ddc063ec278a"
   },
   "source": [
    "## Procesamiento de Lenguaje Natural con Python\n",
    "\n",
    "### Profesor: José Incio, Ph.D\n",
    "#### Departamento de Ciencias Sociales - Sociología\n",
    "- correo: jincio@pucp.pe\n",
    "- web: www.joseincio.com"
   ]
  },
  {
   "cell_type": "markdown",
   "source": [
    "# Análisis de Sentimiento (parte 1)"
   ],
   "metadata": {
    "id": "rPxDlJCFLpxW"
   },
   "id": "rPxDlJCFLpxW"
  },
  {
   "cell_type": "markdown",
   "id": "03d67c4d-ce2a-4470-8c37-4e2480b8d46a",
   "metadata": {
    "id": "03d67c4d-ce2a-4470-8c37-4e2480b8d46a"
   },
   "source": [
    "- En la clase de hoy trabajaremos estrategias para el análisis de\n",
    "sentimiento.\n",
    "- El análisis de sentimiento es parte de una estrategia más grande: Clasificación de documentos!\n",
    "- El análisis de sentimientos es el proceso automatizado de etiquetar datos según su sentimiento, como positivo, negativo y neutral.\n",
    "- El análisis de sentimientos permite a las empresas analizar datos a gran escala, detectar información y automatizar procesos.\n",
    "- Pero no son las únicas categorías que queremos trabajar. También puede ser: Alegre, triste..\n",
    "- o 😭 , 😩, 😂"
   ]
  },
  {
   "cell_type": "markdown",
   "id": "83356efb-67d2-447b-bfab-3d91684aad92",
   "metadata": {
    "id": "83356efb-67d2-447b-bfab-3d91684aad92"
   },
   "source": [
    "- La idea es poder crear una dimensión que extraemos de la lectura del texto!\n",
    "- También se puede entender como extraer una dimensión latente!\n",
    "- Agregar una columna a tu base de datos!\n",
    "- Esta información la puedes usar como variable dependiente o independiente!\n",
    "- Qué explica el tono del texto.. o el tono del texto explica .."
   ]
  },
  {
   "cell_type": "markdown",
   "id": "0b662e60-52c9-4dba-8152-e3d3f6e694d4",
   "metadata": {
    "id": "0b662e60-52c9-4dba-8152-e3d3f6e694d4"
   },
   "source": [
    "## Formas de realizar el sentimental análisis.\n",
    "\n",
    "Hay tres principales formas de realizar el análisis de texto."
   ]
  },
  {
   "cell_type": "code",
   "source": [
    "from google.colab import drive\n",
    "import os\n",
    "import re\n",
    "import numpy as np\n",
    "import matplotlib.pyplot as plt\n",
    "import pandas as pd\n",
    "import nltk\n",
    "from nltk.corpus import stopwords\n",
    "nltk.download('stopwords')"
   ],
   "metadata": {
    "colab": {
     "base_uri": "https://localhost:8080/"
    },
    "id": "K9-AWEBOORRD",
    "executionInfo": {
     "status": "ok",
     "timestamp": 1698215843611,
     "user_tz": 300,
     "elapsed": 228,
     "user": {
      "displayName": "LUZ NICOLE VILCA GALLEGOS",
      "userId": "05134775234452312219"
     }
    },
    "outputId": "b739a6c9-ad29-4c61-de50-e45cd9144f35"
   },
   "id": "K9-AWEBOORRD",
   "execution_count": null,
   "outputs": []
  },
  {
   "cell_type": "code",
   "source": [
    "drive.mount(\"/content/drive\", force_remount=True)"
   ],
   "metadata": {
    "colab": {
     "base_uri": "https://localhost:8080/"
    },
    "id": "AJkBwevaOV2_",
    "executionInfo": {
     "status": "ok",
     "timestamp": 1698215850229,
     "user_tz": 300,
     "elapsed": 3024,
     "user": {
      "displayName": "LUZ NICOLE VILCA GALLEGOS",
      "userId": "05134775234452312219"
     }
    },
    "outputId": "b26a7f3b-3a0e-42f4-cdf7-b8631e8fefca"
   },
   "id": "AJkBwevaOV2_",
   "execution_count": null,
   "outputs": []
  },
  {
   "cell_type": "code",
   "source": [
    "os.chdir(\"/content/drive/MyDrive/QLAB_2023\")"
   ],
   "metadata": {
    "id": "n30tfyGIOpwj"
   },
   "id": "n30tfyGIOpwj",
   "execution_count": null,
   "outputs": []
  },
  {
   "cell_type": "markdown",
   "source": [
    "### Vayamos desde algo sumamente simple como una definición manual de palabras positivas y negativas, y un conteo simple de estas en el texto."
   ],
   "metadata": {
    "id": "vWKeRxChQXC5"
   },
   "id": "vWKeRxChQXC5"
  },
  {
   "cell_type": "code",
   "execution_count": null,
   "id": "ff195f92-b1eb-4f3f-8b1e-863b2a5f8c0b",
   "metadata": {
    "id": "ff195f92-b1eb-4f3f-8b1e-863b2a5f8c0b"
   },
   "outputs": [],
   "source": [
    "# Definir una función para calcular el puntaje de sentimiento de un texto\n",
    "def puntaje_sentimiento(texto, palabras_positivas, palabras_negativas):\n",
    "    # Dividir el texto en palabras\n",
    "    palabras = texto.split()\n",
    "    # Inicializar el puntaje de sentimiento\n",
    "    puntaje = 0\n",
    "    # Recorrer las palabras en el texto\n",
    "    for palabra in palabras:\n",
    "        # Verificar si la palabra está en el diccionario de palabras positivas\n",
    "        if palabra in palabras_positivas:\n",
    "            # Aumentar el puntaje de sentimiento en 1\n",
    "            puntaje += 1\n",
    "        # Verificar si la palabra está en el diccionario de palabras negativas\n",
    "        elif palabra in palabras_negativas:\n",
    "            # Disminuir el puntaje de sentimiento en 1\n",
    "            puntaje -= 1\n",
    "    # Devolver el puntaje de sentimiento\n",
    "    return puntaje\n"
   ]
  },
  {
   "cell_type": "code",
   "execution_count": null,
   "id": "6a981748-1565-49cb-be46-d4b4279d6e5f",
   "metadata": {
    "id": "6a981748-1565-49cb-be46-d4b4279d6e5f",
    "outputId": "8c8961fe-c237-4427-8ea2-cdc90d29a171",
    "colab": {
     "base_uri": "https://localhost:8080/"
    },
    "executionInfo": {
     "status": "ok",
     "timestamp": 1698209852238,
     "user_tz": 300,
     "elapsed": 12,
     "user": {
      "displayName": "LUZ NICOLE VILCA GALLEGOS",
      "userId": "05134775234452312219"
     }
    }
   },
   "outputs": [],
   "source": [
    "# Definir una lista de palabras positivas\n",
    "palabras_positivas = ['bueno', 'genial', 'excelente', 'increíble', 'impresionante']\n",
    "# Definir una lista de palabras negativas\n",
    "palabras_negativas = ['malo', 'terrible', 'horrible', 'horroroso', 'peor']\n",
    "\n",
    "# Texto de ejemplo\n",
    "texto = \"La película fue increíble e impresionante\"\n",
    "# Calcular el puntaje de sentimiento del texto\n",
    "puntaje = puntaje_sentimiento(texto, palabras_positivas, palabras_negativas)\n",
    "# Imprimir el puntaje de sentimiento\n",
    "print(f\"El puntaje de sentimiento del texto es: {puntaje}\")"
   ]
  },
  {
   "cell_type": "markdown",
   "source": [
    "Aquí importamos una lista predeterminada de palabras negativas...\n",
    "Puedes encontrarla [aquí:](https://gist.github.com/mkulakowski2/4289441#file-negative-words-txt)"
   ],
   "metadata": {
    "id": "rrB3LclMQjPd"
   },
   "id": "rrB3LclMQjPd"
  },
  {
   "cell_type": "code",
   "execution_count": null,
   "id": "45f0f014-d00f-4855-a279-f35b59755502",
   "metadata": {
    "id": "45f0f014-d00f-4855-a279-f35b59755502",
    "outputId": "c060626f-06cf-4c0d-8c9b-bd39036306f0",
    "colab": {
     "base_uri": "https://localhost:8080/"
    },
    "executionInfo": {
     "status": "ok",
     "timestamp": 1698210468687,
     "user_tz": 300,
     "elapsed": 703,
     "user": {
      "displayName": "LUZ NICOLE VILCA GALLEGOS",
      "userId": "05134775234452312219"
     }
    }
   },
   "outputs": [],
   "source": [
    "with open(file=\"./negative-words.txt\", mode=\"r\",encoding='ISO-8859-1') as f:\n",
    "        Boooo = f.readlines()\n",
    "Boooo[0:31]"
   ]
  },
  {
   "cell_type": "code",
   "execution_count": null,
   "id": "70fd453d-9747-4596-b41f-fb0d6723c628",
   "metadata": {
    "id": "70fd453d-9747-4596-b41f-fb0d6723c628",
    "outputId": "10741e45-8779-4640-a217-9f6ce9daa1ce",
    "colab": {
     "base_uri": "https://localhost:8080/"
    },
    "executionInfo": {
     "status": "ok",
     "timestamp": 1698210574306,
     "user_tz": 300,
     "elapsed": 320,
     "user": {
      "displayName": "LUZ NICOLE VILCA GALLEGOS",
      "userId": "05134775234452312219"
     }
    }
   },
   "outputs": [],
   "source": [
    "#lets test out how to clean this up\n",
    "#preamble has first characater as \";\", use that to filter with a list comprehension\n",
    "#clear blank lines too \"\\n\"\n",
    "# will also clear \"\\n\" with str.strip at the same time\n",
    "boolimpio = [ii.strip() for ii in Boooo if ii[0] != \";\" and ii[0] !=\"\\n\"]\n",
    "boolimpio[0:31]"
   ]
  },
  {
   "cell_type": "code",
   "execution_count": null,
   "id": "3f488abb-5258-4d00-a5e3-31bbe93bb857",
   "metadata": {
    "id": "3f488abb-5258-4d00-a5e3-31bbe93bb857"
   },
   "outputs": [],
   "source": [
    "def readInSentimentList(loc=\"./negative-words.txt\", commentCharacter=\";\"):\n",
    "    with open(file=loc, mode=\"r\", encoding='ISO-8859-1') as f:\n",
    "        temp = f.readlines()\n",
    "    out = [ii.strip() for ii in temp if ii[0] != commentCharacter and ii[0] !=\"\\n\"]\n",
    "    return out"
   ]
  },
  {
   "cell_type": "markdown",
   "source": [
    "También podemos incluir la lista de palabras positivas...puedes encontrarla [aquí](https://gist.github.com/mkulakowski2/4289437?permalink_comment_id=4029583)"
   ],
   "metadata": {
    "id": "ehzoKZkXRBvq"
   },
   "id": "ehzoKZkXRBvq"
  },
  {
   "cell_type": "code",
   "execution_count": null,
   "id": "67aeb318-6458-4c6d-964d-850458e74bc2",
   "metadata": {
    "id": "67aeb318-6458-4c6d-964d-850458e74bc2",
    "outputId": "603dd6ff-9d8a-4e1a-9143-2ef2e98565f0",
    "colab": {
     "base_uri": "https://localhost:8080/"
    },
    "executionInfo": {
     "status": "ok",
     "timestamp": 1698210700663,
     "user_tz": 300,
     "elapsed": 422,
     "user": {
      "displayName": "LUZ NICOLE VILCA GALLEGOS",
      "userId": "05134775234452312219"
     }
    }
   },
   "outputs": [],
   "source": [
    "negList = readInSentimentList()\n",
    "posList = readInSentimentList(loc=\"./positive-words.txt\")\n",
    "print(\"Number of negative words in list:{}\\nNumber of positive words in list:{}\".format(len(negList),len(posList)))"
   ]
  },
  {
   "cell_type": "code",
   "execution_count": null,
   "id": "ba07bd27-3cf1-441e-ad67-4e65b528c6ae",
   "metadata": {
    "id": "ba07bd27-3cf1-441e-ad67-4e65b528c6ae"
   },
   "outputs": [],
   "source": [
    "testDoc0 = \"This is the best class I have ever taken. It is terrific. I would give the instructor an oustanding rating.\"\n",
    "testDoc1 = \"This is an ok class, but it is really meh. The use of emojis is a little boring. I would give the instructor a so-so rating. It could have been worse, it could have been better.\"\n",
    "testDoc2 = \"This is a class that should never have been taught. It is an affront. The worst I have taken. Just terrible. I would give the instructor a very bad rating.\"\n"
   ]
  },
  {
   "cell_type": "code",
   "execution_count": null,
   "id": "ee1e3270-0220-4819-a0ad-1bab6823b217",
   "metadata": {
    "id": "ee1e3270-0220-4819-a0ad-1bab6823b217"
   },
   "outputs": [],
   "source": [
    "def cleanPunctNotHyphen(doc):\n",
    "    return re.sub(r'[\",\",\".\",\":\",\";\",\"'\",'\"']','', doc)\n",
    "\n",
    "def tokenize(doc):\n",
    "    return doc.split()\n",
    "\n",
    "def lowerCase(list):\n",
    "    return [word.lower() for word in list]\n",
    "\n",
    "def cleanUpSteps(doc):\n",
    "    return lowerCase(tokenize(cleanPunctNotHyphen(doc)))\n",
    "\n",
    "test = cleanUpSteps(testDoc0)"
   ]
  },
  {
   "cell_type": "markdown",
   "source": [
    "Armamos un diccionario de las palabras existentes en nuestro texto:"
   ],
   "metadata": {
    "id": "lJE6fhIgSJar"
   },
   "id": "lJE6fhIgSJar"
  },
  {
   "cell_type": "code",
   "execution_count": null,
   "id": "00bcb984-5e66-4452-ac30-bd607b6a1f49",
   "metadata": {
    "id": "00bcb984-5e66-4452-ac30-bd607b6a1f49",
    "outputId": "45970ddb-2e83-46c9-f5ba-b66bbe09d643",
    "colab": {
     "base_uri": "https://localhost:8080/"
    },
    "executionInfo": {
     "status": "ok",
     "timestamp": 1698211370052,
     "user_tz": 300,
     "elapsed": 330,
     "user": {
      "displayName": "LUZ NICOLE VILCA GALLEGOS",
      "userId": "05134775234452312219"
     }
    }
   },
   "outputs": [],
   "source": [
    "def makeTFDictionary(cleanDoc):\n",
    "    docTermDictionary = {}\n",
    "    for word in cleanDoc:\n",
    "        if word in docTermDictionary.keys():\n",
    "            docTermDictionary[word] += 1\n",
    "        else:\n",
    "            docTermDictionary[word] = 1\n",
    "    return docTermDictionary\n",
    "makeTFDictionary(cleanUpSteps(testDoc0))"
   ]
  },
  {
   "cell_type": "markdown",
   "source": [
    "Una forma más simple y rápida de limpiar varios textos al mismo tiempo utilizando list comprehension"
   ],
   "metadata": {
    "id": "a_1GWY_NSVBk"
   },
   "id": "a_1GWY_NSVBk"
  },
  {
   "cell_type": "code",
   "execution_count": null,
   "id": "357588fe-5577-4a9f-a9da-ef00a36b9f21",
   "metadata": {
    "id": "357588fe-5577-4a9f-a9da-ef00a36b9f21",
    "outputId": "d7c5939b-8864-426f-8f14-9795b13eae1e",
    "colab": {
     "base_uri": "https://localhost:8080/"
    },
    "executionInfo": {
     "status": "ok",
     "timestamp": 1698211383521,
     "user_tz": 300,
     "elapsed": 9,
     "user": {
      "displayName": "LUZ NICOLE VILCA GALLEGOS",
      "userId": "05134775234452312219"
     }
    }
   },
   "outputs": [],
   "source": [
    "cleanTestDoc0, cleanTestDoc1, cleanTestDoc2 = [makeTFDictionary(cleanUpSteps(doc)) for doc in [testDoc0, testDoc1, testDoc2]]\n",
    "list(cleanTestDoc0.keys())"
   ]
  },
  {
   "cell_type": "markdown",
   "source": [
    "Al haber transformado cada documento en diccionarios podemos acceder a su total de términos mediante la enumeración de las llaves:"
   ],
   "metadata": {
    "id": "FQTqoQy3SoTk"
   },
   "id": "FQTqoQy3SoTk"
  },
  {
   "cell_type": "code",
   "execution_count": null,
   "id": "ec9d6104-6605-40eb-a021-3a674ebd5cdb",
   "metadata": {
    "id": "ec9d6104-6605-40eb-a021-3a674ebd5cdb",
    "outputId": "87fcc037-86cf-43c6-c5a5-84824676e8e2",
    "colab": {
     "base_uri": "https://localhost:8080/"
    },
    "executionInfo": {
     "status": "ok",
     "timestamp": 1698211443180,
     "user_tz": 300,
     "elapsed": 271,
     "user": {
      "displayName": "LUZ NICOLE VILCA GALLEGOS",
      "userId": "05134775234452312219"
     }
    }
   },
   "outputs": [],
   "source": [
    "allWords =  set(list(cleanTestDoc0.keys())+list(cleanTestDoc1.keys())+list(cleanTestDoc2.keys())+negList+posList)\n",
    "V = len(allWords)\n",
    "V"
   ]
  },
  {
   "cell_type": "markdown",
   "source": [
    "Creamos una función de identificación de palabras positivas, negativas y \"neutras\" (que no se identifican como ningun grupo)"
   ],
   "metadata": {
    "id": "HO4gan8jTb8S"
   },
   "id": "HO4gan8jTb8S"
  },
  {
   "cell_type": "code",
   "execution_count": null,
   "id": "a4e81eac-c1ac-4137-ad99-220a2f168582",
   "metadata": {
    "id": "a4e81eac-c1ac-4137-ad99-220a2f168582"
   },
   "outputs": [],
   "source": [
    "v1 = np.empty((V,1))\n",
    "\n",
    "def makeA(allWords=allWords, posList=posList,negList=negList):\n",
    "    '''\n",
    "    make the A matrix\n",
    "    allWords -- list of all words in vocab (unique)\n",
    "    posList  -- list of positive words\n",
    "    negList  -- list of negative words\n",
    "    '''\n",
    "    A = np.empty((2,len(allWords)))\n",
    "    for ii,word in enumerate(allWords):\n",
    "        if word in posList:\n",
    "            A[:,ii] = 1,0\n",
    "        elif word in negList:\n",
    "            A[:,ii] = 0,1\n",
    "        else:\n",
    "            A[:,ii] = 0,0\n",
    "    return(A)\n",
    "\n",
    "def makeV1(docDict, allWords=allWords):\n",
    "    v1 = np.empty((len(allWords),1))\n",
    "    for ii,word in enumerate(allWords):\n",
    "        if word in docDict.keys():\n",
    "            v1[ii,0] = docDict[word]\n",
    "        else:\n",
    "            v1[ii,0] = 0\n",
    "    return v1"
   ]
  },
  {
   "cell_type": "code",
   "execution_count": null,
   "id": "2b9aa27e-26fe-4c2e-943f-d6768ada251e",
   "metadata": {
    "id": "2b9aa27e-26fe-4c2e-943f-d6768ada251e"
   },
   "outputs": [],
   "source": [
    "#lets run it\n",
    "myA = makeA()\n",
    "myV1 = makeV1(cleanTestDoc1)\n",
    "myS = myA@myV1"
   ]
  },
  {
   "cell_type": "code",
   "execution_count": null,
   "id": "8bf42edf-b4f4-4e41-848e-90d1cfd488d5",
   "metadata": {
    "id": "8bf42edf-b4f4-4e41-848e-90d1cfd488d5",
    "outputId": "2ae17ddc-1e82-4d2c-ac10-a98ff6ead49d",
    "colab": {
     "base_uri": "https://localhost:8080/"
    },
    "executionInfo": {
     "status": "ok",
     "timestamp": 1698211624204,
     "user_tz": 300,
     "elapsed": 819,
     "user": {
      "displayName": "LUZ NICOLE VILCA GALLEGOS",
      "userId": "05134775234452312219"
     }
    }
   },
   "outputs": [],
   "source": [
    "del myV1, myS\n",
    "def calcSentFromCleanDocs(cleanDoc,A, allWords=allWords, posList=posList,negList=negList):\n",
    "    myA = makeA(allWords=allWords, posList=posList,negList=negList)\n",
    "    myV1 = makeV1(cleanDoc)\n",
    "    myS = myA@myV1\n",
    "    return myS\n",
    "calcSentFromCleanDocs(cleanTestDoc0,myA)"
   ]
  },
  {
   "cell_type": "code",
   "execution_count": null,
   "id": "b55349f1-8065-467a-b865-32943001ad76",
   "metadata": {
    "id": "b55349f1-8065-467a-b865-32943001ad76",
    "outputId": "bacdd18b-1721-48eb-a443-8556ead8adc2",
    "colab": {
     "base_uri": "https://localhost:8080/"
    },
    "executionInfo": {
     "status": "ok",
     "timestamp": 1698211633980,
     "user_tz": 300,
     "elapsed": 1843,
     "user": {
      "displayName": "LUZ NICOLE VILCA GALLEGOS",
      "userId": "05134775234452312219"
     }
    }
   },
   "outputs": [],
   "source": [
    "s0,s1,s2 = [calcSentFromCleanDocs(cleanDoc,myA) for cleanDoc in [cleanTestDoc0, cleanTestDoc1, cleanTestDoc2]]\n",
    "print(s0,s1, s2, sep=\"\\n\\n\")"
   ]
  },
  {
   "cell_type": "code",
   "execution_count": null,
   "id": "fe3d9412-74e1-4e81-8b01-b530f024a5bf",
   "metadata": {
    "id": "fe3d9412-74e1-4e81-8b01-b530f024a5bf"
   },
   "outputs": [],
   "source": [
    "def makeMy2Axes(xlim=(-2,2),ylim=(-2,2), xlabel=\"x\", ylabel=\"y\"):\n",
    "    plt.plot([],[])\n",
    "    plt.xlim(xlim[0],xlim[1])\n",
    "    plt.ylim(ylim[0],ylim[1])\n",
    "    ax = plt.gca()\n",
    "    ax.spines['left'].set_position('zero')\n",
    "    ax.spines['bottom'].set_position('zero')\n",
    "    ax.spines['right'].set_color('none')\n",
    "    ax.spines['top'].set_color('none')\n",
    "    ax.xaxis.set_label_coords(1,.4)\n",
    "    ax.xaxis.set_label_text(xlabel)\n",
    "    ax.yaxis.set_label_coords(.4,1)\n",
    "    ax.yaxis.set_label_text(ylabel)\n",
    "\n",
    "def make2DVector(tail=(0,0),head=(1,0), color=\"b\", lw=1):\n",
    "    plt.arrow(tail[0],tail[1],\n",
    "              head[0]-tail[0], head[1]-tail[1],\n",
    "              head_width=.1,\n",
    "              length_includes_head=True,\n",
    "              color=color,\n",
    "              lw=lw)"
   ]
  },
  {
   "cell_type": "code",
   "execution_count": null,
   "id": "b84bec69-715a-4aab-ab25-5cec47cde78c",
   "metadata": {
    "id": "b84bec69-715a-4aab-ab25-5cec47cde78c",
    "outputId": "cde2f2e0-1cf3-4cc2-bfc9-2b073e2208f2",
    "colab": {
     "base_uri": "https://localhost:8080/",
     "height": 425
    },
    "executionInfo": {
     "status": "ok",
     "timestamp": 1698211828558,
     "user_tz": 300,
     "elapsed": 675,
     "user": {
      "displayName": "LUZ NICOLE VILCA GALLEGOS",
      "userId": "05134775234452312219"
     }
    }
   },
   "outputs": [],
   "source": [
    "makeMy2Axes(xlim=(-4,4),ylim=(-4,4), xlabel=\"positive\", ylabel=\"negative\")\n",
    "make2DVector(head=s0.reshape(2,),color=\"g\", lw=4)\n",
    "make2DVector(head=s1.reshape(2,), color=\"k\", lw=4 )\n",
    "make2DVector(head=s2.reshape(2,), color=\"r\", lw=4 )\n",
    "plt.annotate(text=\"s_0, pos\", color=\"g\", xy=(2,.25) )\n",
    "plt.annotate(text=\"s_1, middling\", color=\"k\", xy=(1.15,2.15))\n",
    "plt.annotate(text=\"s_2, neg\", color=\"r\", xy=(0.25,4));"
   ]
  },
  {
   "cell_type": "markdown",
   "id": "27ee2e8c-b7e2-4cc0-a9c9-7b534af123ae",
   "metadata": {
    "id": "27ee2e8c-b7e2-4cc0-a9c9-7b534af123ae"
   },
   "source": [
    "# Análisis supervisado\n",
    "\n",
    "- Usando diccionarios\n",
    "- Usando técnicas de machine learning - preclasificación"
   ]
  },
  {
   "cell_type": "markdown",
   "id": "30a6b3a8-6741-4825-afa4-bd0452bf0825",
   "metadata": {
    "id": "30a6b3a8-6741-4825-afa4-bd0452bf0825"
   },
   "source": [
    "VAMOS CON LA INTUICIÓN GENERAL"
   ]
  },
  {
   "cell_type": "markdown",
   "id": "f3f38a97-4c2a-4aa4-b6cd-773b7546a4ca",
   "metadata": {
    "id": "f3f38a97-4c2a-4aa4-b6cd-773b7546a4ca"
   },
   "source": [
    "## El texto en aprendizaje supervisado\n",
    "\n",
    "A veces los documentos están relacionados con metadatos\n",
    "\n",
    "- doc 1: [\"Esta clase es genial\", 👍]\n",
    "- doc 2: [\"Esta clase es la peor que he tomado\", 👎]\n",
    "- doc 3: [\"no esta mal, maso menos\", 👍]"
   ]
  },
  {
   "cell_type": "markdown",
   "id": "0bc36bd8-f9d1-44e0-9aec-de37d9aa65c2",
   "metadata": {
    "id": "0bc36bd8-f9d1-44e0-9aec-de37d9aa65c2"
   },
   "source": [
    "IDEA\n",
    "\n",
    "$y_{i} = f(x_{i})$, para algunas observaciones $i \\in N$;\n",
    "\n",
    "observamos (almenos para algunas) $y_{i}$ y lo asociamos con vectoress/características $x_{i}$\n",
    "\n",
    "Pero no **observamos** $f(\\cdot)$.\n",
    "\n",
    "Queremos aprender una función útil $f(\\cdot) \\rightarrow \\hat{f}(\\cdot)$"
   ]
  },
  {
   "cell_type": "markdown",
   "id": "bcb0c66a-ac89-4909-9ef8-fe8733376590",
   "metadata": {
    "id": "bcb0c66a-ac89-4909-9ef8-fe8733376590"
   },
   "source": [
    "Comparemos con técnicas NO supervisadas.. como TOPIC ANALYSIS\n",
    "\n",
    "- La idea, lo que buscamos es que reducir la dimensionalidad de los datos.\n",
    "\n",
    "Solo observamos $x$\n",
    "\n",
    "Imponemos una estructura $f(\\cdot)$, para realizar transformaciones (axes, clusters, topics, etc)\n",
    "\n",
    "$X = UV'$, donde minizamos  $|X-UV'|$, está sujeto a algunas condiciones <- estructura!!!!\n",
    "\n",
    "😉 Sociologs"
   ]
  },
  {
   "cell_type": "markdown",
   "metadata": {
    "id": "e20361ab-aaed-4858-ae41-a84b440bdffa"
   },
   "source": [
    "# Análisis de Sentimiento (parte 2)\n",
    "\n",
    "- Jugando con diccionarios!\n",
    "- Regresamos a nuestro ejemplo juguete, esta es una solución de Chat GPT podría plantear:"
   ],
   "id": "e20361ab-aaed-4858-ae41-a84b440bdffa"
  },
  {
   "cell_type": "code",
   "execution_count": null,
   "metadata": {
    "id": "d2ba4117-1678-4f6e-8c24-fdedf1bea45c"
   },
   "outputs": [],
   "source": [
    "def analisis_de_sentimientos(texto, positivo, negativo):\n",
    "  \"\"\"\n",
    "  Realiza un análisis de sentimientos en un texto dado utilizando un diccionario de palabras positivas y negativas.\n",
    "\n",
    "  Args:\n",
    "    texto: El texto a analizar.\n",
    "    positivo: Un diccionario de palabras positivas.\n",
    "    negativo: Un diccionario de palabras negativas.\n",
    "\n",
    "  Devuelve:\n",
    "    Una tuple de tres flotantes: la proporción de palabras que son negativas, la proporción de palabras que son positivas y la proporción de palabras que son neutras.\n",
    "  \"\"\"\n",
    "\n",
    "  # Convertir el texto en una lista de palabras.\n",
    "  texto=texto.lower()\n",
    "  palabras = texto.split()\n",
    "\n",
    "  # Contar el número de palabras positivas, negativas y neutras.\n",
    "  contador_positivo = 0\n",
    "  contador_negativo = 0\n",
    "  contador_neutro = 0\n",
    "  for palabra in palabras:\n",
    "    if palabra in positivo:\n",
    "      contador_positivo += 1\n",
    "    elif palabra in negativo:\n",
    "      contador_negativo += 1\n",
    "    else:\n",
    "      contador_neutro += 1\n",
    "\n",
    "  # Calcular las proporciones de palabras positivas, negativas y neutras.\n",
    "  prop_positiva = contador_positivo / len(palabras)\n",
    "  prop_negativa = contador_negativo / len(palabras)\n",
    "  prop_neutra = contador_neutro / len(palabras)\n",
    "\n",
    "  # Devolver las proporciones.\n",
    "  return prop_positiva, prop_negativa, prop_neutra"
   ],
   "id": "d2ba4117-1678-4f6e-8c24-fdedf1bea45c"
  },
  {
   "cell_type": "code",
   "source": [
    "positivo = {\"bueno\", \"genial\", \"asombroso\", \"fantástico\"}\n",
    "negativo = {\"malo\", \"terrible\", \"horrible\", \"horrible\"}\n",
    "\n",
    "texto = \"El domingo fuí a ver la sirenita con mi sobrina, Sebastían fue mi personaje preferido. Estuvo bueno\"\n",
    "\n",
    "prop_positiva, prop_negativa, prop_neutra = analisis_de_sentimientos(texto, positivo, negativo)\n",
    "\n",
    "print(f\"Proporción positiva: {prop_positiva:.2f}\")\n",
    "print(f\"Proporción negativa: {prop_negativa:.2f}\")\n",
    "print(f\"Proporción neutra: {prop_neutra:.2f}\")"
   ],
   "metadata": {
    "colab": {
     "base_uri": "https://localhost:8080/"
    },
    "id": "442AP8o-p3f8",
    "executionInfo": {
     "status": "ok",
     "timestamp": 1698212277623,
     "user_tz": 300,
     "elapsed": 318,
     "user": {
      "displayName": "LUZ NICOLE VILCA GALLEGOS",
      "userId": "05134775234452312219"
     }
    },
    "outputId": "cdfc6c33-ccc3-43e7-e82f-20483d154617"
   },
   "execution_count": null,
   "outputs": [],
   "id": "442AP8o-p3f8"
  },
  {
   "cell_type": "markdown",
   "source": [
    "Podemos plantear una opción más compleja..."
   ],
   "metadata": {
    "id": "bfs1VWcuV8b_"
   },
   "id": "bfs1VWcuV8b_"
  },
  {
   "cell_type": "markdown",
   "metadata": {
    "id": "033d2425-1ce1-41ab-9106-f8cee0a45a2b"
   },
   "source": [
    "## Usando VADER"
   ],
   "id": "033d2425-1ce1-41ab-9106-f8cee0a45a2b"
  },
  {
   "cell_type": "markdown",
   "metadata": {
    "id": "21259cb0-dbe5-46a1-9388-89a3879937a9"
   },
   "source": [
    "![](https://cdn.shopify.com/s/files/1/0057/8630/4600/products/cb3ed9d77d7748489c9ced65cdaf118fxl_1200x1200.jpg?v=1671679083)"
   ],
   "id": "21259cb0-dbe5-46a1-9388-89a3879937a9"
  },
  {
   "cell_type": "markdown",
   "metadata": {
    "id": "6e34121e-1973-45c3-8848-41d329271f0b"
   },
   "source": [
    "No es por Lord Vader..\n",
    "- V: Valence\n",
    "- A: Aware\n",
    "- D: Dictionary\n",
    "- E: sEntiment\n",
    "- R: Reasoner"
   ],
   "id": "6e34121e-1973-45c3-8848-41d329271f0b"
  },
  {
   "cell_type": "markdown",
   "metadata": {
    "id": "dfdc1253-adfe-4d81-8460-08aff0a31991"
   },
   "source": [
    "Obvio que es por Vader!"
   ],
   "id": "dfdc1253-adfe-4d81-8460-08aff0a31991"
  },
  {
   "cell_type": "code",
   "execution_count": null,
   "metadata": {
    "colab": {
     "base_uri": "https://localhost:8080/"
    },
    "id": "be68e9ac-6872-42d1-8986-31d24a67dc1b",
    "executionInfo": {
     "status": "ok",
     "timestamp": 1698214737122,
     "user_tz": 300,
     "elapsed": 1835,
     "user": {
      "displayName": "LUZ NICOLE VILCA GALLEGOS",
      "userId": "05134775234452312219"
     }
    },
    "outputId": "e97b69bf-6fa5-407a-e63d-29dd06f213f6"
   },
   "outputs": [],
   "source": [
    "import nltk\n",
    "nltk.download('vader_lexicon') #\n",
    "from nltk.sentiment.vader import SentimentIntensityAnalyzer\n",
    "sid = SentimentIntensityAnalyzer()"
   ],
   "id": "be68e9ac-6872-42d1-8986-31d24a67dc1b"
  },
  {
   "cell_type": "code",
   "execution_count": null,
   "metadata": {
    "id": "8e5ac090-3c99-4caf-a4e6-bd622f6f9b46"
   },
   "outputs": [],
   "source": [
    "text=\"No entiendo bien lo que está pasando, pero me siento mal\""
   ],
   "id": "8e5ac090-3c99-4caf-a4e6-bd622f6f9b46"
  },
  {
   "cell_type": "code",
   "execution_count": null,
   "metadata": {
    "colab": {
     "base_uri": "https://localhost:8080/"
    },
    "id": "36cf704d-53da-4950-ab93-3d41b8044632",
    "executionInfo": {
     "status": "ok",
     "timestamp": 1698214739766,
     "user_tz": 300,
     "elapsed": 3,
     "user": {
      "displayName": "LUZ NICOLE VILCA GALLEGOS",
      "userId": "05134775234452312219"
     }
    },
    "outputId": "a89a1315-1cd6-4af3-c129-c1ee64cb56ec"
   },
   "outputs": [],
   "source": [
    "sid.polarity_scores(text)"
   ],
   "id": "36cf704d-53da-4950-ab93-3d41b8044632"
  },
  {
   "cell_type": "markdown",
   "metadata": {
    "id": "28ceaa14-f9c9-400f-b9af-77f95a1c629d"
   },
   "source": [
    "- Vader es un diccionario.\n",
    "- Pero no solo de palabras, incluye frases también!\n",
    "- Y acrónimos como LOL, WTF, ROFL, MDJK\n",
    "- Este diccionario fue codificado por HUMANOS, donde cada elemento podía estar en una escala de \"-4 Extremadamente negativo a 4 Extremadamente positivo\"\n",
    "- El dccionario tiene algo de 7500 tokens. Lo que no está en estas listas tiene un puntaje de 0!"
   ],
   "id": "28ceaa14-f9c9-400f-b9af-77f95a1c629d"
  },
  {
   "cell_type": "markdown",
   "metadata": {
    "id": "256b5bf1-3da5-468c-bc67-60f4e6242974"
   },
   "source": [
    "- Para calcular el 'compound' score Vader suma todos los puntajes y los normaliza de -1 a 1"
   ],
   "id": "256b5bf1-3da5-468c-bc67-60f4e6242974"
  },
  {
   "cell_type": "markdown",
   "metadata": {
    "id": "cf7df6bf-5038-47fa-bf24-e1741da66744"
   },
   "source": [
    "- Usa la función:\n",
    "\n",
    "$$\n",
    "\\frac{x}{\\sqrt{x^2+\\alpha}}\n",
    "$$"
   ],
   "id": "cf7df6bf-5038-47fa-bf24-e1741da66744"
  },
  {
   "cell_type": "markdown",
   "metadata": {
    "id": "15ccb263-30ef-4a8f-9655-2120cde87b82"
   },
   "source": [
    "Vader entrega el porcentaje de palabras negativas, positivas y neutrales"
   ],
   "id": "15ccb263-30ef-4a8f-9655-2120cde87b82"
  },
  {
   "cell_type": "markdown",
   "metadata": {
    "id": "9fe4da80-eb06-4b72-a675-92eea257a22f"
   },
   "source": [
    "Una ventaja es que Vader es computacionalmente económico"
   ],
   "id": "9fe4da80-eb06-4b72-a675-92eea257a22f"
  },
  {
   "cell_type": "markdown",
   "metadata": {
    "id": "3632c392-2a58-4967-b403-52b9e6047d25"
   },
   "source": [
    "### Problema: SOLO FUNCIONA EN INGLES!!"
   ],
   "id": "3632c392-2a58-4967-b403-52b9e6047d25"
  },
  {
   "cell_type": "code",
   "source": [
    "!pip install googletrans"
   ],
   "metadata": {
    "id": "4C_MDFYAiXs1"
   },
   "execution_count": null,
   "outputs": [],
   "id": "4C_MDFYAiXs1"
  },
  {
   "cell_type": "code",
   "source": [
    "#IMPORTANTE: Esto es si es que les sale el error que el 'group' no existe.. entonces tienes que correr esto y reiniciar el runtime\n",
    "!pip uninstall googletrans\n",
    "!pip install googletrans==3.1.0a0"
   ],
   "metadata": {
    "id": "3yJ3kIWkesiq"
   },
   "id": "3yJ3kIWkesiq",
   "execution_count": null,
   "outputs": []
  },
  {
   "cell_type": "code",
   "source": [
    "from googletrans import Translator, constants\n",
    "from pprint import pprint\n",
    "translator = Translator()"
   ],
   "metadata": {
    "id": "MNjv1VXNdjou"
   },
   "id": "MNjv1VXNdjou",
   "execution_count": null,
   "outputs": []
  },
  {
   "cell_type": "code",
   "source": [
    "ejemplo=(\"Hace frio y estoy lejos de casa\")\n",
    "translation = translator.translate(ejemplo)\n",
    "print(f\"{translation.origin} ({translation.src}) --> {translation.text} ({translation.dest})\")"
   ],
   "metadata": {
    "colab": {
     "base_uri": "https://localhost:8080/"
    },
    "id": "c99R6dNbdimG",
    "executionInfo": {
     "status": "ok",
     "timestamp": 1698214644527,
     "user_tz": 300,
     "elapsed": 253,
     "user": {
      "displayName": "LUZ NICOLE VILCA GALLEGOS",
      "userId": "05134775234452312219"
     }
    },
    "outputId": "03169e1b-842e-41e4-84c9-fe28d6db4ecd"
   },
   "id": "c99R6dNbdimG",
   "execution_count": null,
   "outputs": []
  },
  {
   "cell_type": "markdown",
   "source": [
    "### Translator es un API!!!"
   ],
   "metadata": {
    "id": "eypnMquhilnD"
   },
   "id": "eypnMquhilnD"
  },
  {
   "cell_type": "code",
   "source": [
    "Tweet1=\"Hace Frio y esto lejos de casa\"\n",
    "Tweet2=\"Hace tiempo que estoy sentado sobre esta piedra\"\n",
    "Tweet3=\"y yo me pregunto para que sirven las guerras\"\n",
    "documentos=[Tweet1,Tweet2, Tweet3]"
   ],
   "metadata": {
    "id": "ZjIcj5H3jxnH"
   },
   "execution_count": null,
   "outputs": [],
   "id": "ZjIcj5H3jxnH"
  },
  {
   "cell_type": "code",
   "source": [
    "translations = translator.translate(documentos)"
   ],
   "metadata": {
    "id": "UCkkvH__kFrX"
   },
   "execution_count": null,
   "outputs": [],
   "id": "UCkkvH__kFrX"
  },
  {
   "cell_type": "code",
   "source": [
    "translations"
   ],
   "metadata": {
    "colab": {
     "base_uri": "https://localhost:8080/"
    },
    "id": "zcrpI0CSkZrG",
    "executionInfo": {
     "status": "ok",
     "timestamp": 1698214669271,
     "user_tz": 300,
     "elapsed": 306,
     "user": {
      "displayName": "LUZ NICOLE VILCA GALLEGOS",
      "userId": "05134775234452312219"
     }
    },
    "outputId": "186de0cb-674b-4357-b0f4-a2879984ee5e"
   },
   "execution_count": null,
   "outputs": [],
   "id": "zcrpI0CSkZrG"
  },
  {
   "cell_type": "code",
   "source": [
    "documentos1=[]\n",
    "for translation in translations:\n",
    "  documentos1.append(translation.text)"
   ],
   "metadata": {
    "id": "67Wp1CZHkkL5"
   },
   "execution_count": null,
   "outputs": [],
   "id": "67Wp1CZHkkL5"
  },
  {
   "cell_type": "code",
   "source": [
    "documentos1"
   ],
   "metadata": {
    "colab": {
     "base_uri": "https://localhost:8080/"
    },
    "id": "lsohQfQRk9g2",
    "executionInfo": {
     "status": "ok",
     "timestamp": 1698214721401,
     "user_tz": 300,
     "elapsed": 232,
     "user": {
      "displayName": "LUZ NICOLE VILCA GALLEGOS",
      "userId": "05134775234452312219"
     }
    },
    "outputId": "8e1290ed-e2ab-4b43-9716-e6e5163703ca"
   },
   "execution_count": null,
   "outputs": [],
   "id": "lsohQfQRk9g2"
  },
  {
   "cell_type": "markdown",
   "source": [
    "Ya con el texto traducido podemos aplicar la clasificación"
   ],
   "metadata": {
    "id": "M1SR05adfJZt"
   },
   "id": "M1SR05adfJZt"
  },
  {
   "cell_type": "code",
   "source": [
    "for i in documentos1:\n",
    "  print(sid.polarity_scores(i))"
   ],
   "metadata": {
    "colab": {
     "base_uri": "https://localhost:8080/"
    },
    "id": "eo4FoBQ1lA8L",
    "executionInfo": {
     "status": "ok",
     "timestamp": 1698214763104,
     "user_tz": 300,
     "elapsed": 307,
     "user": {
      "displayName": "LUZ NICOLE VILCA GALLEGOS",
      "userId": "05134775234452312219"
     }
    },
    "outputId": "182aecf8-f171-4357-d5d6-6e4394ded0a5"
   },
   "execution_count": null,
   "outputs": [],
   "id": "eo4FoBQ1lA8L"
  },
  {
   "cell_type": "code",
   "source": [
    "Creep=[\"But Im a creep\", \"I'm a weirdo\", \"What the hell am I doin' here?\",\"I don't belong here\",\"I don't care if it hurts\"]"
   ],
   "metadata": {
    "id": "crZQsuusnCql"
   },
   "execution_count": null,
   "outputs": [],
   "id": "crZQsuusnCql"
  },
  {
   "cell_type": "code",
   "source": [
    "for i in Creep:\n",
    "  print(sid.polarity_scores(i))"
   ],
   "metadata": {
    "colab": {
     "base_uri": "https://localhost:8080/"
    },
    "id": "x6--XvnWnivv",
    "executionInfo": {
     "status": "ok",
     "timestamp": 1698214838687,
     "user_tz": 300,
     "elapsed": 214,
     "user": {
      "displayName": "LUZ NICOLE VILCA GALLEGOS",
      "userId": "05134775234452312219"
     }
    },
    "outputId": "32e726bc-f8dc-4c4f-da39-e0ce79aeb70f"
   },
   "execution_count": null,
   "outputs": [],
   "id": "x6--XvnWnivv"
  },
  {
   "cell_type": "markdown",
   "metadata": {
    "id": "0dbeb51f-3101-4695-84fa-bf19c7bebf4e"
   },
   "source": [
    "# Modelos entrenados / Machine Learning\n",
    "\n",
    "Machine Learning es un tipo de Inteligencia Artificial (IA) que le permite a la computadora aprender en base a los patrones de la data sin que se le haya programado explicitamente para eso.\n",
    "\n",
    "- El aprendizaje automático utiliza algoritmos para aprender patrones en los datos y hacer predicciones sobre nuevos datos. En el análisis de texto, estos algoritmos pueden ser entrenados para reconocer características como la polaridad del sentimiento, las entidades mencionadas y las relaciones entre ellas.\n",
    "\n",
    "### Ejemplos de aplicaciones\n",
    "- Análisis de sentimientos: determinar si un texto expresa una opinión positiva, negativa o neutral.\n",
    "- Extracción de entidades: identificar y extraer entidades como personas, lugares y organizaciones mencionadas en un texto.\n",
    "- Clasificación de contenido: clasificar textos en categorías predefinidas, como noticias, deportes o política.\n",
    "\n",
    "## Retos del Machine Learning con texto\n",
    "\n",
    "- La dimensionalidad de los datos.\n",
    "- La ambiguedad del texto.\n",
    "- Necesitas muchos datos para poder entrenar a la máquina.\n",
    "\n",
    "## Modelos más comunes\n",
    "\n",
    "- **Suported Vector Machine:** se suele utilizar para análisis de clasificación de dos grupos. El SVM trabaja encontrando el hiperplano que mejor separa las clases en los datos de entrenamiento. Puede ser utilizado para la detección de imágenes!\n",
    "- **Naivee Bayes Algorithm:** Está basado en el teorema de Bayes! y usa probabilidades para cada clase como elementos independientes. Es uno de los algoritmos más simples pero es SUPER poderoso. Puede usarse para una clasificación dicotómica, o multinomial.\n",
    "- **Regresión Logística:** La de toda la vida.\n",
    "- **Random Forest:** Es muy bueno para datos con mucha dimensionalidad, ayuda a mejorar la precisión y evitando el overfitting. Es un modelo que utiliza mútiples arboles de decisión tomando como output el consenso el mejor \"arbol\" para resolver el problema.\n"
   ],
   "id": "0dbeb51f-3101-4695-84fa-bf19c7bebf4e"
  },
  {
   "cell_type": "code",
   "source": [
    "!pip install accelerate==0.20.1"
   ],
   "metadata": {
    "id": "aiyNh6-W1_3y"
   },
   "execution_count": null,
   "outputs": [],
   "id": "aiyNh6-W1_3y"
  },
  {
   "cell_type": "code",
   "source": [
    "!pip install pysentimiento"
   ],
   "metadata": {
    "id": "KF6I_UgA0HtM"
   },
   "execution_count": null,
   "outputs": [],
   "id": "KF6I_UgA0HtM"
  },
  {
   "cell_type": "code",
   "source": [
    "from pysentimiento import create_analyzer"
   ],
   "metadata": {
    "id": "Z32umJJhstMx"
   },
   "execution_count": null,
   "outputs": [],
   "id": "Z32umJJhstMx"
  },
  {
   "cell_type": "code",
   "source": [
    "analyzer = create_analyzer(task=\"sentiment\", lang=\"es\")"
   ],
   "metadata": {
    "id": "0ldpxAFJ0FmF",
    "executionInfo": {
     "status": "ok",
     "timestamp": 1698214974049,
     "user_tz": 300,
     "elapsed": 11759,
     "user": {
      "displayName": "LUZ NICOLE VILCA GALLEGOS",
      "userId": "05134775234452312219"
     }
    },
    "colab": {
     "base_uri": "https://localhost:8080/",
     "height": 177,
     "referenced_widgets": [
      "2a5bbcd20bdb4219ab718a90f1fdb283",
      "0a3323551edb4bf3914bd0ee210a13ab",
      "27d72a42f7164bb197af7df7236c4583",
      "c4db105289484f2aaffefddea175d8d8",
      "36f5da9c171e4105a5e160d35bfb6404",
      "cde3034a36414f7bbb3d921d068afe7a",
      "6ada85da370248278a3416e81daa0ce1",
      "0795b29d8dbe479ab972f9112cda7a02",
      "e66fe7e708564dc285a6a0f588dc3f60",
      "a282ef132d304255aa79fad45519aa15",
      "2577329dcba543aca83a7fa672af4079",
      "4c4a7a94bcd945719fc4e74af0a2e985",
      "9e9cc275f18c48d2a1808bf16473c348",
      "c6699fc2c9244c849c5c915ac151b6d6",
      "a139d384a5944007851fb349a3b01d98",
      "454aeb35ad3b41f0bd14f71cf724835f",
      "24ad6bff0e254340927e0e051c669d79",
      "f6688528f3e440778efb24d2c7203db1",
      "d11e3263803f4034bda9c3d3fb053408",
      "82020efa1c7a41ac80478d7b1438bb01",
      "de4ac959dedc4d93928e991f61f41e44",
      "7286646da9fa4435859b94280eb9b825",
      "40e033078c304989be1204d708ebacae",
      "95c2f955b86040cd95a16b2cb1b9cc80",
      "a122d3850b7c4549b7d7fb48d2aced94",
      "86c55d46150646bc9d38ea2b15fa819c",
      "f1617423b77e46dda63e33fe3af63baa",
      "f8a698822d45406691c356b086e9aa58",
      "a9e710eddea14bf9be2aed70e1eee519",
      "6f2bd0e3c26e495596c867e5db6864d4",
      "2bdc237843314683877ae21bd3dfaeef",
      "152941946d2c47318a5a9a59d4225e6a",
      "b1cadfbc5f5041c89a10bbbe7084f386",
      "e85832ba8f4f4b168cb724a6ac717552",
      "c713b74c8a91482ba698489b1dbaf292",
      "bb29f7adf3b94636999dedf279f1f392",
      "807f2aa615ad43ac8862968fcd947c45",
      "8ea3f94c636a45afac50b333fe0f3a88",
      "eadefbb26b2149b0b86f14cbecd396c6",
      "5964e06b51a54f00b5826b6a1d275b5e",
      "5262355d890b4f4892792b09a70fdc30",
      "1d2e302a36184189a5ab4bc580cbcc02",
      "9d1fe3b1554542169add8e10e963cd68",
      "276065075c3440f3aa23fa76ae8a7d3f",
      "6572ecc5a1f34d759997cddca045dcda",
      "44bbc9c93ac347fe955060be1027ec0c",
      "b949cd4e81f442709a8391d29f46794d",
      "b7327f73860e4c90b453e02d1080bd10",
      "1a6ed8258c6d4f0fbc5b1e8775d8aeda",
      "9cb664b3e235428dbd24588a297cd9fc",
      "79c2838005274ee0af4d78303af0b2c0",
      "0b8c8a75a33945a4954e8d42ff638fff",
      "c6693cdf3d7b48e69949faed2c83054d",
      "92f11872ec8646ffaa866c3527df8240",
      "8cb254282b8c4664b7eeb4c9c117e871"
     ]
    },
    "outputId": "7fb4a7c4-b6e4-4b74-f799-45f36b996a1f"
   },
   "execution_count": null,
   "outputs": [],
   "id": "0ldpxAFJ0FmF"
  },
  {
   "cell_type": "code",
   "source": [
    "analyzer.predict(\"Esta es la peor clase que he tomado en mi carrera universitaria, falta poco para que ya no tenga que ver al profesor\")"
   ],
   "metadata": {
    "colab": {
     "base_uri": "https://localhost:8080/"
    },
    "id": "LbsJXQTu0EZb",
    "executionInfo": {
     "status": "ok",
     "timestamp": 1698214980015,
     "user_tz": 300,
     "elapsed": 525,
     "user": {
      "displayName": "LUZ NICOLE VILCA GALLEGOS",
      "userId": "05134775234452312219"
     }
    },
    "outputId": "279dc6e3-37c9-4361-909c-fcde744acabc"
   },
   "execution_count": null,
   "outputs": [],
   "id": "LbsJXQTu0EZb"
  },
  {
   "cell_type": "code",
   "source": [
    "analyzer.predict(\"Messi es un gran jugador, además de humilde!\")"
   ],
   "metadata": {
    "colab": {
     "base_uri": "https://localhost:8080/"
    },
    "id": "7teS4UHV0gqZ",
    "executionInfo": {
     "status": "ok",
     "timestamp": 1698214983585,
     "user_tz": 300,
     "elapsed": 205,
     "user": {
      "displayName": "LUZ NICOLE VILCA GALLEGOS",
      "userId": "05134775234452312219"
     }
    },
    "outputId": "7da271f5-9e1c-4fcb-e5be-d5e4e4921072"
   },
   "execution_count": null,
   "outputs": [],
   "id": "7teS4UHV0gqZ"
  },
  {
   "cell_type": "markdown",
   "source": [
    "Los modelos de pysentimiento son modelos entrenados usando TASS, SEMEval, y LINCE data sets.\n",
    "\n",
    "Nosotros vamos a entrenar nuestros modelos usando TASS"
   ],
   "metadata": {
    "id": "4kTknQi-7qVy"
   },
   "id": "4kTknQi-7qVy"
  },
  {
   "cell_type": "markdown",
   "source": [
    "# Análisis de sentimiento con Machine Learning (parte 3)\n",
    "\n",
    "- Si tenemos datos y parte de ellos están clasificados entonces podemos usar esos datos para entrenar nuestros algoritmos.\n",
    "- El problema es que necesitamos una gran cantidad de datos clasificados.\n",
    "\n",
    "### Segunda opción\n",
    "\n",
    "- Recurrimos a OTROS corpus ya clasificados! para entrenar nuestro algoritmo.\n",
    "- Entrenar con un corpus distinto al que tenemos puede ser útil, sin embargo tenemos que tener en cuenta que al no ser el mismo proceso generador de datos estamos agregando un ruido y erorr a nuestro proceso.\n",
    "- Entonces:\n",
    "  - El corpus de entrenamiento debe ser lo más cercano posible al 'target'\n",
    "  - La estrcutura del corpus también. (poesía con prosa)\n",
    "  - Los usos y reglas de los corpues debe ser similares (tweets vs documentos legales)\n"
   ],
   "metadata": {
    "id": "AKXOS-O-5tDy"
   },
   "id": "AKXOS-O-5tDy"
  },
  {
   "cell_type": "markdown",
   "source": [
    "![](https://th.bing.com/th/id/R.b7d5882804fa02dfb037e1a57c87605e?rik=Qz38o9OHxYLcwA&pid=ImgRaw&r=0)"
   ],
   "metadata": {
    "id": "sJv48XDQ9rct"
   },
   "id": "sJv48XDQ9rct"
  },
  {
   "cell_type": "markdown",
   "source": [
    "Algo muy importante.\n",
    "\n",
    "El objetivo no es que el algoritmo MEMORICE los datos!\n",
    "El objetivo es que se pueda GENERALIZAR el aprendizaje!"
   ],
   "metadata": {
    "id": "ZDXjvXUe-mC4"
   },
   "id": "ZDXjvXUe-mC4"
  },
  {
   "cell_type": "markdown",
   "source": [
    "\n",
    "\n",
    "## Overfitting & Underperformance\n",
    "\n",
    "- Hay dos desafíos importantes en el aprendizaje supervisado\n",
    "\n",
    "**Overfitting**: confundir el ruido con la señal\n",
    "  - probablemente sea un problema: con modelos muy complicados y aquellos que no usan conocimientos previos (**regularización**)\n",
    "  - consecuencia: tu modelo se ve genial en la muestra, pero no fuera de ella (¡que era el punto!)\n",
    "  - preocupación: ¿miraste fuera de la muestra?\n",
    "Sure! Here's the translation to Spanish:\n",
    "\n",
    "**Underperformance**: confundir la señal con el ruido\n",
    "  - probablemente sea un problema: con modelos muy simples y aquellos que usan conocimientos previos no útiles\n",
    "  - consecuencia: tu modelo se ve peor de lo que podría en la muestra y fuera de ella\n",
    "  - preocupación: ¿comparaste con otros modelos?\n"
   ],
   "metadata": {
    "id": "cCt-AhHP_aio"
   },
   "id": "cCt-AhHP_aio"
  },
  {
   "cell_type": "markdown",
   "source": [
    "### Pasos\n",
    "\n",
    "- 1) Dividir nuestra data en dos: entrenamiento y validación.\n",
    "- 2) La selección debe ser aleatoria!\n",
    "- 3) Una vez con el set de entrenamiento entrenamos nuestros algoritmos\n",
    "- 4) Con el set de validación medimos y evaluamos el mejor modelo!\n",
    "\n",
    "\n",
    "## Entrenemos nuestro modelo\n",
    "\n",
    "Usaremos la data de [TASS](http://tass.sepln.org/tass_data/download.php)\n",
    "\n"
   ],
   "metadata": {
    "id": "Zh0xI1JsANwt"
   },
   "id": "Zh0xI1JsANwt"
  },
  {
   "cell_type": "code",
   "source": [
    "import xml.etree.ElementTree as et\n",
    "from sklearn.feature_extraction.text import TfidfVectorizer\n",
    "from sklearn.decomposition import NMF\n",
    "from sklearn.manifold import TSNE\n",
    "from sklearn.naive_bayes import MultinomialNB\n",
    "from sklearn.feature_extraction.text import CountVectorizer\n",
    "from sklearn.model_selection import train_test_split\n",
    "from sklearn.metrics import confusion_matrix\n",
    "from sklearn.metrics import accuracy_score\n",
    "import seaborn as sns\n",
    "from sklearn.pipeline import Pipeline\n",
    "from nltk.stem.snowball import SnowballStemmer\n",
    "from sklearn.model_selection import GridSearchCV\n",
    "from joblib import dump\n",
    "from joblib import load"
   ],
   "metadata": {
    "id": "nvAbqqxQ5rlp"
   },
   "execution_count": null,
   "outputs": [],
   "id": "nvAbqqxQ5rlp"
  },
  {
   "cell_type": "code",
   "source": [
    "os.listdir(\"./TASS/\")"
   ],
   "metadata": {
    "colab": {
     "base_uri": "https://localhost:8080/"
    },
    "id": "rJ2m_2VR3NoP",
    "executionInfo": {
     "status": "ok",
     "timestamp": 1698215938239,
     "user_tz": 300,
     "elapsed": 209,
     "user": {
      "displayName": "LUZ NICOLE VILCA GALLEGOS",
      "userId": "05134775234452312219"
     }
    },
    "outputId": "61d88e9e-5d4c-49bd-ec33-cdf89a5cf803"
   },
   "execution_count": null,
   "outputs": [],
   "id": "rJ2m_2VR3NoP"
  },
  {
   "cell_type": "code",
   "source": [
    "file=\"./TASS/general-train-tagged.xml\"\n",
    "xtree = et.parse(file)\n",
    "xroot = xtree.getroot()"
   ],
   "metadata": {
    "id": "Rj5n2AjP2gTj"
   },
   "execution_count": null,
   "outputs": [],
   "id": "Rj5n2AjP2gTj"
  },
  {
   "cell_type": "code",
   "source": [
    "xroot[0]"
   ],
   "metadata": {
    "colab": {
     "base_uri": "https://localhost:8080/"
    },
    "id": "ayZ7WG5q3w4y",
    "executionInfo": {
     "status": "ok",
     "timestamp": 1698215973621,
     "user_tz": 300,
     "elapsed": 245,
     "user": {
      "displayName": "LUZ NICOLE VILCA GALLEGOS",
      "userId": "05134775234452312219"
     }
    },
    "outputId": "ba6df878-6251-4571-e183-3004be2cb3ec"
   },
   "execution_count": null,
   "outputs": [],
   "id": "ayZ7WG5q3w4y"
  },
  {
   "cell_type": "code",
   "source": [
    "xroot[1].find(\"content\").text"
   ],
   "metadata": {
    "colab": {
     "base_uri": "https://localhost:8080/",
     "height": 36
    },
    "id": "vJ2w1Z9e347u",
    "executionInfo": {
     "status": "ok",
     "timestamp": 1698215979742,
     "user_tz": 300,
     "elapsed": 232,
     "user": {
      "displayName": "LUZ NICOLE VILCA GALLEGOS",
      "userId": "05134775234452312219"
     }
    },
    "outputId": "019a2ab6-cac9-4c92-d26e-ca7dbdcc523d"
   },
   "execution_count": null,
   "outputs": [],
   "id": "vJ2w1Z9e347u"
  },
  {
   "cell_type": "code",
   "source": [
    "df_cols = [\"tweet\",\"sentiment\"]\n",
    "rows = []\n",
    "for node in xroot:\n",
    "    s_tweet = node.find(\"content\").text\n",
    "    s_pv= node.findall(\"sentiments\")\n",
    "    value=[]\n",
    "    for item in s_pv:\n",
    "        test=item.findall(\"polarity\")\n",
    "        value.append(test[0].find(\"value\").text)\n",
    "    rows.append({\"tweet\": s_tweet, \"sentiment\": value})"
   ],
   "metadata": {
    "id": "8MsS0PRe3Vki"
   },
   "execution_count": null,
   "outputs": [],
   "id": "8MsS0PRe3Vki"
  },
  {
   "cell_type": "code",
   "source": [
    "TASS = pd.DataFrame(rows, columns = df_cols)\n",
    "TASS.applymap(lambda x: x[0] if isinstance(x, list) else x)"
   ],
   "metadata": {
    "colab": {
     "base_uri": "https://localhost:8080/",
     "height": 423
    },
    "id": "ntzoMs4O3wKe",
    "executionInfo": {
     "status": "ok",
     "timestamp": 1698216000624,
     "user_tz": 300,
     "elapsed": 275,
     "user": {
      "displayName": "LUZ NICOLE VILCA GALLEGOS",
      "userId": "05134775234452312219"
     }
    },
    "outputId": "3a21e880-cf17-4a90-ec8a-5751afc85aef"
   },
   "execution_count": null,
   "outputs": [],
   "id": "ntzoMs4O3wKe"
  },
  {
   "cell_type": "code",
   "source": [
    "TASS.sentiment=TASS.sentiment.astype(str)\n",
    "print(TASS[\"sentiment\"].value_counts())\n"
   ],
   "metadata": {
    "colab": {
     "base_uri": "https://localhost:8080/"
    },
    "id": "cwc5Gu-j4kkb",
    "executionInfo": {
     "status": "ok",
     "timestamp": 1698216071789,
     "user_tz": 300,
     "elapsed": 297,
     "user": {
      "displayName": "LUZ NICOLE VILCA GALLEGOS",
      "userId": "05134775234452312219"
     }
    },
    "outputId": "206fb494-14c3-48b1-a922-a39997cbacf0"
   },
   "execution_count": null,
   "outputs": [],
   "id": "cwc5Gu-j4kkb"
  },
  {
   "cell_type": "code",
   "source": [
    "TASS=TASS[TASS[\"sentiment\"]!=\"['NONE']\"].copy().reset_index()\n",
    "TASS[\"sentiment\"]=TASS[\"sentiment\"].replace(\"['P+']\", 2)\n",
    "TASS[\"sentiment\"]=TASS[\"sentiment\"].replace(\"['NEU']\", 1)\n",
    "TASS[\"sentiment\"]=TASS[\"sentiment\"].replace(\"['N']\", 0)\n",
    "TASS[\"sentiment\"]=TASS[\"sentiment\"].replace(\"['N+']\", 0)\n",
    "TASS[\"sentiment\"]=TASS[\"sentiment\"].replace(\"['P']\", 2)\n",
    "print(TASS.shape)\n",
    "print(TASS[\"sentiment\"].value_counts())"
   ],
   "metadata": {
    "colab": {
     "base_uri": "https://localhost:8080/"
    },
    "id": "vZRtZQa_4rc4",
    "executionInfo": {
     "status": "ok",
     "timestamp": 1698216075874,
     "user_tz": 300,
     "elapsed": 236,
     "user": {
      "displayName": "LUZ NICOLE VILCA GALLEGOS",
      "userId": "05134775234452312219"
     }
    },
    "outputId": "8d7e15b8-2d35-48ae-aa4b-64986c1e98bc"
   },
   "execution_count": null,
   "outputs": [],
   "id": "vZRtZQa_4rc4"
  },
  {
   "cell_type": "code",
   "source": [
    "TASS.shape"
   ],
   "metadata": {
    "colab": {
     "base_uri": "https://localhost:8080/"
    },
    "id": "3kwUoW7D5-WJ",
    "executionInfo": {
     "status": "ok",
     "timestamp": 1698216081967,
     "user_tz": 300,
     "elapsed": 236,
     "user": {
      "displayName": "LUZ NICOLE VILCA GALLEGOS",
      "userId": "05134775234452312219"
     }
    },
    "outputId": "30a018dd-0c93-427f-ca43-aea7aebe5f2b"
   },
   "execution_count": null,
   "outputs": [],
   "id": "3kwUoW7D5-WJ"
  },
  {
   "cell_type": "code",
   "source": [
    "TASS.head()"
   ],
   "metadata": {
    "colab": {
     "base_uri": "https://localhost:8080/",
     "height": 206
    },
    "id": "6BtWhZrg6Yo1",
    "executionInfo": {
     "status": "ok",
     "timestamp": 1698216083103,
     "user_tz": 300,
     "elapsed": 241,
     "user": {
      "displayName": "LUZ NICOLE VILCA GALLEGOS",
      "userId": "05134775234452312219"
     }
    },
    "outputId": "bcf48507-aff7-4ea0-e453-0cbb6ad7290b"
   },
   "execution_count": null,
   "outputs": [],
   "id": "6BtWhZrg6Yo1"
  },
  {
   "cell_type": "markdown",
   "source": [
    "### Limpiamos nuestro texto!"
   ],
   "metadata": {
    "id": "10pmZLY3CH0I"
   },
   "id": "10pmZLY3CH0I"
  },
  {
   "cell_type": "code",
   "source": [
    "def clean_accents(tweet):\n",
    "    tweet = re.sub(r\"[àáâãäå]\", \"a\", tweet)\n",
    "    tweet = re.sub(r\"ç\", \"c\", tweet)\n",
    "    tweet = re.sub(r\"[èéêë]\", \"e\", tweet)\n",
    "    tweet = re.sub(r\"[ìíîï]\", \"i\", tweet)\n",
    "    tweet = re.sub(r\"[òóôõö]\", \"o\", tweet)\n",
    "    tweet = re.sub(r\"[ùúûü]\", \"u\", tweet)\n",
    "    tweet = re.sub(r\"[ýÿ]\", \"y\", tweet)\n",
    "\n",
    "    return tweet\n",
    "\n",
    "f1 = lambda x: re.sub('[,\\.!?:/@\"]', ' ', x)\n",
    "f2 = lambda x: str(x).lower()\n",
    "f3 = lambda x: ' '.join(w for w in x.split() if not w in stop)\n",
    "f4 = lambda x: ' '.join(w for w in x.split() if len(w)>3)"
   ],
   "metadata": {
    "id": "U69LXMFVCLDY"
   },
   "execution_count": null,
   "outputs": [],
   "id": "U69LXMFVCLDY"
  },
  {
   "cell_type": "code",
   "source": [
    "def tokenize(text):\n",
    "    return text.split()\n",
    "\n",
    "def tokenize_snowball(text):\n",
    "    return [snowballStemmer.stem(word) for word in text.split()]"
   ],
   "metadata": {
    "id": "KpYE3eGhPavP"
   },
   "execution_count": null,
   "outputs": [],
   "id": "KpYE3eGhPavP"
  },
  {
   "cell_type": "code",
   "source": [
    "stop= stopwords.words(\"spanish\")\n",
    "stop=stop+['https', 'RT', 't', 'co','htp']\n",
    "print(stop)"
   ],
   "metadata": {
    "colab": {
     "base_uri": "https://localhost:8080/"
    },
    "id": "df6Gs_9BCZds",
    "executionInfo": {
     "status": "ok",
     "timestamp": 1698216110026,
     "user_tz": 300,
     "elapsed": 245,
     "user": {
      "displayName": "LUZ NICOLE VILCA GALLEGOS",
      "userId": "05134775234452312219"
     }
    },
    "outputId": "67337dec-695b-46bd-9185-623c3169e31d"
   },
   "execution_count": null,
   "outputs": [],
   "id": "df6Gs_9BCZds"
  },
  {
   "cell_type": "code",
   "source": [
    "TASS['tweet']=TASS['tweet'].str.replace('\\n', ' ')"
   ],
   "metadata": {
    "id": "qPGFfEXoDbWf"
   },
   "execution_count": null,
   "outputs": [],
   "id": "qPGFfEXoDbWf"
  },
  {
   "cell_type": "code",
   "source": [
    "TASS['text_clean'] = TASS['tweet'].str.replace('\\(', \" \", regex=True).str.replace('\\)', \" \", regex=True)"
   ],
   "metadata": {
    "id": "Aus38WvhDl5R"
   },
   "execution_count": null,
   "outputs": [],
   "id": "Aus38WvhDl5R"
  },
  {
   "cell_type": "code",
   "source": [
    "TASS['text_clean'] = TASS['text_clean'].str.replace('[\\)\\[\\]‐#@]', \" \", regex=True)"
   ],
   "metadata": {
    "id": "EFV2tSSBDzSC"
   },
   "execution_count": null,
   "outputs": [],
   "id": "EFV2tSSBDzSC"
  },
  {
   "cell_type": "code",
   "source": [
    "TASS['text_clean'] =TASS['text_clean'].apply(f1).apply(f2).apply(f3).apply(f4).apply(clean_accents)"
   ],
   "metadata": {
    "id": "ieNtJ6h-D7vq"
   },
   "execution_count": null,
   "outputs": [],
   "id": "ieNtJ6h-D7vq"
  },
  {
   "cell_type": "code",
   "source": [
    "TASS[['tweet','text_clean']]"
   ],
   "metadata": {
    "colab": {
     "base_uri": "https://localhost:8080/",
     "height": 423
    },
    "id": "wBCoeM5hEHIr",
    "executionInfo": {
     "status": "ok",
     "timestamp": 1698216120347,
     "user_tz": 300,
     "elapsed": 248,
     "user": {
      "displayName": "LUZ NICOLE VILCA GALLEGOS",
      "userId": "05134775234452312219"
     }
    },
    "outputId": "da672128-95ec-4441-ef61-d65df6952940"
   },
   "execution_count": null,
   "outputs": [],
   "id": "wBCoeM5hEHIr"
  },
  {
   "cell_type": "markdown",
   "source": [
    "### Ahora dividamos nuestros datos, en entranamiento y en testeo"
   ],
   "metadata": {
    "id": "MWT_GYmo54Hl"
   },
   "id": "MWT_GYmo54Hl"
  },
  {
   "cell_type": "code",
   "source": [
    "trainingSize=0.65"
   ],
   "metadata": {
    "id": "R72v3dgt6rUY"
   },
   "execution_count": null,
   "outputs": [],
   "id": "R72v3dgt6rUY"
  },
  {
   "cell_type": "code",
   "source": [
    "muestra=round(TASS.shape[0]*trainingSize,0)\n",
    "muestra=int(muestra)\n",
    "muestra"
   ],
   "metadata": {
    "colab": {
     "base_uri": "https://localhost:8080/"
    },
    "id": "a1qY3QXc7fsm",
    "executionInfo": {
     "status": "ok",
     "timestamp": 1698216187657,
     "user_tz": 300,
     "elapsed": 210,
     "user": {
      "displayName": "LUZ NICOLE VILCA GALLEGOS",
      "userId": "05134775234452312219"
     }
    },
    "outputId": "207adce0-e98a-48c3-f65d-f43fe57a9f91"
   },
   "execution_count": null,
   "outputs": [],
   "id": "a1qY3QXc7fsm"
  },
  {
   "cell_type": "code",
   "source": [
    "\n",
    "np.random.seed(14)\n",
    "chosen_id = np.random.choice(TASS.shape[0], replace = False, size = muestra)\n"
   ],
   "metadata": {
    "id": "fnPxMZdI44-g"
   },
   "execution_count": null,
   "outputs": [],
   "id": "fnPxMZdI44-g"
  },
  {
   "cell_type": "code",
   "source": [
    "training=TASS.iloc[chosen_id]\n",
    "print(training.shape)\n",
    "print(training.head())"
   ],
   "metadata": {
    "colab": {
     "base_uri": "https://localhost:8080/"
    },
    "id": "JcRRSyME7mQ5",
    "executionInfo": {
     "status": "ok",
     "timestamp": 1698216193765,
     "user_tz": 300,
     "elapsed": 245,
     "user": {
      "displayName": "LUZ NICOLE VILCA GALLEGOS",
      "userId": "05134775234452312219"
     }
    },
    "outputId": "78fc55ba-7f8a-41cd-c700-b3945814e910"
   },
   "execution_count": null,
   "outputs": [],
   "id": "JcRRSyME7mQ5"
  },
  {
   "cell_type": "code",
   "source": [
    "test=TASS.iloc[~TASS.index.isin(chosen_id)].reset_index()\n",
    "print(test.shape)\n",
    "print(test.head())"
   ],
   "metadata": {
    "colab": {
     "base_uri": "https://localhost:8080/"
    },
    "id": "wkFbjAO_7SQe",
    "executionInfo": {
     "status": "ok",
     "timestamp": 1698216200062,
     "user_tz": 300,
     "elapsed": 236,
     "user": {
      "displayName": "LUZ NICOLE VILCA GALLEGOS",
      "userId": "05134775234452312219"
     }
    },
    "outputId": "f35e5c2d-eb5a-41af-f3df-a48daa7d7404"
   },
   "execution_count": null,
   "outputs": [],
   "id": "wkFbjAO_7SQe"
  },
  {
   "cell_type": "code",
   "source": [
    "Y_train=training['sentiment']\n",
    "X_train=training['text_clean']\n",
    "Y_test=test['sentiment']\n",
    "X_test=test['text_clean']"
   ],
   "metadata": {
    "id": "Od-JjDDiE8JJ"
   },
   "execution_count": null,
   "outputs": [],
   "id": "Od-JjDDiE8JJ"
  },
  {
   "cell_type": "code",
   "source": [
    "X_train"
   ],
   "metadata": {
    "colab": {
     "base_uri": "https://localhost:8080/"
    },
    "id": "PwuGH1qhGZ4B",
    "executionInfo": {
     "status": "ok",
     "timestamp": 1698216205853,
     "user_tz": 300,
     "elapsed": 351,
     "user": {
      "displayName": "LUZ NICOLE VILCA GALLEGOS",
      "userId": "05134775234452312219"
     }
    },
    "outputId": "66a4ebcb-d2db-4a83-99bd-f07d2d014d45"
   },
   "execution_count": null,
   "outputs": [],
   "id": "PwuGH1qhGZ4B"
  },
  {
   "cell_type": "markdown",
   "source": [
    "### Entrenamos el modelo luego de vectorizarlo"
   ],
   "metadata": {
    "id": "CBr7mLuICB81"
   },
   "id": "CBr7mLuICB81"
  },
  {
   "cell_type": "code",
   "source": [
    "vectorizer = CountVectorizer()\n",
    "X_train = vectorizer.fit_transform(X_train)"
   ],
   "metadata": {
    "id": "Ab9hPkUs9wcB"
   },
   "execution_count": null,
   "outputs": [],
   "id": "Ab9hPkUs9wcB"
  },
  {
   "cell_type": "code",
   "source": [
    "X_test = vectorizer.transform(X_test)"
   ],
   "metadata": {
    "id": "UsAEs2Z3GXUr"
   },
   "execution_count": null,
   "outputs": [],
   "id": "UsAEs2Z3GXUr"
  },
  {
   "cell_type": "code",
   "source": [
    "# Naive Bayes classifier\n",
    "clf = MultinomialNB()\n",
    "clf.fit(X_train, Y_train)"
   ],
   "metadata": {
    "colab": {
     "base_uri": "https://localhost:8080/",
     "height": 74
    },
    "id": "6WeN3r65Gjk7",
    "executionInfo": {
     "status": "ok",
     "timestamp": 1698216244043,
     "user_tz": 300,
     "elapsed": 289,
     "user": {
      "displayName": "LUZ NICOLE VILCA GALLEGOS",
      "userId": "05134775234452312219"
     }
    },
    "outputId": "693480c1-a4d3-47e4-8e9f-f2d1f31fda81"
   },
   "execution_count": null,
   "outputs": [],
   "id": "6WeN3r65Gjk7"
  },
  {
   "cell_type": "markdown",
   "source": [
    " ## ¿Es un buen modelo?\n",
    "\n",
    "\n",
    "- TP: True positive, $y_{i}=1, \\hat{y}_{i}=1$\n",
    "- TN: True negative, $y_{i}=0, \\hat{y}_{i}=0$\n",
    "- FP: False positive, $y_{i}=0, \\hat{y}_{i}=1$\n",
    "- FN: False negative, $y_{i}=1, \\hat{y}_{i}=0$"
   ],
   "metadata": {
    "id": "B6_qA9SDJ3IU"
   },
   "id": "B6_qA9SDJ3IU"
  },
  {
   "cell_type": "markdown",
   "source": [
    "Error = $\\frac{FP+FN}{FP+FN+TP+TN}$\n",
    "\n",
    "Accuracy = $\\frac{TP+TN}{FP+FN+TP+TN} = 1-ERR$"
   ],
   "metadata": {
    "id": "eQvIJkxPKXBO"
   },
   "id": "eQvIJkxPKXBO"
  },
  {
   "cell_type": "markdown",
   "source": [
    "False Positive Rate (FPR) $= \\frac{FP}{FP+TN} = \\frac{FP}{N} $, es el ratio de todos los falsos positivos con respecto al total de  (firmes) casos negativos\n",
    "\n",
    "True Positive Rate (FPR) $= \\frac{TP}{TP+FN} = \\frac{TP}{P} $, Ratio de los \"positivos\" con respecto al total de (firmes) casos positivos"
   ],
   "metadata": {
    "id": "iJcEhUZxKYzw"
   },
   "id": "iJcEhUZxKYzw"
  },
  {
   "cell_type": "markdown",
   "source": [
    "### Hacemos la prueba en los datos de testeo"
   ],
   "metadata": {
    "id": "42ZE2eYhlQ4k"
   },
   "id": "42ZE2eYhlQ4k"
  },
  {
   "cell_type": "code",
   "source": [
    "y_pred = clf.predict(X_test)"
   ],
   "metadata": {
    "id": "W4wSwc8dF9mP"
   },
   "execution_count": null,
   "outputs": [],
   "id": "W4wSwc8dF9mP"
  },
  {
   "cell_type": "code",
   "source": [
    "# create a confusion matrix\n",
    "cm = confusion_matrix(Y_test, y_pred)\n",
    "\n",
    "# plot the confusion matrix\n",
    "sns.heatmap(cm, annot=True, fmt='d')\n",
    "plt.xlabel('Predicted')\n",
    "plt.ylabel('True')\n",
    "plt.show()"
   ],
   "metadata": {
    "colab": {
     "base_uri": "https://localhost:8080/",
     "height": 449
    },
    "id": "BWpi5G7CGwuR",
    "executionInfo": {
     "status": "ok",
     "timestamp": 1698216369636,
     "user_tz": 300,
     "elapsed": 630,
     "user": {
      "displayName": "LUZ NICOLE VILCA GALLEGOS",
      "userId": "05134775234452312219"
     }
    },
    "outputId": "4d0ebc7f-9a87-4ef0-dd45-0ce9e00a4f3d"
   },
   "execution_count": null,
   "outputs": [],
   "id": "BWpi5G7CGwuR"
  },
  {
   "cell_type": "code",
   "source": [
    "print(accuracy_score(Y_test, y_pred))"
   ],
   "metadata": {
    "colab": {
     "base_uri": "https://localhost:8080/"
    },
    "id": "0Ev2v8udG32x",
    "executionInfo": {
     "status": "ok",
     "timestamp": 1698216377941,
     "user_tz": 300,
     "elapsed": 205,
     "user": {
      "displayName": "LUZ NICOLE VILCA GALLEGOS",
      "userId": "05134775234452312219"
     }
    },
    "outputId": "4afd188f-09c0-4da1-db39-1c403c9356fe"
   },
   "execution_count": null,
   "outputs": [],
   "id": "0Ev2v8udG32x"
  },
  {
   "cell_type": "code",
   "source": [
    "accuracy = (y_pred == Y_test).mean()\n",
    "accuracy"
   ],
   "metadata": {
    "colab": {
     "base_uri": "https://localhost:8080/"
    },
    "id": "lpLiiCiKHLEb",
    "executionInfo": {
     "status": "ok",
     "timestamp": 1698216379217,
     "user_tz": 300,
     "elapsed": 255,
     "user": {
      "displayName": "LUZ NICOLE VILCA GALLEGOS",
      "userId": "05134775234452312219"
     }
    },
    "outputId": "7fdbc9fe-6f83-4d5d-f84b-a713c554695c"
   },
   "execution_count": null,
   "outputs": [],
   "id": "lpLiiCiKHLEb"
  },
  {
   "cell_type": "markdown",
   "source": [
    "#### Mejoro el modelo si no limpiaba el texto?"
   ],
   "metadata": {
    "id": "yd5mJBZCIAh9"
   },
   "id": "yd5mJBZCIAh9"
  },
  {
   "cell_type": "code",
   "source": [
    "Y_train=training['sentiment']\n",
    "X_train=training['tweet']\n",
    "Y_test=test['sentiment']\n",
    "X_test=test['tweet']"
   ],
   "metadata": {
    "id": "5RgJfjG4Hfla"
   },
   "execution_count": null,
   "outputs": [],
   "id": "5RgJfjG4Hfla"
  },
  {
   "cell_type": "code",
   "source": [
    "vectorizer = CountVectorizer()\n",
    "X_train = vectorizer.fit_transform(X_train)\n",
    "X_test = vectorizer.transform(X_test)\n",
    "# Naive Bayes classifier\n",
    "clf = MultinomialNB()\n",
    "clf.fit(X_train, Y_train)\n",
    "y_pred = clf.predict(X_test)\n",
    "print(accuracy_score(Y_test, y_pred))"
   ],
   "metadata": {
    "colab": {
     "base_uri": "https://localhost:8080/"
    },
    "id": "ZmYpqmv9IJI2",
    "executionInfo": {
     "status": "ok",
     "timestamp": 1698216387343,
     "user_tz": 300,
     "elapsed": 462,
     "user": {
      "displayName": "LUZ NICOLE VILCA GALLEGOS",
      "userId": "05134775234452312219"
     }
    },
    "outputId": "2e5f8217-da1c-4e10-fac7-52def1552b31"
   },
   "execution_count": null,
   "outputs": [],
   "id": "ZmYpqmv9IJI2"
  },
  {
   "cell_type": "markdown",
   "source": [
    "![](https://th.bing.com/th/id/R.1d818c3182310c0796f35341eba6daea?rik=SfLqibvDyxo2hQ&riu=http%3a%2f%2fwww.relatably.com%2fm%2fimg%2fsurprised-memes%2fmaxresdefault.jpg&ehk=Fmu8SAT8P4bQA8Nmi2BcB3u94whbyjqBHeWi%2bw1YL34%3d&risl=&pid=ImgRaw&r=0)"
   ],
   "metadata": {
    "id": "PSi4WunTJeE4"
   },
   "id": "PSi4WunTJeE4"
  },
  {
   "cell_type": "markdown",
   "source": [
    "Que pasaba si usaba otro Vectorizer! TDIF en lugar de COUNT!\n"
   ],
   "metadata": {
    "id": "NNHskoQbL2CR"
   },
   "id": "NNHskoQbL2CR"
  },
  {
   "cell_type": "code",
   "source": [
    "Y_train=training['sentiment']\n",
    "X_train=training['text_clean']\n",
    "Y_test=test['sentiment']\n",
    "X_test=test['text_clean']"
   ],
   "metadata": {
    "id": "1CoAlSvML7tM"
   },
   "execution_count": null,
   "outputs": [],
   "id": "1CoAlSvML7tM"
  },
  {
   "cell_type": "code",
   "source": [
    "vectorizer = TfidfVectorizer()\n",
    "X_train = vectorizer.fit_transform(X_train)\n",
    "X_test = vectorizer.transform(X_test)\n",
    "# Naive Bayes classifier\n",
    "clf = MultinomialNB()\n",
    "clf.fit(X_train, Y_train)\n",
    "y_pred = clf.predict(X_test)\n",
    "print(accuracy_score(Y_test, y_pred))"
   ],
   "metadata": {
    "colab": {
     "base_uri": "https://localhost:8080/"
    },
    "id": "SIplf9N2MBte",
    "executionInfo": {
     "status": "ok",
     "timestamp": 1698216404756,
     "user_tz": 300,
     "elapsed": 838,
     "user": {
      "displayName": "LUZ NICOLE VILCA GALLEGOS",
      "userId": "05134775234452312219"
     }
    },
    "outputId": "388fc693-205d-49ff-c774-545da62371fd"
   },
   "execution_count": null,
   "outputs": [],
   "id": "SIplf9N2MBte"
  },
  {
   "cell_type": "code",
   "source": [
    "dir(clf)"
   ],
   "metadata": {
    "colab": {
     "base_uri": "https://localhost:8080/"
    },
    "id": "8SWVsEWlMqo3",
    "executionInfo": {
     "status": "ok",
     "timestamp": 1687237607524,
     "user_tz": 300,
     "elapsed": 3,
     "user": {
      "displayName": "José Luis Incio Coronado",
      "userId": "13246959836244588826"
     }
    },
    "outputId": "f2248fb7-b4e8-41e0-af3c-4339f1bdc1cc"
   },
   "execution_count": null,
   "outputs": [],
   "id": "8SWVsEWlMqo3"
  },
  {
   "cell_type": "markdown",
   "source": [
    "vamos a su [página](https://scikit-learn.org/stable/modules/generated/sklearn.naive_bayes.MultinomialNB.html)"
   ],
   "metadata": {
    "id": "XtEftKdbMmUs"
   },
   "id": "XtEftKdbMmUs"
  },
  {
   "cell_type": "code",
   "source": [
    "# Naive Bayes classifier\n",
    "clf = MultinomialNB(alpha=0.5)\n",
    "clf.fit(X_train, Y_train)\n",
    "y_pred = clf.predict(X_test)\n",
    "print(accuracy_score(Y_test, y_pred))"
   ],
   "metadata": {
    "colab": {
     "base_uri": "https://localhost:8080/"
    },
    "id": "XpwkaeWgMS1r",
    "executionInfo": {
     "status": "ok",
     "timestamp": 1698216417464,
     "user_tz": 300,
     "elapsed": 216,
     "user": {
      "displayName": "LUZ NICOLE VILCA GALLEGOS",
      "userId": "05134775234452312219"
     }
    },
    "outputId": "5b7766a7-091f-41a2-a09f-0d0b9ae710dc"
   },
   "execution_count": null,
   "outputs": [],
   "id": "XpwkaeWgMS1r"
  },
  {
   "cell_type": "code",
   "source": [
    "dir(vectorizer)"
   ],
   "metadata": {
    "colab": {
     "base_uri": "https://localhost:8080/"
    },
    "id": "ij_QpMuTlwIO",
    "executionInfo": {
     "status": "ok",
     "timestamp": 1698216481751,
     "user_tz": 300,
     "elapsed": 278,
     "user": {
      "displayName": "LUZ NICOLE VILCA GALLEGOS",
      "userId": "05134775234452312219"
     }
    },
    "outputId": "160ca05e-e234-4c73-a478-2470bd231ced"
   },
   "id": "ij_QpMuTlwIO",
   "execution_count": null,
   "outputs": []
  },
  {
   "cell_type": "markdown",
   "source": [
    "Vamos a su [página](https://scikit-learn.org/stable/modules/generated/sklearn.feature_extraction.text.TfidfVectorizer.html)"
   ],
   "metadata": {
    "id": "YZSWDRloNQts"
   },
   "id": "YZSWDRloNQts"
  },
  {
   "cell_type": "code",
   "source": [
    "Y_train=training['sentiment']\n",
    "X_train=training['text_clean']\n",
    "Y_test=test['sentiment']\n",
    "X_test=test['text_clean']\n",
    "vectorizer = TfidfVectorizer(ngram_range=(1,2))\n",
    "X_train = vectorizer.fit_transform(X_train)\n",
    "X_test = vectorizer.transform(X_test)\n",
    "# Naive Bayes classifier\n",
    "clf = MultinomialNB(alpha=0.5)\n",
    "clf.fit(X_train, Y_train)\n",
    "y_pred = clf.predict(X_test)\n",
    "print(accuracy_score(Y_test, y_pred))"
   ],
   "metadata": {
    "colab": {
     "base_uri": "https://localhost:8080/"
    },
    "id": "lRH66guzN5TC",
    "executionInfo": {
     "status": "ok",
     "timestamp": 1698216490409,
     "user_tz": 300,
     "elapsed": 1114,
     "user": {
      "displayName": "LUZ NICOLE VILCA GALLEGOS",
      "userId": "05134775234452312219"
     }
    },
    "outputId": "c3654a95-ce15-4553-8b15-9a5fa22c39c6"
   },
   "execution_count": null,
   "outputs": [],
   "id": "lRH66guzN5TC"
  },
  {
   "cell_type": "code",
   "source": [
    "Y_train=training['sentiment']\n",
    "X_train=training['tweet']\n",
    "Y_test=test['sentiment']\n",
    "X_test=test['tweet']\n",
    "vectorizer = TfidfVectorizer(ngram_range=(1,2))\n",
    "X_train = vectorizer.fit_transform(X_train)\n",
    "X_test = vectorizer.transform(X_test)\n",
    "# Naive Bayes classifier\n",
    "clf = MultinomialNB(alpha=0.5)\n",
    "clf.fit(X_train, Y_train)\n",
    "y_pred = clf.predict(X_test)\n",
    "print(accuracy_score(Y_test, y_pred))"
   ],
   "metadata": {
    "colab": {
     "base_uri": "https://localhost:8080/"
    },
    "id": "InuLR_IzOQzF",
    "executionInfo": {
     "status": "ok",
     "timestamp": 1698216498121,
     "user_tz": 300,
     "elapsed": 982,
     "user": {
      "displayName": "LUZ NICOLE VILCA GALLEGOS",
      "userId": "05134775234452312219"
     }
    },
    "outputId": "e413bed9-2794-4366-9ae3-92dbf17198b6"
   },
   "execution_count": null,
   "outputs": [],
   "id": "InuLR_IzOQzF"
  },
  {
   "cell_type": "code",
   "source": [
    "Y_train=training['sentiment']\n",
    "X_train=training['text_clean']\n",
    "Y_test=test['sentiment']\n",
    "X_test=test['text_clean']\n",
    "pipeline = Pipeline([(\"vect\", TfidfVectorizer()),(\"clf\", MultinomialNB())])\n",
    "\n",
    "params = [{\"vect__ngram_range\": [(1,1), (1,2)],\n",
    "              \"vect__stop_words\": [None],\n",
    "              \"vect__tokenizer\": [tokenize,\n",
    "                                  tokenize_snowball],\n",
    "              \"clf__alpha\": [0.01, 0.1, 0.5, 1.0, 3.0, 10.0]}]\n",
    "\n",
    "grid = GridSearchCV(estimator=pipeline, param_grid = params ,scoring='accuracy', cv=5, verbose=1, n_jobs=4)\n",
    "grid.fit(X_train,Y_train)\n",
    "model1 = grid.best_estimator_\n",
    "predictions_nbm= model1.predict(X_test)\n",
    "\n",
    "print(accuracy_score(Y_test, predictions_nbm))"
   ],
   "metadata": {
    "colab": {
     "base_uri": "https://localhost:8080/"
    },
    "id": "WLGg8H9GLvm5",
    "executionInfo": {
     "status": "ok",
     "timestamp": 1698216530167,
     "user_tz": 300,
     "elapsed": 18356,
     "user": {
      "displayName": "LUZ NICOLE VILCA GALLEGOS",
      "userId": "05134775234452312219"
     }
    },
    "outputId": "4d89917e-5e5d-4e33-bb96-164df00a2da7"
   },
   "execution_count": null,
   "outputs": [],
   "id": "WLGg8H9GLvm5"
  },
  {
   "cell_type": "code",
   "source": [
    "print(\"Best parameter set: {}\".format(grid.best_params_))"
   ],
   "metadata": {
    "colab": {
     "base_uri": "https://localhost:8080/"
    },
    "id": "cqT1s4MfOuD2",
    "executionInfo": {
     "status": "ok",
     "timestamp": 1698216551160,
     "user_tz": 300,
     "elapsed": 320,
     "user": {
      "displayName": "LUZ NICOLE VILCA GALLEGOS",
      "userId": "05134775234452312219"
     }
    },
    "outputId": "16f2e205-0052-455e-ed9f-92825bf031d0"
   },
   "execution_count": null,
   "outputs": [],
   "id": "cqT1s4MfOuD2"
  },
  {
   "cell_type": "code",
   "source": [
    "dump(model1, './naive_bayesM.joblib')"
   ],
   "metadata": {
    "colab": {
     "base_uri": "https://localhost:8080/"
    },
    "id": "dt5npRKKQouI",
    "executionInfo": {
     "status": "ok",
     "timestamp": 1698216591125,
     "user_tz": 300,
     "elapsed": 212,
     "user": {
      "displayName": "LUZ NICOLE VILCA GALLEGOS",
      "userId": "05134775234452312219"
     }
    },
    "outputId": "25cc43e0-d363-425c-cf03-7bb8bbf80467"
   },
   "execution_count": null,
   "outputs": [],
   "id": "dt5npRKKQouI"
  },
  {
   "cell_type": "markdown",
   "source": [
    "### Podemos intentar usarlo con unos datos fuera de su tema!"
   ],
   "metadata": {
    "id": "TfJ5Yl1vQ3ES"
   },
   "id": "TfJ5Yl1vQ3ES"
  },
  {
   "cell_type": "code",
   "source": [
    "os.listdir(\"./TASS/\")"
   ],
   "metadata": {
    "colab": {
     "base_uri": "https://localhost:8080/"
    },
    "id": "Ji6SXfdlRLm6",
    "executionInfo": {
     "status": "ok",
     "timestamp": 1698216623871,
     "user_tz": 300,
     "elapsed": 262,
     "user": {
      "displayName": "LUZ NICOLE VILCA GALLEGOS",
      "userId": "05134775234452312219"
     }
    },
    "outputId": "ccc42619-69ee-4e39-d7f8-9f8db8ab6db5"
   },
   "execution_count": null,
   "outputs": [],
   "id": "Ji6SXfdlRLm6"
  },
  {
   "cell_type": "code",
   "source": [
    "file=\"./TASS/politics-test-tagged.xml\"\n",
    "xtree = et.parse(file)\n",
    "xroot = xtree.getroot()"
   ],
   "metadata": {
    "id": "BV8V3afaQtT5"
   },
   "execution_count": null,
   "outputs": [],
   "id": "BV8V3afaQtT5"
  },
  {
   "cell_type": "code",
   "source": [
    "df_cols = [\"tweet\",\"sentiment\"]\n",
    "rows = []\n",
    "for node in xroot:\n",
    "    s_tweet = node.find(\"content\").text\n",
    "    s_pv= node.findall(\"sentiments\")\n",
    "    value=[]\n",
    "    for item in s_pv:\n",
    "        test=item.findall(\"polarity\")\n",
    "        value.append(test[0].find(\"value\").text)\n",
    "    rows.append({\"tweet\": s_tweet, \"sentiment\": value})"
   ],
   "metadata": {
    "id": "Ys3GQPB1RKV6"
   },
   "execution_count": null,
   "outputs": [],
   "id": "Ys3GQPB1RKV6"
  },
  {
   "cell_type": "code",
   "source": [
    "TASS2 = pd.DataFrame(rows, columns = df_cols)\n",
    "TASS2.applymap(lambda x: x[0] if isinstance(x, list) else x)"
   ],
   "metadata": {
    "colab": {
     "base_uri": "https://localhost:8080/",
     "height": 423
    },
    "id": "ScPIB9ZeRkBp",
    "executionInfo": {
     "status": "ok",
     "timestamp": 1698216664768,
     "user_tz": 300,
     "elapsed": 928,
     "user": {
      "displayName": "LUZ NICOLE VILCA GALLEGOS",
      "userId": "05134775234452312219"
     }
    },
    "outputId": "c7f59d3d-8942-48aa-d013-22c51b2310b0"
   },
   "execution_count": null,
   "outputs": [],
   "id": "ScPIB9ZeRkBp"
  },
  {
   "cell_type": "code",
   "source": [
    "TASS2.sentiment=TASS2.sentiment.astype(str)\n",
    "print(TASS2[\"sentiment\"].value_counts())"
   ],
   "metadata": {
    "colab": {
     "base_uri": "https://localhost:8080/"
    },
    "id": "vxiGdU2zUwIn",
    "executionInfo": {
     "status": "ok",
     "timestamp": 1698216670049,
     "user_tz": 300,
     "elapsed": 3,
     "user": {
      "displayName": "LUZ NICOLE VILCA GALLEGOS",
      "userId": "05134775234452312219"
     }
    },
    "outputId": "f6df67e2-fe28-480a-875d-86351fa0c553"
   },
   "execution_count": null,
   "outputs": [],
   "id": "vxiGdU2zUwIn"
  },
  {
   "cell_type": "code",
   "source": [
    "TASS3=TASS2[TASS2[\"sentiment\"]!=\"['NONE']\"].reset_index()"
   ],
   "metadata": {
    "id": "iQKZHFaYT5mN"
   },
   "execution_count": null,
   "outputs": [],
   "id": "iQKZHFaYT5mN"
  },
  {
   "cell_type": "code",
   "source": [
    "print(TASS3[\"sentiment\"].value_counts())"
   ],
   "metadata": {
    "colab": {
     "base_uri": "https://localhost:8080/"
    },
    "id": "1roqcIgUVR-7",
    "executionInfo": {
     "status": "ok",
     "timestamp": 1698216684069,
     "user_tz": 300,
     "elapsed": 220,
     "user": {
      "displayName": "LUZ NICOLE VILCA GALLEGOS",
      "userId": "05134775234452312219"
     }
    },
    "outputId": "fd0e6b8a-de53-465a-eb2b-e9667f2c8fc8"
   },
   "execution_count": null,
   "outputs": [],
   "id": "1roqcIgUVR-7"
  },
  {
   "cell_type": "code",
   "source": [
    "TASS3[\"sentiment\"]=TASS3[\"sentiment\"].replace(\"['NEU']\", 1)\n",
    "TASS3[\"sentiment\"]=TASS3[\"sentiment\"].replace(\"['N']\", 0)\n",
    "TASS3[\"sentiment\"]=TASS3[\"sentiment\"].replace(\"['P']\", 2)"
   ],
   "metadata": {
    "id": "BC2hvIONVCnR"
   },
   "execution_count": null,
   "outputs": [],
   "id": "BC2hvIONVCnR"
  },
  {
   "cell_type": "code",
   "source": [
    "print(TASS3[\"sentiment\"].value_counts())"
   ],
   "metadata": {
    "colab": {
     "base_uri": "https://localhost:8080/"
    },
    "id": "zNKqgeYRUjw7",
    "executionInfo": {
     "status": "ok",
     "timestamp": 1698216692087,
     "user_tz": 300,
     "elapsed": 226,
     "user": {
      "displayName": "LUZ NICOLE VILCA GALLEGOS",
      "userId": "05134775234452312219"
     }
    },
    "outputId": "c0b17505-729c-4fc5-84c3-b74fe826aa37"
   },
   "execution_count": null,
   "outputs": [],
   "id": "zNKqgeYRUjw7"
  },
  {
   "cell_type": "code",
   "source": [
    "TASS3['tweet']=TASS3['tweet'].str.replace('\\n', ' ')"
   ],
   "metadata": {
    "id": "ZcVGfXmERzVR"
   },
   "execution_count": null,
   "outputs": [],
   "id": "ZcVGfXmERzVR"
  },
  {
   "cell_type": "code",
   "source": [
    "TASS3['text_clean'] = TASS3['tweet'].str.replace('\\(', \" \", regex=True).str.replace('\\)', \" \", regex=True)"
   ],
   "metadata": {
    "id": "0wshtet0RzVb"
   },
   "execution_count": null,
   "outputs": [],
   "id": "0wshtet0RzVb"
  },
  {
   "cell_type": "code",
   "source": [
    "TASS3['text_clean'] = TASS3['text_clean'].str.replace('[\\)\\[\\]‐#@]', \" \", regex=True)"
   ],
   "metadata": {
    "id": "FHpTPcjbRzVc"
   },
   "execution_count": null,
   "outputs": [],
   "id": "FHpTPcjbRzVc"
  },
  {
   "cell_type": "code",
   "source": [
    "TASS3['text_clean'] =TASS3['text_clean'].apply(f1).apply(f2).apply(f3).apply(f4).apply(clean_accents)"
   ],
   "metadata": {
    "id": "T71HMTZFRzVc"
   },
   "execution_count": null,
   "outputs": [],
   "id": "T71HMTZFRzVc"
  },
  {
   "cell_type": "code",
   "source": [
    "TASS3[['tweet','text_clean']]"
   ],
   "metadata": {
    "colab": {
     "base_uri": "https://localhost:8080/",
     "height": 423
    },
    "executionInfo": {
     "status": "ok",
     "timestamp": 1698216701279,
     "user_tz": 300,
     "elapsed": 221,
     "user": {
      "displayName": "LUZ NICOLE VILCA GALLEGOS",
      "userId": "05134775234452312219"
     }
    },
    "outputId": "2300615c-75ee-49c2-eace-559e13329c31",
    "id": "YVQMWsttRzVc"
   },
   "execution_count": null,
   "outputs": [],
   "id": "YVQMWsttRzVc"
  },
  {
   "cell_type": "markdown",
   "source": [
    "### Realizamos la prueba"
   ],
   "metadata": {
    "id": "DyjqjIybQ2i7"
   },
   "id": "DyjqjIybQ2i7"
  },
  {
   "cell_type": "code",
   "source": [
    "Y_test=TASS3['sentiment']\n",
    "X_test=TASS3['text_clean']"
   ],
   "metadata": {
    "id": "e_mcN3FDR6aF"
   },
   "execution_count": null,
   "outputs": [],
   "id": "e_mcN3FDR6aF"
  },
  {
   "cell_type": "code",
   "source": [
    "Y_test"
   ],
   "metadata": {
    "colab": {
     "base_uri": "https://localhost:8080/"
    },
    "id": "mUN37xMzTsEA",
    "executionInfo": {
     "status": "ok",
     "timestamp": 1698216723391,
     "user_tz": 300,
     "elapsed": 223,
     "user": {
      "displayName": "LUZ NICOLE VILCA GALLEGOS",
      "userId": "05134775234452312219"
     }
    },
    "outputId": "72b29cb7-59cf-4e5d-d1de-42260fe5c87f"
   },
   "execution_count": null,
   "outputs": [],
   "id": "mUN37xMzTsEA"
  },
  {
   "cell_type": "code",
   "source": [
    "myModelo=load('./naive_bayesM.joblib')"
   ],
   "metadata": {
    "id": "kSUWp-bZSDtL"
   },
   "execution_count": null,
   "outputs": [],
   "id": "kSUWp-bZSDtL"
  },
  {
   "cell_type": "code",
   "source": [
    "predictions_nbm= myModelo.predict(X_test)"
   ],
   "metadata": {
    "id": "bj3iq2pDSUUS"
   },
   "execution_count": null,
   "outputs": [],
   "id": "bj3iq2pDSUUS"
  },
  {
   "cell_type": "code",
   "source": [
    "predictions_nbm"
   ],
   "metadata": {
    "colab": {
     "base_uri": "https://localhost:8080/"
    },
    "id": "klipy-EFTo7t",
    "executionInfo": {
     "status": "ok",
     "timestamp": 1698216741396,
     "user_tz": 300,
     "elapsed": 367,
     "user": {
      "displayName": "LUZ NICOLE VILCA GALLEGOS",
      "userId": "05134775234452312219"
     }
    },
    "outputId": "f80fe41b-ff6b-47ea-d042-ddbe74bafa63"
   },
   "execution_count": null,
   "outputs": [],
   "id": "klipy-EFTo7t"
  },
  {
   "cell_type": "code",
   "source": [
    "print(accuracy_score(Y_test, predictions_nbm))"
   ],
   "metadata": {
    "colab": {
     "base_uri": "https://localhost:8080/"
    },
    "id": "bEtgxL7xTdPZ",
    "executionInfo": {
     "status": "ok",
     "timestamp": 1698216743153,
     "user_tz": 300,
     "elapsed": 215,
     "user": {
      "displayName": "LUZ NICOLE VILCA GALLEGOS",
      "userId": "05134775234452312219"
     }
    },
    "outputId": "f8c0ebf2-d347-4b97-9ce7-7836f869120f"
   },
   "execution_count": null,
   "outputs": [],
   "id": "bEtgxL7xTdPZ"
  }
 ],
 "metadata": {
  "kernelspec": {
   "display_name": "Python 3 (ipykernel)",
   "language": "python",
   "name": "python3"
  },
  "language_info": {
   "codemirror_mode": {
    "name": "ipython",
    "version": 3
   },
   "file_extension": ".py",
   "mimetype": "text/x-python",
   "name": "python",
   "nbconvert_exporter": "python",
   "pygments_lexer": "ipython3",
   "version": "3.9.6"
  },
  "colab": {
   "provenance": [
    {
     "file_id": "1KrSoS0LhORqhMPkwpi8UMjr4M7z8xKa3",
     "timestamp": 1698209070656
    }
   ]
  },
  "widgets": {
   "application/vnd.jupyter.widget-state+json": {
    "2a5bbcd20bdb4219ab718a90f1fdb283": {
     "model_module": "@jupyter-widgets/controls",
     "model_name": "HBoxModel",
     "model_module_version": "1.5.0",
     "state": {
      "_dom_classes": [],
      "_model_module": "@jupyter-widgets/controls",
      "_model_module_version": "1.5.0",
      "_model_name": "HBoxModel",
      "_view_count": null,
      "_view_module": "@jupyter-widgets/controls",
      "_view_module_version": "1.5.0",
      "_view_name": "HBoxView",
      "box_style": "",
      "children": [
       "IPY_MODEL_0a3323551edb4bf3914bd0ee210a13ab",
       "IPY_MODEL_27d72a42f7164bb197af7df7236c4583",
       "IPY_MODEL_c4db105289484f2aaffefddea175d8d8"
      ],
      "layout": "IPY_MODEL_36f5da9c171e4105a5e160d35bfb6404"
     }
    },
    "0a3323551edb4bf3914bd0ee210a13ab": {
     "model_module": "@jupyter-widgets/controls",
     "model_name": "HTMLModel",
     "model_module_version": "1.5.0",
     "state": {
      "_dom_classes": [],
      "_model_module": "@jupyter-widgets/controls",
      "_model_module_version": "1.5.0",
      "_model_name": "HTMLModel",
      "_view_count": null,
      "_view_module": "@jupyter-widgets/controls",
      "_view_module_version": "1.5.0",
      "_view_name": "HTMLView",
      "description": "",
      "description_tooltip": null,
      "layout": "IPY_MODEL_cde3034a36414f7bbb3d921d068afe7a",
      "placeholder": "​",
      "style": "IPY_MODEL_6ada85da370248278a3416e81daa0ce1",
      "value": "Downloading (…)lve/main/config.json: 100%"
     }
    },
    "27d72a42f7164bb197af7df7236c4583": {
     "model_module": "@jupyter-widgets/controls",
     "model_name": "FloatProgressModel",
     "model_module_version": "1.5.0",
     "state": {
      "_dom_classes": [],
      "_model_module": "@jupyter-widgets/controls",
      "_model_module_version": "1.5.0",
      "_model_name": "FloatProgressModel",
      "_view_count": null,
      "_view_module": "@jupyter-widgets/controls",
      "_view_module_version": "1.5.0",
      "_view_name": "ProgressView",
      "bar_style": "success",
      "description": "",
      "description_tooltip": null,
      "layout": "IPY_MODEL_0795b29d8dbe479ab972f9112cda7a02",
      "max": 925,
      "min": 0,
      "orientation": "horizontal",
      "style": "IPY_MODEL_e66fe7e708564dc285a6a0f588dc3f60",
      "value": 925
     }
    },
    "c4db105289484f2aaffefddea175d8d8": {
     "model_module": "@jupyter-widgets/controls",
     "model_name": "HTMLModel",
     "model_module_version": "1.5.0",
     "state": {
      "_dom_classes": [],
      "_model_module": "@jupyter-widgets/controls",
      "_model_module_version": "1.5.0",
      "_model_name": "HTMLModel",
      "_view_count": null,
      "_view_module": "@jupyter-widgets/controls",
      "_view_module_version": "1.5.0",
      "_view_name": "HTMLView",
      "description": "",
      "description_tooltip": null,
      "layout": "IPY_MODEL_a282ef132d304255aa79fad45519aa15",
      "placeholder": "​",
      "style": "IPY_MODEL_2577329dcba543aca83a7fa672af4079",
      "value": " 925/925 [00:00&lt;00:00, 41.1kB/s]"
     }
    },
    "36f5da9c171e4105a5e160d35bfb6404": {
     "model_module": "@jupyter-widgets/base",
     "model_name": "LayoutModel",
     "model_module_version": "1.2.0",
     "state": {
      "_model_module": "@jupyter-widgets/base",
      "_model_module_version": "1.2.0",
      "_model_name": "LayoutModel",
      "_view_count": null,
      "_view_module": "@jupyter-widgets/base",
      "_view_module_version": "1.2.0",
      "_view_name": "LayoutView",
      "align_content": null,
      "align_items": null,
      "align_self": null,
      "border": null,
      "bottom": null,
      "display": null,
      "flex": null,
      "flex_flow": null,
      "grid_area": null,
      "grid_auto_columns": null,
      "grid_auto_flow": null,
      "grid_auto_rows": null,
      "grid_column": null,
      "grid_gap": null,
      "grid_row": null,
      "grid_template_areas": null,
      "grid_template_columns": null,
      "grid_template_rows": null,
      "height": null,
      "justify_content": null,
      "justify_items": null,
      "left": null,
      "margin": null,
      "max_height": null,
      "max_width": null,
      "min_height": null,
      "min_width": null,
      "object_fit": null,
      "object_position": null,
      "order": null,
      "overflow": null,
      "overflow_x": null,
      "overflow_y": null,
      "padding": null,
      "right": null,
      "top": null,
      "visibility": null,
      "width": null
     }
    },
    "cde3034a36414f7bbb3d921d068afe7a": {
     "model_module": "@jupyter-widgets/base",
     "model_name": "LayoutModel",
     "model_module_version": "1.2.0",
     "state": {
      "_model_module": "@jupyter-widgets/base",
      "_model_module_version": "1.2.0",
      "_model_name": "LayoutModel",
      "_view_count": null,
      "_view_module": "@jupyter-widgets/base",
      "_view_module_version": "1.2.0",
      "_view_name": "LayoutView",
      "align_content": null,
      "align_items": null,
      "align_self": null,
      "border": null,
      "bottom": null,
      "display": null,
      "flex": null,
      "flex_flow": null,
      "grid_area": null,
      "grid_auto_columns": null,
      "grid_auto_flow": null,
      "grid_auto_rows": null,
      "grid_column": null,
      "grid_gap": null,
      "grid_row": null,
      "grid_template_areas": null,
      "grid_template_columns": null,
      "grid_template_rows": null,
      "height": null,
      "justify_content": null,
      "justify_items": null,
      "left": null,
      "margin": null,
      "max_height": null,
      "max_width": null,
      "min_height": null,
      "min_width": null,
      "object_fit": null,
      "object_position": null,
      "order": null,
      "overflow": null,
      "overflow_x": null,
      "overflow_y": null,
      "padding": null,
      "right": null,
      "top": null,
      "visibility": null,
      "width": null
     }
    },
    "6ada85da370248278a3416e81daa0ce1": {
     "model_module": "@jupyter-widgets/controls",
     "model_name": "DescriptionStyleModel",
     "model_module_version": "1.5.0",
     "state": {
      "_model_module": "@jupyter-widgets/controls",
      "_model_module_version": "1.5.0",
      "_model_name": "DescriptionStyleModel",
      "_view_count": null,
      "_view_module": "@jupyter-widgets/base",
      "_view_module_version": "1.2.0",
      "_view_name": "StyleView",
      "description_width": ""
     }
    },
    "0795b29d8dbe479ab972f9112cda7a02": {
     "model_module": "@jupyter-widgets/base",
     "model_name": "LayoutModel",
     "model_module_version": "1.2.0",
     "state": {
      "_model_module": "@jupyter-widgets/base",
      "_model_module_version": "1.2.0",
      "_model_name": "LayoutModel",
      "_view_count": null,
      "_view_module": "@jupyter-widgets/base",
      "_view_module_version": "1.2.0",
      "_view_name": "LayoutView",
      "align_content": null,
      "align_items": null,
      "align_self": null,
      "border": null,
      "bottom": null,
      "display": null,
      "flex": null,
      "flex_flow": null,
      "grid_area": null,
      "grid_auto_columns": null,
      "grid_auto_flow": null,
      "grid_auto_rows": null,
      "grid_column": null,
      "grid_gap": null,
      "grid_row": null,
      "grid_template_areas": null,
      "grid_template_columns": null,
      "grid_template_rows": null,
      "height": null,
      "justify_content": null,
      "justify_items": null,
      "left": null,
      "margin": null,
      "max_height": null,
      "max_width": null,
      "min_height": null,
      "min_width": null,
      "object_fit": null,
      "object_position": null,
      "order": null,
      "overflow": null,
      "overflow_x": null,
      "overflow_y": null,
      "padding": null,
      "right": null,
      "top": null,
      "visibility": null,
      "width": null
     }
    },
    "e66fe7e708564dc285a6a0f588dc3f60": {
     "model_module": "@jupyter-widgets/controls",
     "model_name": "ProgressStyleModel",
     "model_module_version": "1.5.0",
     "state": {
      "_model_module": "@jupyter-widgets/controls",
      "_model_module_version": "1.5.0",
      "_model_name": "ProgressStyleModel",
      "_view_count": null,
      "_view_module": "@jupyter-widgets/base",
      "_view_module_version": "1.2.0",
      "_view_name": "StyleView",
      "bar_color": null,
      "description_width": ""
     }
    },
    "a282ef132d304255aa79fad45519aa15": {
     "model_module": "@jupyter-widgets/base",
     "model_name": "LayoutModel",
     "model_module_version": "1.2.0",
     "state": {
      "_model_module": "@jupyter-widgets/base",
      "_model_module_version": "1.2.0",
      "_model_name": "LayoutModel",
      "_view_count": null,
      "_view_module": "@jupyter-widgets/base",
      "_view_module_version": "1.2.0",
      "_view_name": "LayoutView",
      "align_content": null,
      "align_items": null,
      "align_self": null,
      "border": null,
      "bottom": null,
      "display": null,
      "flex": null,
      "flex_flow": null,
      "grid_area": null,
      "grid_auto_columns": null,
      "grid_auto_flow": null,
      "grid_auto_rows": null,
      "grid_column": null,
      "grid_gap": null,
      "grid_row": null,
      "grid_template_areas": null,
      "grid_template_columns": null,
      "grid_template_rows": null,
      "height": null,
      "justify_content": null,
      "justify_items": null,
      "left": null,
      "margin": null,
      "max_height": null,
      "max_width": null,
      "min_height": null,
      "min_width": null,
      "object_fit": null,
      "object_position": null,
      "order": null,
      "overflow": null,
      "overflow_x": null,
      "overflow_y": null,
      "padding": null,
      "right": null,
      "top": null,
      "visibility": null,
      "width": null
     }
    },
    "2577329dcba543aca83a7fa672af4079": {
     "model_module": "@jupyter-widgets/controls",
     "model_name": "DescriptionStyleModel",
     "model_module_version": "1.5.0",
     "state": {
      "_model_module": "@jupyter-widgets/controls",
      "_model_module_version": "1.5.0",
      "_model_name": "DescriptionStyleModel",
      "_view_count": null,
      "_view_module": "@jupyter-widgets/base",
      "_view_module_version": "1.2.0",
      "_view_name": "StyleView",
      "description_width": ""
     }
    },
    "4c4a7a94bcd945719fc4e74af0a2e985": {
     "model_module": "@jupyter-widgets/controls",
     "model_name": "HBoxModel",
     "model_module_version": "1.5.0",
     "state": {
      "_dom_classes": [],
      "_model_module": "@jupyter-widgets/controls",
      "_model_module_version": "1.5.0",
      "_model_name": "HBoxModel",
      "_view_count": null,
      "_view_module": "@jupyter-widgets/controls",
      "_view_module_version": "1.5.0",
      "_view_name": "HBoxView",
      "box_style": "",
      "children": [
       "IPY_MODEL_9e9cc275f18c48d2a1808bf16473c348",
       "IPY_MODEL_c6699fc2c9244c849c5c915ac151b6d6",
       "IPY_MODEL_a139d384a5944007851fb349a3b01d98"
      ],
      "layout": "IPY_MODEL_454aeb35ad3b41f0bd14f71cf724835f"
     }
    },
    "9e9cc275f18c48d2a1808bf16473c348": {
     "model_module": "@jupyter-widgets/controls",
     "model_name": "HTMLModel",
     "model_module_version": "1.5.0",
     "state": {
      "_dom_classes": [],
      "_model_module": "@jupyter-widgets/controls",
      "_model_module_version": "1.5.0",
      "_model_name": "HTMLModel",
      "_view_count": null,
      "_view_module": "@jupyter-widgets/controls",
      "_view_module_version": "1.5.0",
      "_view_name": "HTMLView",
      "description": "",
      "description_tooltip": null,
      "layout": "IPY_MODEL_24ad6bff0e254340927e0e051c669d79",
      "placeholder": "​",
      "style": "IPY_MODEL_f6688528f3e440778efb24d2c7203db1",
      "value": "Downloading pytorch_model.bin: 100%"
     }
    },
    "c6699fc2c9244c849c5c915ac151b6d6": {
     "model_module": "@jupyter-widgets/controls",
     "model_name": "FloatProgressModel",
     "model_module_version": "1.5.0",
     "state": {
      "_dom_classes": [],
      "_model_module": "@jupyter-widgets/controls",
      "_model_module_version": "1.5.0",
      "_model_name": "FloatProgressModel",
      "_view_count": null,
      "_view_module": "@jupyter-widgets/controls",
      "_view_module_version": "1.5.0",
      "_view_name": "ProgressView",
      "bar_style": "success",
      "description": "",
      "description_tooltip": null,
      "layout": "IPY_MODEL_d11e3263803f4034bda9c3d3fb053408",
      "max": 435234485,
      "min": 0,
      "orientation": "horizontal",
      "style": "IPY_MODEL_82020efa1c7a41ac80478d7b1438bb01",
      "value": 435234485
     }
    },
    "a139d384a5944007851fb349a3b01d98": {
     "model_module": "@jupyter-widgets/controls",
     "model_name": "HTMLModel",
     "model_module_version": "1.5.0",
     "state": {
      "_dom_classes": [],
      "_model_module": "@jupyter-widgets/controls",
      "_model_module_version": "1.5.0",
      "_model_name": "HTMLModel",
      "_view_count": null,
      "_view_module": "@jupyter-widgets/controls",
      "_view_module_version": "1.5.0",
      "_view_name": "HTMLView",
      "description": "",
      "description_tooltip": null,
      "layout": "IPY_MODEL_de4ac959dedc4d93928e991f61f41e44",
      "placeholder": "​",
      "style": "IPY_MODEL_7286646da9fa4435859b94280eb9b825",
      "value": " 435M/435M [00:06&lt;00:00, 69.3MB/s]"
     }
    },
    "454aeb35ad3b41f0bd14f71cf724835f": {
     "model_module": "@jupyter-widgets/base",
     "model_name": "LayoutModel",
     "model_module_version": "1.2.0",
     "state": {
      "_model_module": "@jupyter-widgets/base",
      "_model_module_version": "1.2.0",
      "_model_name": "LayoutModel",
      "_view_count": null,
      "_view_module": "@jupyter-widgets/base",
      "_view_module_version": "1.2.0",
      "_view_name": "LayoutView",
      "align_content": null,
      "align_items": null,
      "align_self": null,
      "border": null,
      "bottom": null,
      "display": null,
      "flex": null,
      "flex_flow": null,
      "grid_area": null,
      "grid_auto_columns": null,
      "grid_auto_flow": null,
      "grid_auto_rows": null,
      "grid_column": null,
      "grid_gap": null,
      "grid_row": null,
      "grid_template_areas": null,
      "grid_template_columns": null,
      "grid_template_rows": null,
      "height": null,
      "justify_content": null,
      "justify_items": null,
      "left": null,
      "margin": null,
      "max_height": null,
      "max_width": null,
      "min_height": null,
      "min_width": null,
      "object_fit": null,
      "object_position": null,
      "order": null,
      "overflow": null,
      "overflow_x": null,
      "overflow_y": null,
      "padding": null,
      "right": null,
      "top": null,
      "visibility": null,
      "width": null
     }
    },
    "24ad6bff0e254340927e0e051c669d79": {
     "model_module": "@jupyter-widgets/base",
     "model_name": "LayoutModel",
     "model_module_version": "1.2.0",
     "state": {
      "_model_module": "@jupyter-widgets/base",
      "_model_module_version": "1.2.0",
      "_model_name": "LayoutModel",
      "_view_count": null,
      "_view_module": "@jupyter-widgets/base",
      "_view_module_version": "1.2.0",
      "_view_name": "LayoutView",
      "align_content": null,
      "align_items": null,
      "align_self": null,
      "border": null,
      "bottom": null,
      "display": null,
      "flex": null,
      "flex_flow": null,
      "grid_area": null,
      "grid_auto_columns": null,
      "grid_auto_flow": null,
      "grid_auto_rows": null,
      "grid_column": null,
      "grid_gap": null,
      "grid_row": null,
      "grid_template_areas": null,
      "grid_template_columns": null,
      "grid_template_rows": null,
      "height": null,
      "justify_content": null,
      "justify_items": null,
      "left": null,
      "margin": null,
      "max_height": null,
      "max_width": null,
      "min_height": null,
      "min_width": null,
      "object_fit": null,
      "object_position": null,
      "order": null,
      "overflow": null,
      "overflow_x": null,
      "overflow_y": null,
      "padding": null,
      "right": null,
      "top": null,
      "visibility": null,
      "width": null
     }
    },
    "f6688528f3e440778efb24d2c7203db1": {
     "model_module": "@jupyter-widgets/controls",
     "model_name": "DescriptionStyleModel",
     "model_module_version": "1.5.0",
     "state": {
      "_model_module": "@jupyter-widgets/controls",
      "_model_module_version": "1.5.0",
      "_model_name": "DescriptionStyleModel",
      "_view_count": null,
      "_view_module": "@jupyter-widgets/base",
      "_view_module_version": "1.2.0",
      "_view_name": "StyleView",
      "description_width": ""
     }
    },
    "d11e3263803f4034bda9c3d3fb053408": {
     "model_module": "@jupyter-widgets/base",
     "model_name": "LayoutModel",
     "model_module_version": "1.2.0",
     "state": {
      "_model_module": "@jupyter-widgets/base",
      "_model_module_version": "1.2.0",
      "_model_name": "LayoutModel",
      "_view_count": null,
      "_view_module": "@jupyter-widgets/base",
      "_view_module_version": "1.2.0",
      "_view_name": "LayoutView",
      "align_content": null,
      "align_items": null,
      "align_self": null,
      "border": null,
      "bottom": null,
      "display": null,
      "flex": null,
      "flex_flow": null,
      "grid_area": null,
      "grid_auto_columns": null,
      "grid_auto_flow": null,
      "grid_auto_rows": null,
      "grid_column": null,
      "grid_gap": null,
      "grid_row": null,
      "grid_template_areas": null,
      "grid_template_columns": null,
      "grid_template_rows": null,
      "height": null,
      "justify_content": null,
      "justify_items": null,
      "left": null,
      "margin": null,
      "max_height": null,
      "max_width": null,
      "min_height": null,
      "min_width": null,
      "object_fit": null,
      "object_position": null,
      "order": null,
      "overflow": null,
      "overflow_x": null,
      "overflow_y": null,
      "padding": null,
      "right": null,
      "top": null,
      "visibility": null,
      "width": null
     }
    },
    "82020efa1c7a41ac80478d7b1438bb01": {
     "model_module": "@jupyter-widgets/controls",
     "model_name": "ProgressStyleModel",
     "model_module_version": "1.5.0",
     "state": {
      "_model_module": "@jupyter-widgets/controls",
      "_model_module_version": "1.5.0",
      "_model_name": "ProgressStyleModel",
      "_view_count": null,
      "_view_module": "@jupyter-widgets/base",
      "_view_module_version": "1.2.0",
      "_view_name": "StyleView",
      "bar_color": null,
      "description_width": ""
     }
    },
    "de4ac959dedc4d93928e991f61f41e44": {
     "model_module": "@jupyter-widgets/base",
     "model_name": "LayoutModel",
     "model_module_version": "1.2.0",
     "state": {
      "_model_module": "@jupyter-widgets/base",
      "_model_module_version": "1.2.0",
      "_model_name": "LayoutModel",
      "_view_count": null,
      "_view_module": "@jupyter-widgets/base",
      "_view_module_version": "1.2.0",
      "_view_name": "LayoutView",
      "align_content": null,
      "align_items": null,
      "align_self": null,
      "border": null,
      "bottom": null,
      "display": null,
      "flex": null,
      "flex_flow": null,
      "grid_area": null,
      "grid_auto_columns": null,
      "grid_auto_flow": null,
      "grid_auto_rows": null,
      "grid_column": null,
      "grid_gap": null,
      "grid_row": null,
      "grid_template_areas": null,
      "grid_template_columns": null,
      "grid_template_rows": null,
      "height": null,
      "justify_content": null,
      "justify_items": null,
      "left": null,
      "margin": null,
      "max_height": null,
      "max_width": null,
      "min_height": null,
      "min_width": null,
      "object_fit": null,
      "object_position": null,
      "order": null,
      "overflow": null,
      "overflow_x": null,
      "overflow_y": null,
      "padding": null,
      "right": null,
      "top": null,
      "visibility": null,
      "width": null
     }
    },
    "7286646da9fa4435859b94280eb9b825": {
     "model_module": "@jupyter-widgets/controls",
     "model_name": "DescriptionStyleModel",
     "model_module_version": "1.5.0",
     "state": {
      "_model_module": "@jupyter-widgets/controls",
      "_model_module_version": "1.5.0",
      "_model_name": "DescriptionStyleModel",
      "_view_count": null,
      "_view_module": "@jupyter-widgets/base",
      "_view_module_version": "1.2.0",
      "_view_name": "StyleView",
      "description_width": ""
     }
    },
    "40e033078c304989be1204d708ebacae": {
     "model_module": "@jupyter-widgets/controls",
     "model_name": "HBoxModel",
     "model_module_version": "1.5.0",
     "state": {
      "_dom_classes": [],
      "_model_module": "@jupyter-widgets/controls",
      "_model_module_version": "1.5.0",
      "_model_name": "HBoxModel",
      "_view_count": null,
      "_view_module": "@jupyter-widgets/controls",
      "_view_module_version": "1.5.0",
      "_view_name": "HBoxView",
      "box_style": "",
      "children": [
       "IPY_MODEL_95c2f955b86040cd95a16b2cb1b9cc80",
       "IPY_MODEL_a122d3850b7c4549b7d7fb48d2aced94",
       "IPY_MODEL_86c55d46150646bc9d38ea2b15fa819c"
      ],
      "layout": "IPY_MODEL_f1617423b77e46dda63e33fe3af63baa"
     }
    },
    "95c2f955b86040cd95a16b2cb1b9cc80": {
     "model_module": "@jupyter-widgets/controls",
     "model_name": "HTMLModel",
     "model_module_version": "1.5.0",
     "state": {
      "_dom_classes": [],
      "_model_module": "@jupyter-widgets/controls",
      "_model_module_version": "1.5.0",
      "_model_name": "HTMLModel",
      "_view_count": null,
      "_view_module": "@jupyter-widgets/controls",
      "_view_module_version": "1.5.0",
      "_view_name": "HTMLView",
      "description": "",
      "description_tooltip": null,
      "layout": "IPY_MODEL_f8a698822d45406691c356b086e9aa58",
      "placeholder": "​",
      "style": "IPY_MODEL_a9e710eddea14bf9be2aed70e1eee519",
      "value": "Downloading (…)okenizer_config.json: 100%"
     }
    },
    "a122d3850b7c4549b7d7fb48d2aced94": {
     "model_module": "@jupyter-widgets/controls",
     "model_name": "FloatProgressModel",
     "model_module_version": "1.5.0",
     "state": {
      "_dom_classes": [],
      "_model_module": "@jupyter-widgets/controls",
      "_model_module_version": "1.5.0",
      "_model_name": "FloatProgressModel",
      "_view_count": null,
      "_view_module": "@jupyter-widgets/controls",
      "_view_module_version": "1.5.0",
      "_view_name": "ProgressView",
      "bar_style": "success",
      "description": "",
      "description_tooltip": null,
      "layout": "IPY_MODEL_6f2bd0e3c26e495596c867e5db6864d4",
      "max": 384,
      "min": 0,
      "orientation": "horizontal",
      "style": "IPY_MODEL_2bdc237843314683877ae21bd3dfaeef",
      "value": 384
     }
    },
    "86c55d46150646bc9d38ea2b15fa819c": {
     "model_module": "@jupyter-widgets/controls",
     "model_name": "HTMLModel",
     "model_module_version": "1.5.0",
     "state": {
      "_dom_classes": [],
      "_model_module": "@jupyter-widgets/controls",
      "_model_module_version": "1.5.0",
      "_model_name": "HTMLModel",
      "_view_count": null,
      "_view_module": "@jupyter-widgets/controls",
      "_view_module_version": "1.5.0",
      "_view_name": "HTMLView",
      "description": "",
      "description_tooltip": null,
      "layout": "IPY_MODEL_152941946d2c47318a5a9a59d4225e6a",
      "placeholder": "​",
      "style": "IPY_MODEL_b1cadfbc5f5041c89a10bbbe7084f386",
      "value": " 384/384 [00:00&lt;00:00, 16.0kB/s]"
     }
    },
    "f1617423b77e46dda63e33fe3af63baa": {
     "model_module": "@jupyter-widgets/base",
     "model_name": "LayoutModel",
     "model_module_version": "1.2.0",
     "state": {
      "_model_module": "@jupyter-widgets/base",
      "_model_module_version": "1.2.0",
      "_model_name": "LayoutModel",
      "_view_count": null,
      "_view_module": "@jupyter-widgets/base",
      "_view_module_version": "1.2.0",
      "_view_name": "LayoutView",
      "align_content": null,
      "align_items": null,
      "align_self": null,
      "border": null,
      "bottom": null,
      "display": null,
      "flex": null,
      "flex_flow": null,
      "grid_area": null,
      "grid_auto_columns": null,
      "grid_auto_flow": null,
      "grid_auto_rows": null,
      "grid_column": null,
      "grid_gap": null,
      "grid_row": null,
      "grid_template_areas": null,
      "grid_template_columns": null,
      "grid_template_rows": null,
      "height": null,
      "justify_content": null,
      "justify_items": null,
      "left": null,
      "margin": null,
      "max_height": null,
      "max_width": null,
      "min_height": null,
      "min_width": null,
      "object_fit": null,
      "object_position": null,
      "order": null,
      "overflow": null,
      "overflow_x": null,
      "overflow_y": null,
      "padding": null,
      "right": null,
      "top": null,
      "visibility": null,
      "width": null
     }
    },
    "f8a698822d45406691c356b086e9aa58": {
     "model_module": "@jupyter-widgets/base",
     "model_name": "LayoutModel",
     "model_module_version": "1.2.0",
     "state": {
      "_model_module": "@jupyter-widgets/base",
      "_model_module_version": "1.2.0",
      "_model_name": "LayoutModel",
      "_view_count": null,
      "_view_module": "@jupyter-widgets/base",
      "_view_module_version": "1.2.0",
      "_view_name": "LayoutView",
      "align_content": null,
      "align_items": null,
      "align_self": null,
      "border": null,
      "bottom": null,
      "display": null,
      "flex": null,
      "flex_flow": null,
      "grid_area": null,
      "grid_auto_columns": null,
      "grid_auto_flow": null,
      "grid_auto_rows": null,
      "grid_column": null,
      "grid_gap": null,
      "grid_row": null,
      "grid_template_areas": null,
      "grid_template_columns": null,
      "grid_template_rows": null,
      "height": null,
      "justify_content": null,
      "justify_items": null,
      "left": null,
      "margin": null,
      "max_height": null,
      "max_width": null,
      "min_height": null,
      "min_width": null,
      "object_fit": null,
      "object_position": null,
      "order": null,
      "overflow": null,
      "overflow_x": null,
      "overflow_y": null,
      "padding": null,
      "right": null,
      "top": null,
      "visibility": null,
      "width": null
     }
    },
    "a9e710eddea14bf9be2aed70e1eee519": {
     "model_module": "@jupyter-widgets/controls",
     "model_name": "DescriptionStyleModel",
     "model_module_version": "1.5.0",
     "state": {
      "_model_module": "@jupyter-widgets/controls",
      "_model_module_version": "1.5.0",
      "_model_name": "DescriptionStyleModel",
      "_view_count": null,
      "_view_module": "@jupyter-widgets/base",
      "_view_module_version": "1.2.0",
      "_view_name": "StyleView",
      "description_width": ""
     }
    },
    "6f2bd0e3c26e495596c867e5db6864d4": {
     "model_module": "@jupyter-widgets/base",
     "model_name": "LayoutModel",
     "model_module_version": "1.2.0",
     "state": {
      "_model_module": "@jupyter-widgets/base",
      "_model_module_version": "1.2.0",
      "_model_name": "LayoutModel",
      "_view_count": null,
      "_view_module": "@jupyter-widgets/base",
      "_view_module_version": "1.2.0",
      "_view_name": "LayoutView",
      "align_content": null,
      "align_items": null,
      "align_self": null,
      "border": null,
      "bottom": null,
      "display": null,
      "flex": null,
      "flex_flow": null,
      "grid_area": null,
      "grid_auto_columns": null,
      "grid_auto_flow": null,
      "grid_auto_rows": null,
      "grid_column": null,
      "grid_gap": null,
      "grid_row": null,
      "grid_template_areas": null,
      "grid_template_columns": null,
      "grid_template_rows": null,
      "height": null,
      "justify_content": null,
      "justify_items": null,
      "left": null,
      "margin": null,
      "max_height": null,
      "max_width": null,
      "min_height": null,
      "min_width": null,
      "object_fit": null,
      "object_position": null,
      "order": null,
      "overflow": null,
      "overflow_x": null,
      "overflow_y": null,
      "padding": null,
      "right": null,
      "top": null,
      "visibility": null,
      "width": null
     }
    },
    "2bdc237843314683877ae21bd3dfaeef": {
     "model_module": "@jupyter-widgets/controls",
     "model_name": "ProgressStyleModel",
     "model_module_version": "1.5.0",
     "state": {
      "_model_module": "@jupyter-widgets/controls",
      "_model_module_version": "1.5.0",
      "_model_name": "ProgressStyleModel",
      "_view_count": null,
      "_view_module": "@jupyter-widgets/base",
      "_view_module_version": "1.2.0",
      "_view_name": "StyleView",
      "bar_color": null,
      "description_width": ""
     }
    },
    "152941946d2c47318a5a9a59d4225e6a": {
     "model_module": "@jupyter-widgets/base",
     "model_name": "LayoutModel",
     "model_module_version": "1.2.0",
     "state": {
      "_model_module": "@jupyter-widgets/base",
      "_model_module_version": "1.2.0",
      "_model_name": "LayoutModel",
      "_view_count": null,
      "_view_module": "@jupyter-widgets/base",
      "_view_module_version": "1.2.0",
      "_view_name": "LayoutView",
      "align_content": null,
      "align_items": null,
      "align_self": null,
      "border": null,
      "bottom": null,
      "display": null,
      "flex": null,
      "flex_flow": null,
      "grid_area": null,
      "grid_auto_columns": null,
      "grid_auto_flow": null,
      "grid_auto_rows": null,
      "grid_column": null,
      "grid_gap": null,
      "grid_row": null,
      "grid_template_areas": null,
      "grid_template_columns": null,
      "grid_template_rows": null,
      "height": null,
      "justify_content": null,
      "justify_items": null,
      "left": null,
      "margin": null,
      "max_height": null,
      "max_width": null,
      "min_height": null,
      "min_width": null,
      "object_fit": null,
      "object_position": null,
      "order": null,
      "overflow": null,
      "overflow_x": null,
      "overflow_y": null,
      "padding": null,
      "right": null,
      "top": null,
      "visibility": null,
      "width": null
     }
    },
    "b1cadfbc5f5041c89a10bbbe7084f386": {
     "model_module": "@jupyter-widgets/controls",
     "model_name": "DescriptionStyleModel",
     "model_module_version": "1.5.0",
     "state": {
      "_model_module": "@jupyter-widgets/controls",
      "_model_module_version": "1.5.0",
      "_model_name": "DescriptionStyleModel",
      "_view_count": null,
      "_view_module": "@jupyter-widgets/base",
      "_view_module_version": "1.2.0",
      "_view_name": "StyleView",
      "description_width": ""
     }
    },
    "e85832ba8f4f4b168cb724a6ac717552": {
     "model_module": "@jupyter-widgets/controls",
     "model_name": "HBoxModel",
     "model_module_version": "1.5.0",
     "state": {
      "_dom_classes": [],
      "_model_module": "@jupyter-widgets/controls",
      "_model_module_version": "1.5.0",
      "_model_name": "HBoxModel",
      "_view_count": null,
      "_view_module": "@jupyter-widgets/controls",
      "_view_module_version": "1.5.0",
      "_view_name": "HBoxView",
      "box_style": "",
      "children": [
       "IPY_MODEL_c713b74c8a91482ba698489b1dbaf292",
       "IPY_MODEL_bb29f7adf3b94636999dedf279f1f392",
       "IPY_MODEL_807f2aa615ad43ac8862968fcd947c45"
      ],
      "layout": "IPY_MODEL_8ea3f94c636a45afac50b333fe0f3a88"
     }
    },
    "c713b74c8a91482ba698489b1dbaf292": {
     "model_module": "@jupyter-widgets/controls",
     "model_name": "HTMLModel",
     "model_module_version": "1.5.0",
     "state": {
      "_dom_classes": [],
      "_model_module": "@jupyter-widgets/controls",
      "_model_module_version": "1.5.0",
      "_model_name": "HTMLModel",
      "_view_count": null,
      "_view_module": "@jupyter-widgets/controls",
      "_view_module_version": "1.5.0",
      "_view_name": "HTMLView",
      "description": "",
      "description_tooltip": null,
      "layout": "IPY_MODEL_eadefbb26b2149b0b86f14cbecd396c6",
      "placeholder": "​",
      "style": "IPY_MODEL_5964e06b51a54f00b5826b6a1d275b5e",
      "value": "Downloading (…)/main/tokenizer.json: 100%"
     }
    },
    "bb29f7adf3b94636999dedf279f1f392": {
     "model_module": "@jupyter-widgets/controls",
     "model_name": "FloatProgressModel",
     "model_module_version": "1.5.0",
     "state": {
      "_dom_classes": [],
      "_model_module": "@jupyter-widgets/controls",
      "_model_module_version": "1.5.0",
      "_model_name": "FloatProgressModel",
      "_view_count": null,
      "_view_module": "@jupyter-widgets/controls",
      "_view_module_version": "1.5.0",
      "_view_name": "ProgressView",
      "bar_style": "success",
      "description": "",
      "description_tooltip": null,
      "layout": "IPY_MODEL_5262355d890b4f4892792b09a70fdc30",
      "max": 1306803,
      "min": 0,
      "orientation": "horizontal",
      "style": "IPY_MODEL_1d2e302a36184189a5ab4bc580cbcc02",
      "value": 1306803
     }
    },
    "807f2aa615ad43ac8862968fcd947c45": {
     "model_module": "@jupyter-widgets/controls",
     "model_name": "HTMLModel",
     "model_module_version": "1.5.0",
     "state": {
      "_dom_classes": [],
      "_model_module": "@jupyter-widgets/controls",
      "_model_module_version": "1.5.0",
      "_model_name": "HTMLModel",
      "_view_count": null,
      "_view_module": "@jupyter-widgets/controls",
      "_view_module_version": "1.5.0",
      "_view_name": "HTMLView",
      "description": "",
      "description_tooltip": null,
      "layout": "IPY_MODEL_9d1fe3b1554542169add8e10e963cd68",
      "placeholder": "​",
      "style": "IPY_MODEL_276065075c3440f3aa23fa76ae8a7d3f",
      "value": " 1.31M/1.31M [00:00&lt;00:00, 10.1MB/s]"
     }
    },
    "8ea3f94c636a45afac50b333fe0f3a88": {
     "model_module": "@jupyter-widgets/base",
     "model_name": "LayoutModel",
     "model_module_version": "1.2.0",
     "state": {
      "_model_module": "@jupyter-widgets/base",
      "_model_module_version": "1.2.0",
      "_model_name": "LayoutModel",
      "_view_count": null,
      "_view_module": "@jupyter-widgets/base",
      "_view_module_version": "1.2.0",
      "_view_name": "LayoutView",
      "align_content": null,
      "align_items": null,
      "align_self": null,
      "border": null,
      "bottom": null,
      "display": null,
      "flex": null,
      "flex_flow": null,
      "grid_area": null,
      "grid_auto_columns": null,
      "grid_auto_flow": null,
      "grid_auto_rows": null,
      "grid_column": null,
      "grid_gap": null,
      "grid_row": null,
      "grid_template_areas": null,
      "grid_template_columns": null,
      "grid_template_rows": null,
      "height": null,
      "justify_content": null,
      "justify_items": null,
      "left": null,
      "margin": null,
      "max_height": null,
      "max_width": null,
      "min_height": null,
      "min_width": null,
      "object_fit": null,
      "object_position": null,
      "order": null,
      "overflow": null,
      "overflow_x": null,
      "overflow_y": null,
      "padding": null,
      "right": null,
      "top": null,
      "visibility": null,
      "width": null
     }
    },
    "eadefbb26b2149b0b86f14cbecd396c6": {
     "model_module": "@jupyter-widgets/base",
     "model_name": "LayoutModel",
     "model_module_version": "1.2.0",
     "state": {
      "_model_module": "@jupyter-widgets/base",
      "_model_module_version": "1.2.0",
      "_model_name": "LayoutModel",
      "_view_count": null,
      "_view_module": "@jupyter-widgets/base",
      "_view_module_version": "1.2.0",
      "_view_name": "LayoutView",
      "align_content": null,
      "align_items": null,
      "align_self": null,
      "border": null,
      "bottom": null,
      "display": null,
      "flex": null,
      "flex_flow": null,
      "grid_area": null,
      "grid_auto_columns": null,
      "grid_auto_flow": null,
      "grid_auto_rows": null,
      "grid_column": null,
      "grid_gap": null,
      "grid_row": null,
      "grid_template_areas": null,
      "grid_template_columns": null,
      "grid_template_rows": null,
      "height": null,
      "justify_content": null,
      "justify_items": null,
      "left": null,
      "margin": null,
      "max_height": null,
      "max_width": null,
      "min_height": null,
      "min_width": null,
      "object_fit": null,
      "object_position": null,
      "order": null,
      "overflow": null,
      "overflow_x": null,
      "overflow_y": null,
      "padding": null,
      "right": null,
      "top": null,
      "visibility": null,
      "width": null
     }
    },
    "5964e06b51a54f00b5826b6a1d275b5e": {
     "model_module": "@jupyter-widgets/controls",
     "model_name": "DescriptionStyleModel",
     "model_module_version": "1.5.0",
     "state": {
      "_model_module": "@jupyter-widgets/controls",
      "_model_module_version": "1.5.0",
      "_model_name": "DescriptionStyleModel",
      "_view_count": null,
      "_view_module": "@jupyter-widgets/base",
      "_view_module_version": "1.2.0",
      "_view_name": "StyleView",
      "description_width": ""
     }
    },
    "5262355d890b4f4892792b09a70fdc30": {
     "model_module": "@jupyter-widgets/base",
     "model_name": "LayoutModel",
     "model_module_version": "1.2.0",
     "state": {
      "_model_module": "@jupyter-widgets/base",
      "_model_module_version": "1.2.0",
      "_model_name": "LayoutModel",
      "_view_count": null,
      "_view_module": "@jupyter-widgets/base",
      "_view_module_version": "1.2.0",
      "_view_name": "LayoutView",
      "align_content": null,
      "align_items": null,
      "align_self": null,
      "border": null,
      "bottom": null,
      "display": null,
      "flex": null,
      "flex_flow": null,
      "grid_area": null,
      "grid_auto_columns": null,
      "grid_auto_flow": null,
      "grid_auto_rows": null,
      "grid_column": null,
      "grid_gap": null,
      "grid_row": null,
      "grid_template_areas": null,
      "grid_template_columns": null,
      "grid_template_rows": null,
      "height": null,
      "justify_content": null,
      "justify_items": null,
      "left": null,
      "margin": null,
      "max_height": null,
      "max_width": null,
      "min_height": null,
      "min_width": null,
      "object_fit": null,
      "object_position": null,
      "order": null,
      "overflow": null,
      "overflow_x": null,
      "overflow_y": null,
      "padding": null,
      "right": null,
      "top": null,
      "visibility": null,
      "width": null
     }
    },
    "1d2e302a36184189a5ab4bc580cbcc02": {
     "model_module": "@jupyter-widgets/controls",
     "model_name": "ProgressStyleModel",
     "model_module_version": "1.5.0",
     "state": {
      "_model_module": "@jupyter-widgets/controls",
      "_model_module_version": "1.5.0",
      "_model_name": "ProgressStyleModel",
      "_view_count": null,
      "_view_module": "@jupyter-widgets/base",
      "_view_module_version": "1.2.0",
      "_view_name": "StyleView",
      "bar_color": null,
      "description_width": ""
     }
    },
    "9d1fe3b1554542169add8e10e963cd68": {
     "model_module": "@jupyter-widgets/base",
     "model_name": "LayoutModel",
     "model_module_version": "1.2.0",
     "state": {
      "_model_module": "@jupyter-widgets/base",
      "_model_module_version": "1.2.0",
      "_model_name": "LayoutModel",
      "_view_count": null,
      "_view_module": "@jupyter-widgets/base",
      "_view_module_version": "1.2.0",
      "_view_name": "LayoutView",
      "align_content": null,
      "align_items": null,
      "align_self": null,
      "border": null,
      "bottom": null,
      "display": null,
      "flex": null,
      "flex_flow": null,
      "grid_area": null,
      "grid_auto_columns": null,
      "grid_auto_flow": null,
      "grid_auto_rows": null,
      "grid_column": null,
      "grid_gap": null,
      "grid_row": null,
      "grid_template_areas": null,
      "grid_template_columns": null,
      "grid_template_rows": null,
      "height": null,
      "justify_content": null,
      "justify_items": null,
      "left": null,
      "margin": null,
      "max_height": null,
      "max_width": null,
      "min_height": null,
      "min_width": null,
      "object_fit": null,
      "object_position": null,
      "order": null,
      "overflow": null,
      "overflow_x": null,
      "overflow_y": null,
      "padding": null,
      "right": null,
      "top": null,
      "visibility": null,
      "width": null
     }
    },
    "276065075c3440f3aa23fa76ae8a7d3f": {
     "model_module": "@jupyter-widgets/controls",
     "model_name": "DescriptionStyleModel",
     "model_module_version": "1.5.0",
     "state": {
      "_model_module": "@jupyter-widgets/controls",
      "_model_module_version": "1.5.0",
      "_model_name": "DescriptionStyleModel",
      "_view_count": null,
      "_view_module": "@jupyter-widgets/base",
      "_view_module_version": "1.2.0",
      "_view_name": "StyleView",
      "description_width": ""
     }
    },
    "6572ecc5a1f34d759997cddca045dcda": {
     "model_module": "@jupyter-widgets/controls",
     "model_name": "HBoxModel",
     "model_module_version": "1.5.0",
     "state": {
      "_dom_classes": [],
      "_model_module": "@jupyter-widgets/controls",
      "_model_module_version": "1.5.0",
      "_model_name": "HBoxModel",
      "_view_count": null,
      "_view_module": "@jupyter-widgets/controls",
      "_view_module_version": "1.5.0",
      "_view_name": "HBoxView",
      "box_style": "",
      "children": [
       "IPY_MODEL_44bbc9c93ac347fe955060be1027ec0c",
       "IPY_MODEL_b949cd4e81f442709a8391d29f46794d",
       "IPY_MODEL_b7327f73860e4c90b453e02d1080bd10"
      ],
      "layout": "IPY_MODEL_1a6ed8258c6d4f0fbc5b1e8775d8aeda"
     }
    },
    "44bbc9c93ac347fe955060be1027ec0c": {
     "model_module": "@jupyter-widgets/controls",
     "model_name": "HTMLModel",
     "model_module_version": "1.5.0",
     "state": {
      "_dom_classes": [],
      "_model_module": "@jupyter-widgets/controls",
      "_model_module_version": "1.5.0",
      "_model_name": "HTMLModel",
      "_view_count": null,
      "_view_module": "@jupyter-widgets/controls",
      "_view_module_version": "1.5.0",
      "_view_name": "HTMLView",
      "description": "",
      "description_tooltip": null,
      "layout": "IPY_MODEL_9cb664b3e235428dbd24588a297cd9fc",
      "placeholder": "​",
      "style": "IPY_MODEL_79c2838005274ee0af4d78303af0b2c0",
      "value": "Downloading (…)cial_tokens_map.json: 100%"
     }
    },
    "b949cd4e81f442709a8391d29f46794d": {
     "model_module": "@jupyter-widgets/controls",
     "model_name": "FloatProgressModel",
     "model_module_version": "1.5.0",
     "state": {
      "_dom_classes": [],
      "_model_module": "@jupyter-widgets/controls",
      "_model_module_version": "1.5.0",
      "_model_name": "FloatProgressModel",
      "_view_count": null,
      "_view_module": "@jupyter-widgets/controls",
      "_view_module_version": "1.5.0",
      "_view_name": "ProgressView",
      "bar_style": "success",
      "description": "",
      "description_tooltip": null,
      "layout": "IPY_MODEL_0b8c8a75a33945a4954e8d42ff638fff",
      "max": 167,
      "min": 0,
      "orientation": "horizontal",
      "style": "IPY_MODEL_c6693cdf3d7b48e69949faed2c83054d",
      "value": 167
     }
    },
    "b7327f73860e4c90b453e02d1080bd10": {
     "model_module": "@jupyter-widgets/controls",
     "model_name": "HTMLModel",
     "model_module_version": "1.5.0",
     "state": {
      "_dom_classes": [],
      "_model_module": "@jupyter-widgets/controls",
      "_model_module_version": "1.5.0",
      "_model_name": "HTMLModel",
      "_view_count": null,
      "_view_module": "@jupyter-widgets/controls",
      "_view_module_version": "1.5.0",
      "_view_name": "HTMLView",
      "description": "",
      "description_tooltip": null,
      "layout": "IPY_MODEL_92f11872ec8646ffaa866c3527df8240",
      "placeholder": "​",
      "style": "IPY_MODEL_8cb254282b8c4664b7eeb4c9c117e871",
      "value": " 167/167 [00:00&lt;00:00, 4.78kB/s]"
     }
    },
    "1a6ed8258c6d4f0fbc5b1e8775d8aeda": {
     "model_module": "@jupyter-widgets/base",
     "model_name": "LayoutModel",
     "model_module_version": "1.2.0",
     "state": {
      "_model_module": "@jupyter-widgets/base",
      "_model_module_version": "1.2.0",
      "_model_name": "LayoutModel",
      "_view_count": null,
      "_view_module": "@jupyter-widgets/base",
      "_view_module_version": "1.2.0",
      "_view_name": "LayoutView",
      "align_content": null,
      "align_items": null,
      "align_self": null,
      "border": null,
      "bottom": null,
      "display": null,
      "flex": null,
      "flex_flow": null,
      "grid_area": null,
      "grid_auto_columns": null,
      "grid_auto_flow": null,
      "grid_auto_rows": null,
      "grid_column": null,
      "grid_gap": null,
      "grid_row": null,
      "grid_template_areas": null,
      "grid_template_columns": null,
      "grid_template_rows": null,
      "height": null,
      "justify_content": null,
      "justify_items": null,
      "left": null,
      "margin": null,
      "max_height": null,
      "max_width": null,
      "min_height": null,
      "min_width": null,
      "object_fit": null,
      "object_position": null,
      "order": null,
      "overflow": null,
      "overflow_x": null,
      "overflow_y": null,
      "padding": null,
      "right": null,
      "top": null,
      "visibility": null,
      "width": null
     }
    },
    "9cb664b3e235428dbd24588a297cd9fc": {
     "model_module": "@jupyter-widgets/base",
     "model_name": "LayoutModel",
     "model_module_version": "1.2.0",
     "state": {
      "_model_module": "@jupyter-widgets/base",
      "_model_module_version": "1.2.0",
      "_model_name": "LayoutModel",
      "_view_count": null,
      "_view_module": "@jupyter-widgets/base",
      "_view_module_version": "1.2.0",
      "_view_name": "LayoutView",
      "align_content": null,
      "align_items": null,
      "align_self": null,
      "border": null,
      "bottom": null,
      "display": null,
      "flex": null,
      "flex_flow": null,
      "grid_area": null,
      "grid_auto_columns": null,
      "grid_auto_flow": null,
      "grid_auto_rows": null,
      "grid_column": null,
      "grid_gap": null,
      "grid_row": null,
      "grid_template_areas": null,
      "grid_template_columns": null,
      "grid_template_rows": null,
      "height": null,
      "justify_content": null,
      "justify_items": null,
      "left": null,
      "margin": null,
      "max_height": null,
      "max_width": null,
      "min_height": null,
      "min_width": null,
      "object_fit": null,
      "object_position": null,
      "order": null,
      "overflow": null,
      "overflow_x": null,
      "overflow_y": null,
      "padding": null,
      "right": null,
      "top": null,
      "visibility": null,
      "width": null
     }
    },
    "79c2838005274ee0af4d78303af0b2c0": {
     "model_module": "@jupyter-widgets/controls",
     "model_name": "DescriptionStyleModel",
     "model_module_version": "1.5.0",
     "state": {
      "_model_module": "@jupyter-widgets/controls",
      "_model_module_version": "1.5.0",
      "_model_name": "DescriptionStyleModel",
      "_view_count": null,
      "_view_module": "@jupyter-widgets/base",
      "_view_module_version": "1.2.0",
      "_view_name": "StyleView",
      "description_width": ""
     }
    },
    "0b8c8a75a33945a4954e8d42ff638fff": {
     "model_module": "@jupyter-widgets/base",
     "model_name": "LayoutModel",
     "model_module_version": "1.2.0",
     "state": {
      "_model_module": "@jupyter-widgets/base",
      "_model_module_version": "1.2.0",
      "_model_name": "LayoutModel",
      "_view_count": null,
      "_view_module": "@jupyter-widgets/base",
      "_view_module_version": "1.2.0",
      "_view_name": "LayoutView",
      "align_content": null,
      "align_items": null,
      "align_self": null,
      "border": null,
      "bottom": null,
      "display": null,
      "flex": null,
      "flex_flow": null,
      "grid_area": null,
      "grid_auto_columns": null,
      "grid_auto_flow": null,
      "grid_auto_rows": null,
      "grid_column": null,
      "grid_gap": null,
      "grid_row": null,
      "grid_template_areas": null,
      "grid_template_columns": null,
      "grid_template_rows": null,
      "height": null,
      "justify_content": null,
      "justify_items": null,
      "left": null,
      "margin": null,
      "max_height": null,
      "max_width": null,
      "min_height": null,
      "min_width": null,
      "object_fit": null,
      "object_position": null,
      "order": null,
      "overflow": null,
      "overflow_x": null,
      "overflow_y": null,
      "padding": null,
      "right": null,
      "top": null,
      "visibility": null,
      "width": null
     }
    },
    "c6693cdf3d7b48e69949faed2c83054d": {
     "model_module": "@jupyter-widgets/controls",
     "model_name": "ProgressStyleModel",
     "model_module_version": "1.5.0",
     "state": {
      "_model_module": "@jupyter-widgets/controls",
      "_model_module_version": "1.5.0",
      "_model_name": "ProgressStyleModel",
      "_view_count": null,
      "_view_module": "@jupyter-widgets/base",
      "_view_module_version": "1.2.0",
      "_view_name": "StyleView",
      "bar_color": null,
      "description_width": ""
     }
    },
    "92f11872ec8646ffaa866c3527df8240": {
     "model_module": "@jupyter-widgets/base",
     "model_name": "LayoutModel",
     "model_module_version": "1.2.0",
     "state": {
      "_model_module": "@jupyter-widgets/base",
      "_model_module_version": "1.2.0",
      "_model_name": "LayoutModel",
      "_view_count": null,
      "_view_module": "@jupyter-widgets/base",
      "_view_module_version": "1.2.0",
      "_view_name": "LayoutView",
      "align_content": null,
      "align_items": null,
      "align_self": null,
      "border": null,
      "bottom": null,
      "display": null,
      "flex": null,
      "flex_flow": null,
      "grid_area": null,
      "grid_auto_columns": null,
      "grid_auto_flow": null,
      "grid_auto_rows": null,
      "grid_column": null,
      "grid_gap": null,
      "grid_row": null,
      "grid_template_areas": null,
      "grid_template_columns": null,
      "grid_template_rows": null,
      "height": null,
      "justify_content": null,
      "justify_items": null,
      "left": null,
      "margin": null,
      "max_height": null,
      "max_width": null,
      "min_height": null,
      "min_width": null,
      "object_fit": null,
      "object_position": null,
      "order": null,
      "overflow": null,
      "overflow_x": null,
      "overflow_y": null,
      "padding": null,
      "right": null,
      "top": null,
      "visibility": null,
      "width": null
     }
    },
    "8cb254282b8c4664b7eeb4c9c117e871": {
     "model_module": "@jupyter-widgets/controls",
     "model_name": "DescriptionStyleModel",
     "model_module_version": "1.5.0",
     "state": {
      "_model_module": "@jupyter-widgets/controls",
      "_model_module_version": "1.5.0",
      "_model_name": "DescriptionStyleModel",
      "_view_count": null,
      "_view_module": "@jupyter-widgets/base",
      "_view_module_version": "1.2.0",
      "_view_name": "StyleView",
      "description_width": ""
     }
    }
   }
  }
 },
 "nbformat": 4,
 "nbformat_minor": 5
}
