{
 "cells": [
  {
   "cell_type": "code",
   "execution_count": null,
   "id": "initial_id",
   "metadata": {
    "collapsed": true
   },
   "outputs": [],
   "source": [
    "import os"
   ]
  },
  {
   "cell_type": "code",
   "execution_count": null,
   "outputs": [],
   "source": [
    "drive.mount(\"/content/drive\", force_remount=True)"
   ],
   "metadata": {
    "collapsed": false
   },
   "id": "d29dbacfe88e0f80"
  },
  {
   "cell_type": "code",
   "execution_count": null,
   "outputs": [],
   "source": [
    "directorio=os.getcwd()\n",
    "print(\"La carpeta sobre la cual estoy trabajando es:\", directorio)"
   ],
   "metadata": {
    "collapsed": false
   },
   "id": "1318486b7705792b"
  },
  {
   "cell_type": "code",
   "execution_count": null,
   "outputs": [],
   "source": [
    "with open(file=\"mensajepresidencialVP.txt\", mode=\"r\") as f:\n",
    "    print(f.read())"
   ],
   "metadata": {
    "collapsed": false
   },
   "id": "9dd399476ee0f249"
  },
  {
   "cell_type": "code",
   "execution_count": null,
   "outputs": [],
   "source": [
    "os.chdir(\"/content/drive/MyDrive/CursosD/TalleresExtension/QLAB_2023\")\n",
    "nuevodir=os.getcwd()\n",
    "print(\"La carpeta sobre la cual estoy trabajando es:\", nuevodir)\n",
    "os.listdir()"
   ],
   "metadata": {
    "collapsed": false
   },
   "id": "3769c9edbd8f51d7"
  },
  {
   "cell_type": "code",
   "execution_count": null,
   "outputs": [],
   "source": [
    "with open(file=\"mensajepresidencialVP.txt\", mode=\"r\") as f:\n",
    "    print(f.name)"
   ],
   "metadata": {
    "collapsed": false
   },
   "id": "8fe32a335df2fb3d"
  },
  {
   "cell_type": "code",
   "execution_count": null,
   "outputs": [],
   "source": [
    "with open(file=\"mensajepresidencialVP.txt\", mode=\"r\") as f:\n",
    "    print(f.readline())"
   ],
   "metadata": {
    "collapsed": false
   },
   "id": "7c6c6bfb8498ae9d"
  },
  {
   "cell_type": "code",
   "execution_count": null,
   "outputs": [],
   "source": [
    "with open(file=\"mensajepresidencialVP.txt\", mode=\"r\") as f:\n",
    "    print(f.readline())\n",
    "    print(f.readline())\n",
    "    print(f.readline())"
   ],
   "metadata": {
    "collapsed": false
   },
   "id": "3aabc2be52023af9"
  },
  {
   "cell_type": "code",
   "execution_count": null,
   "outputs": [],
   "source": [
    "with open(file=\"mensajepresidencialVP.txt\", mode=\"r\") as f:\n",
    "    for line in f:\n",
    "        print(line)"
   ],
   "metadata": {
    "collapsed": false
   },
   "id": "793224c7eb67bc07"
  },
  {
   "cell_type": "code",
   "execution_count": null,
   "outputs": [],
   "source": [
    "with open(file=\"mensajepresidencialVP.txt\", mode=\"r\") as f:\n",
    "    print(f.read()[0])"
   ],
   "metadata": {
    "collapsed": false
   },
   "id": "5f92dcd895cc8bce"
  },
  {
   "cell_type": "code",
   "execution_count": null,
   "outputs": [],
   "source": [
    "with open(file=\"mensajepresidencialVP.txt\", mode=\"r\") as f:\n",
    "    print(f.read()[0:10])"
   ],
   "metadata": {
    "collapsed": false
   },
   "id": "12b58198e787dac8"
  },
  {
   "cell_type": "code",
   "execution_count": null,
   "outputs": [],
   "source": [
    "with open(file=\"mensajepresidencialVP.txt\", mode=\"r\") as f:\n",
    "    mensaje1=f.read()"
   ],
   "metadata": {
    "collapsed": false
   },
   "id": "579a8ffb77e32ecd"
  },
  {
   "cell_type": "code",
   "execution_count": null,
   "outputs": [],
   "source": [
    "filas=[]\n",
    "with open(file=\"mensajepresidencialVP.txt\", mode=\"r\") as f:\n",
    "    for fila in f:\n",
    "        filas.append(fila)"
   ],
   "metadata": {
    "collapsed": false
   },
   "id": "4953b93d9f8b6c49"
  },
  {
   "cell_type": "code",
   "execution_count": null,
   "outputs": [],
   "source": [
    "filas[0].split()"
   ],
   "metadata": {
    "collapsed": false
   },
   "id": "f8710153012e6184"
  },
  {
   "cell_type": "code",
   "execution_count": null,
   "outputs": [],
   "source": [
    "set(filas[0].split())"
   ],
   "metadata": {
    "collapsed": false
   },
   "id": "7ba4d9cb32f4496a"
  },
  {
   "cell_type": "code",
   "execution_count": null,
   "outputs": [],
   "source": [
    "len(set(filas[0].split()))"
   ],
   "metadata": {
    "collapsed": false
   },
   "id": "843f2b9519f6d4fd"
  },
  {
   "cell_type": "code",
   "execution_count": null,
   "outputs": [],
   "source": [
    "filas=[]\n",
    "caracteres=[]\n",
    "palabras=[]\n",
    "unicas=[]\n",
    "with open(file=\"mensajepresidencialVP.txt\", mode=\"r\") as f:\n",
    "    for fila in f:\n",
    "        filas.append(fila)\n",
    "        caracteres.append(len(fila))\n",
    "        palabras.append(len(fila.split()))\n",
    "        unicas.append(len(set(fila.split())))"
   ],
   "metadata": {
    "collapsed": false
   },
   "id": "8bebdad58a0841cf"
  },
  {
   "cell_type": "code",
   "execution_count": null,
   "outputs": [],
   "source": [
    "print(filas[0:3])\n",
    "print(caracteres[0:3])\n",
    "print(palabras[0:3])\n",
    "print(unicas[0:3])"
   ],
   "metadata": {
    "collapsed": false
   },
   "id": "68f0c28d0eb22e48"
  },
  {
   "cell_type": "code",
   "execution_count": null,
   "outputs": [],
   "source": [
    "test1=filas[0].split()"
   ],
   "metadata": {
    "collapsed": false
   },
   "id": "ee32203b72eea2e5"
  },
  {
   "cell_type": "code",
   "execution_count": null,
   "outputs": [],
   "source": [
    "test1.count('DEL')"
   ],
   "metadata": {
    "collapsed": false
   },
   "id": "933e84bdaf22cf6c"
  },
  {
   "cell_type": "code",
   "execution_count": null,
   "outputs": [],
   "source": [
    "iccionarioDeTerminos = {}\n",
    "with open(file=\"mensajepresidencialVP.txt\", mode=\"r\") as f:\n",
    "    for line in f:\n",
    "        for word in line.split():\n",
    "            if word in DiccionarioDeTerminos.keys():\n",
    "                DiccionarioDeTerminos[word] += 1\n",
    "            else:\n",
    "                DiccionarioDeTerminos[word] = 1"
   ],
   "metadata": {
    "collapsed": false
   },
   "id": "c3586a1d852a8b18"
  },
  {
   "cell_type": "code",
   "execution_count": null,
   "outputs": [],
   "source": [
    "DiccionarioDeTerminos"
   ],
   "metadata": {
    "collapsed": false
   },
   "id": "48ce67ad390a5dcf"
  },
  {
   "cell_type": "code",
   "execution_count": null,
   "outputs": [],
   "source": [
    "sorted([[value, key] for key, value in DiccionarioDeTerminos.items()], reverse=True)[0:20]"
   ],
   "metadata": {
    "collapsed": false
   },
   "id": "e0840f5a899a1a7f"
  },
  {
   "cell_type": "code",
   "execution_count": null,
   "outputs": [],
   "source": [
    "test2 = lowerIt(tokenEspacioBlanco(mensaje1))"
   ],
   "metadata": {
    "collapsed": false
   },
   "id": "a423ad91cc4277cc"
  }
 ],
 "metadata": {
  "kernelspec": {
   "display_name": "Python 3",
   "language": "python",
   "name": "python3"
  },
  "language_info": {
   "codemirror_mode": {
    "name": "ipython",
    "version": 2
   },
   "file_extension": ".py",
   "mimetype": "text/x-python",
   "name": "python",
   "nbconvert_exporter": "python",
   "pygments_lexer": "ipython2",
   "version": "2.7.6"
  }
 },
 "nbformat": 4,
 "nbformat_minor": 5
}
