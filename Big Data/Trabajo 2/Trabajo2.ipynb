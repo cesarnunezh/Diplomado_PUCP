{
 "cells": [
  {
   "cell_type": "markdown",
   "source": [
    "# Trabajo 2 - Big Data\n",
    "<b>Integrantes:<b/> \n",
    "- Gabriela Calvo\n",
    "- Mauricio Ibáñez\n",
    "- César Núñez\n",
    "- Rodrigo Soto"
   ],
   "metadata": {
    "collapsed": false
   },
   "id": "8bb92e597586c04"
  },
  {
   "cell_type": "markdown",
   "source": [
    "# Parte I"
   ],
   "metadata": {
    "collapsed": false
   },
   "id": "923fdb44aa02dde6"
  },
  {
   "cell_type": "markdown",
   "source": [
    "#### 1. Explique, de manera sencilla, cómo el algoritmo de Dask se relaciona con el método de Foster. Agregue ejemplos. (150 palabras, 1 puntos) \n",
    "El Dask, recoge el concepto de la metodología de Foster para la implementación de la paralelización de tareas, y además los incorpora para su diseño y funcionamiento. Es especialmente útil en grandes volúmenes de datos que puedan ser distribuidos en tareas paralelizables, y así aprovechar las mismas en maximizar los recursos de cómputo, análisis de datos, modelos de machine learning, entre otras.\n",
    "Un ejemplo sería, la evaluación del rendimiento escolar vinculado a la infraestructura educativa, para evaluar este impacto requeriría que se abarque información respecto al rendimiento escolar y el estado de la infraestructura educativa; en distritos, provincias o regiones, dependiendo la precisión con que se quiere medir. En este caso, el Dask podría paralelizar la recopilación de datos y el análisis de los mismos, aprovechando el agrupamiento de tareas. Esto, a su vez, respaldaría la toma de decisiones educativas, entre ellas, la asignación de recursos para intervenciones en infraestructura."
   ],
   "metadata": {
    "collapsed": false
   },
   "id": "c5999c73af007fae"
  },
  {
   "cell_type": "markdown",
   "source": [
    "#### 2. No todo se debe paralelizar. ¿Bajo qué circuntancias la paralelización podría ser ineficiente? Provea al menos dos ejemplos. (150 palabras, 1 puntos)\n",
    "Podría ser ineficiente debido a la capacidad limitada de recursos en software y/o hardware del cpu y gpu, lo que podría generar cuellos de botella, en vez de acelerar los procesos y resultados. Asimismo, podría ser ineficiente en la compilación de un código o script, dado que en la mayoría de casos éste depende del resultado de lo anterior para que pueda continuar con el proceso. \n",
    "Por ejemplo, en el caso de modelos de churn, la paralización es ineficiente, toda vez que es necesario conocer el comportamiento de los clientes, es decir la secuencialidad de los eventos producidos para etiquetar a un cliente como “fuga” o “no fuga”, y posterior predicción. Otro ejemplo sería, en un modelo para la mejora del tráfico automovilístico en el Perú, dada la información en tiempo real y eventos de diferente naturaleza para optimizar el flujo vehicular, no es posible que este sea paralelizable.\n"
   ],
   "metadata": {
    "collapsed": false
   },
   "id": "520ca0b68115008c"
  },
  {
   "cell_type": "markdown",
   "source": [
    "#### 3. Revise el artículo de Desouza y Smith (2014) en Stanford Social Innovation Review y la presentación de Ng en el Data+AI Summit 2022. Elabore un comentario informado y crítico sobre “Good Data & Big Data”. ¿uno reemplazará al otro y por qué? ¿se pueden complementar y cómo? Agregue al menos dos ejemplos/ideas acordes a su argumento relacionados al caso peruano (400 palabras, 4 puntos). \n",
    "Respecto a la GoodData, se refiere a la calidad y confiabilidad de los datos, ya que estos serán apropiados para implementar un “modelo” vinculado principalmente a la IA; respecto al Big Data, se refiere a la cantidad, volumen y el recojo de los datos, ya sea en data estructurada o no estructurada, entre otros. Cabe precisar, que el GoodData enriquecerá al BigData, y son términos que no son independientes, ambos enfoques son esenciales para aprovechar e incrementar el valor de los datos, lo cual contribuiría en la planificación estratégica y son cruciales para garantizar el éxito en políticas públicas. Estos dos términos se complementarán al momento de elaborar un “modelo”, toda vez que si no se tienen datos adecuados, el resultado del “modelo” no será el óptimo; si se tiene la suficiente cantidad de datos los cuales son de calidad, los resultados que arroje el análisis de los mismos, servirán de base para tomar decisiones confiables e informadas. \n",
    "\n",
    "Por ejemplo, un problema de la gestión pública, está vinculada a las contrataciones públicas, precisamente en saldos de obra, toda vez que, contando con cantidad y calidad de los datos el cual está vinculado a los dos términos materia de análisis, se podrían generar modelos de ML y tomar acciones para prevenir la resolución de obras por diversos factores; es conocido que hay contratistas que se benefician de las obras, suscriben contratos, ejecutan la obra parcialmente y posteriormente no las culminan, lo que resulta en saldos de obra, generando perjuicios para el sector público y la población beneficiaria; posterior al saldo de obra, se elaborará nuevamente el expediente técnico y se convocará a proceso de selección, lo que generará que la obra en mención, sea construida años después de lo previsto. \n",
    "\n",
    "Otro ejemplo vinculado a las contrataciones públicas, es respecto a la ejecución de las obras; es fundamental contar con la información adecuada de la ejecución de las obras, respecto a los contratistas ejecutoras, el presupuesto adjudicado y el presupuesto con el cual culmina dicha obra, plazo inicial y final,  entre otros, toda vez que, algunos contratistas se aprovechan de diversos factores para generar mayores costos, que están vinculados con adicionales de obra y las ampliaciones de plazos, generando mayores ganancias para los contratistas; por tal motivo, es importante recopilar estos datos de manera adecuada a fin elaborar un modelo predictivo para detectar estos posibles casos y tomar acciones correctivas."
   ],
   "metadata": {
    "collapsed": false
   },
   "id": "3e5d035182e955d7"
  },
  {
   "cell_type": "markdown",
   "source": [
    "#### 4. Imagina que estás trabajando en un proyecto de análisis de datos para una empresa que maneja una gran cantidad de registros de ventas en línea. Explica cómo Dask podría aplicarse de manera específica para acelerar el procesamiento y análisis de estos registros. Proporciona un ejemplo detallado de cómo Dask podría utilizarse para realizar una tarea específica en este contexto y menciona las ventajas que ofrece Dask en términos de paralelización y escalabilidad en comparación con enfoques tradicionales. (300 palabras, 2 puntos)\n",
    "En el hipotético caso que trabajáramos para Amazon, empresa que posee un gran flujo de interacciones; y nos solicitaran acelerar el procesamiento y análisis de los datos recogidos por usuario, logística, el comportamiento del cliente; se realizaría lo siguiente:\n",
    "En primer lugar, se trazaría el <b>objetivo</b>, que sería identificar y analizar las tendencias de ventas según categoría y región de los productos que se ofrecen a través de Amazon.\n",
    "Posteriormente, se utilizaría Dask para <b>cargar información de manera paralelizada</b>, lo que permitirá que se dividan los datos en particiones (ya sea archivo CSV, Excel, etc.), acelerando el proceso de lectura y preparación de datos. Se estarían cargando los datos de ventas y también la información geográfica de cada transacción.\n",
    "Seguido de ello, se pasaría a la etapa de <b>procesamiento y agrupación paralela de datos</b>, en el caso de las ventas según categoría y por región, le pediremos a Dask que distribuya la información en diferentes núcleos de la computadora. Esto permitirá el aprovechamiento máximo los recursos de hardware que poseemos y también los CPU.\n",
    "Finalmente, entraríamos a la optimización de recursos o <i><b>Lazy Evaluator</b></i>, ya que Dask realiza cálculos solo cuando se requiere, ello permitirá que la información fluya de manera rápida. Ello evitará cargar la memoria con todo el conjunto de datos.\n",
    "La ventaja de Dask reside en su distribución automática para las tareas múltiples en núcleos evitando la sobrecarga y latencia, permitiendo la serialización mínima; lo cual acelera el proceso de comparación. Asimismo, puede trabajar con bibliotecas para el análisis de estadísticos en Python como Numpy, Scikit o Pandas, facilitando la transición desde enfoques tradicionales.\n"
   ],
   "metadata": {
    "collapsed": false
   },
   "id": "726235b81a6645db"
  },
  {
   "cell_type": "markdown",
   "source": [
    "# Parte II"
   ],
   "metadata": {
    "collapsed": false
   },
   "id": "52e27395959585f7"
  },
  {
   "cell_type": "markdown",
   "source": [
    "#### 1. (1 punto) Presentación y relevancia del problema de predicción que se desea realizar (por ejemplo, predecir la vulnerabilidad de los hogares en el Perú). Defina claramente qué datos utilizara, cuál es su variable target y cuáles sus predictores.\n",
    "Un componente fundamental de la educación en el Perú se relaciona con el desafío de cerrar la brecha de infraestructura educativa (BIE), la cual actualmente asciende a S/ 152 mil millones. Para abordar efectivamente este problema, es importante implementar acciones estratégicas y políticas públicas en el menor tiempo posible. Para llevar a cabo esta tarea, se requiere asignar recursos adecuados y una planificación minuciosa por parte del Gobierno Nacional (GN), a través del Ministerio de Educación (MINEDU), involucrando a diversos actores, incluyendo los tres niveles de gobierno (Gobierno Nacional, Regional y Local).\n",
    "En este contexto, el GN, en colaboración con múltiples interesados, ha desarrollado el Plan Nacional de Infraestructura Educativa al 2025 (PNIE). Este plan plantea una estrategia para cerrar la BIE y es un componente central de la planificación de la infraestructura educativa a largo plazo en el Perú. Es importante resaltar que, según el PNIE de 2017, la estimación de la BIE se sitúa en S/. 100 mil millones, lo que representa un aumento de más del 50% en comparación con la cifra actual.\n",
    "En esa misma línea, de acuerdo con la Consulta Amigable del MEF, el gasto correspondiente a Inversiones, en la Genérica de Gasto (GG) 2.6 en la Función: Educación a nivel nacional en el año 2022 fue de S/ 7 mil millones. Es relevante mencionar que esta cantidad excluye el gasto relacionado con la GG 2.4, ya que, en el caso de las inversiones, está destinado a financiar el control concurrente en virtud de la Ley N° 31358.\n",
    "Asumiendo el ritmo de ejecución observado en el año 2022, se estima que la BIE se reduciría en 22 años, siempre y cuando el monto de la brecha se mantenga constante. En ese sentido, el PNIE ha realizado una estimación de la BIE con el objetivo de determinar los recursos financieros necesarios para mitigar el riesgo estructural y garantizar condiciones adecuadas para la prestación del servicio educativo en infraestructuras apropiadas. En la actualidad, el Grupo de Prioridad \"1: Riesgo\" identifica un total de 30,160 Locales Escolares (LLEE) que requieren atención prioritaria.\n",
    "Por lo tanto, el propósito de esta propuesta de investigación es implementar un modelo de Machine Learning que permita predecir, basándonos en el comportamiento de diversas variables, los LLEE adicionales que podrían agregarse al Grupo de Prioridad \"1: Riesgo\". Lo cual nos proporcionaría información anticipada que facilitaría la adopción de medidas a corto plazo, como mantenimiento, adecuación estructural, y otras acciones necesarias.\n",
    "Es importante destacar que, si logramos identificar a tiempo las acciones requeridas, podemos evitar un aumento exponencial en la estimación de la BIE. Ello permitiría desarrollar estrategias más efectivas para beneficiar a un mayor número de LLEE y, en consecuencia, a un mayor número de estudiantes.\n",
    "La relevancia del problema de predicción, se plantea la necesidad de predecir la inclusión de Locales Escolares en el Grupo de Prioridad \"1: Riesgo\" para tomar acciones oportunas. La variable objetivo (target) es la inclusión de este grupo, y los predictores se basarían en diversas variables relacionadas con la infraestructura escolar, condiciones estructurales, ubicación geográfica, factores climáticos, entre otros factores. La relevancia de este problema radica en su potencial para prevenir un aumento considerable en la BIE y mejorar las condiciones de los estudiantes en Perú."
   ],
   "metadata": {
    "collapsed": false
   },
   "id": "e258dfb79d5c8b02"
  },
  {
   "cell_type": "markdown",
   "source": [
    "#### 2. (1 puntos) Describa los pasos a realizar para su aplicación de ML.\n",
    "<b>Fuente de Información</b>\n",
    "A través de la Resolución Ministerial N° 153-2017-MINEDU, de 06 de marzo de 2017, se aprobó el PNIE al 2025 y se tomó como línea de base para su formulación la información recopilada del Censo de Infraestructura Educativa (2013).\n",
    "A partir de este Censo, se elaboró un primer diagnóstico del estado de la infraestructura educativa pública. En ese contexto, de acuerdo con la actualización continua de dicho instrumento, el monto requerido, hasta la fecha, para cerrar la BIE es de S/ 152 mil millones.\n",
    "En ese sentido, la Dirección de Planificación de Inversiones (DIPLAN) de la Dirección General de Infraestructura Educativa (DIGEIE) del MINEDU, elaboró un Dashboard, con la información recopilada para la actualización del instrumento señalado anteriormente. A través de este enlace, se puede extraer la base de datos a nivel LLEE, se adjunta enlace_web_1: https://mineduperu-my.sharepoint.com/:x:/g/personal/diplan15_minedu_gob_pe/EfEe4c9SFPlHlR2xr47F10ABskZMgFUbtBbibde31uttrQ?e=FXr0sk (el cual, incluye, entre otros, el cálculo de la brecha estimada).\n",
    "\n",
    "A continuación, se muestra una tabla de la distribución por LLEE y monto de BIE de las principales regiones:\n",
    "\n",
    "<img src=\"graph1.png\">\n",
    "\n",
    "Asimismo, de los 30,160 LLEE en situación de “Riesgo”, se muestra una tabla de la distribución por LLEE y monto de BIE de las principales regiones en la citada situación:\n",
    "\n",
    "<img src=\"graph2.png\">\n",
    "\n",
    " Con respecto a la información vertida en los Cuadros N° 01 y N° 02, se destaca que el 55% del total de LLEE se encuentran en situación de 'Riesgo', con una brecha total estimada de S/ 80 mil millones. \n",
    "\n",
    "<b>Variables</b>\n",
    "Respecto a las variables de interés del estudio se describe primero la variable dependiente sobre la cual se busca predecir y las variables independientes a partir de las cuales el modelo planteado realizará un aprendizaje. Al respecto, la propuesta de variables se basa tanto en la información disponible, así como en la revisión de literatura anteriormente presentada.\n",
    "La variable por predecir es una dicotómica que toma valor 1 si el LLEE pasará a ser considerado como “riesgoso” y 0 de cualquier otro modo. El Minedu define como LLEE en riesgo si la ratio de demolición es mayor o igual a 70% (es decir, que la infraestructura se encuentra expuesta a un muy alto riesgo de colapso).\n",
    "Asimismo, el modelo se entrena con un horizonte de rezago de 3 años en consideración a dos motivos. El primero de ellos dado que se evidencian problemas en la calidad de los datos registrados en el periodo 2020 y 2021 principalmente por limitaciones durante la época de pandemia. Segundo, un horizonte de predicción de 3 años permite tomar acciones preventivas para evitar el colapso del LLEE.\n",
    "El siguiente gráfico muestra la distribución de LLEE según clasificación en riesgo o no entre los años 2019 y 2022. Como se observa, el número de LLEE calificados en riesgo se incrementaron en 9,151en los 3 años de análisis.\n",
    "\n",
    "<img src=\"graph3.png\">\n",
    "\n",
    "Respecto a las variables independientes se tomaron en cuenta tres grupos de variables: infraestructura del LLEE, servicios del LLEE y contexto a nivel distrital. Las variables independientes se estiman en un periodo t0 sobre un resultado en t1 dado que se busca predecir la vulnerabilidad del LLEE a ser clasificado como “riesgoso”. La metodología de cálculo de las variables se basa en el Informe Técnico: Perú: Estimación de la vulnerabilidad económica a la pobreza monetaria (INEI, 2020)\n",
    "El primer grupo de variables corresponde a aquellas que describen los ambientes del LLEE, materiales, antigüedad, daños, entre otros. El listado preliminar de variables en este grupo con los que entrenará el modelo son los siguientes:\n",
    "- Propiedad: quien acredita la propiedad del LLEE\n",
    "- Área: área construida del LLEE\n",
    "- Niveles: número de niveles del LLEE\n",
    "- Antigüedad: número de años desde su construcción\n",
    "- Saneado: LLEE se encuentra saneado\n",
    "- Material_techos: material predominante del techo\n",
    "- Material_pisos: material predominante del piso\n",
    "- Material_paredes: material predominante de las paredes\n",
    "- Número_aulas: número de aulas con las que cuenta el LLEE\n",
    "- Número_sshh: número de servicios higiénicos en el LLEE\n",
    "- Agua: LLEE cuenta con servicio de agua\n",
    "- Electricidad: LLEE cuenta con servicio de luz eléctrica\n",
    "- Internet: LLEE cuenta con servicio de internet\n",
    "\n",
    "El segundo grupo de variables contiene información sobre los servicios que se ofrecen en el LLEE y las características de este. Las variables propuestas de entrenamiento son las siguientes:\n",
    "- Número_servicios: número de servicios educativos que se ofrecen en el LLEE\n",
    "- Turnos: si el LLEE atiende mañana, tarde y/o noche\n",
    "- Alumnos: número de alumnos matriculados \n",
    "- Obras: registra actualmente alguna obra en ejecución\n",
    "- Acceso: vías de acceso para llegar al LLEE\n",
    "- Gestión_riesgos: cuenta con plan de gestión de riesgos\n",
    "\n",
    "Asimismo, el último grupo hace referencia a variables propias del distrito en el que se encuentra el LLEE. Para ello, se consideran otras bases de datos secundarias como el censo nacional 2017 o el SIRTOD del INEI. La siguiente lista muestra las variables de entrenamiento del modelo:\n",
    "- Rural: indicador si el LLEE se encuentra en un distrito calificado como “rural”\n",
    "- Pobreza: variable continua que señala la incidencia de pobreza en el distrito\n",
    "- Sismo: registro del grado de amenaza sísmica en el distrito\n",
    "- Frontera: señala si el distrito se encuentra en zona de frontera\n",
    "- Vraem: indica si el distrito se encuentra en zona vraem\n",
    "- Heladas: indica si el distrito registra heladas\n",
    "- FEN: indica si el distrito ha sido afectado por el fenómeno del niño\n",
    "\n",
    "En total se propone un conjunto de 26 variables independientes. No obstante, ese número se incrementa con los procesos de dicotomización de las variables categóricas y luego de generar interacciones.\n"
   ],
   "metadata": {
    "collapsed": false
   },
   "id": "77031a4b95ad05e8"
  },
  {
   "cell_type": "markdown",
   "source": [
    "\n",
    "#### 3. (3 puntos) Describa cómo llevaría a cabo este ejercicio de manera paralelizada y compárelo a su aplicación serial. Como parte de esta descripción, incluir los siguientes aspectos:\n",
    "\n",
    "a. Explicar qué partes del ejercicio se harán de forma serial y por qué no paralelizo estas tareas.\n",
    "b. Para las tareas en paralelo, explique usando el método de Foster como se dan las etapas de partición, comunicación, aglomeración y mapeo (PCAM) para su aplicación.\n",
    "c. Discuta qué tipos de procesadores podría utilizar para cada parte. (No es necesario que utilice los GPU pese a que señale su mejor desempeño)\n",
    "d. Identificar los cuellos de botella del ejercicio y comente hasta qué punto la paralelización puede ayudar a resolverlos."
   ],
   "metadata": {
    "collapsed": false
   },
   "id": "18eb58b11f0227ee"
  },
  {
   "cell_type": "markdown",
   "source": [
    "#### 4. Uso de DASK\n",
    "##### a. Ejercicio de ETL: Usar Dask Dataframes para cargar la(s) base(s) de datos que se utilizará(n) y presentar lo siguiente:\n",
    "\n",
    "- Creación de por lo menos dos variables \n",
    "- Por lo menos dos estadísticos descriptivos que vayan en línea con el tema y argumento. Explíquelos \n",
    "- Por lo menos dos gráficos que vayan en línea con el tema y argumento.\n",
    "\n",
    "Tanto los gráficos como los descriptivos deben estar en calidad para ser incluidos en un reporte final. Se descontarán puntos por presentación descuidada. \n"
   ],
   "metadata": {
    "collapsed": false
   },
   "id": "6f096579e6bcb025"
  },
  {
   "cell_type": "code",
   "execution_count": 59,
   "outputs": [],
   "source": [
    "import dask.dataframe as dd\n",
    "import os\n",
    "import pandas as pd\n",
    "\n",
    "os.chdir(r'C:\\Users\\User\\Documents\\GitHub\\Diplomado_PUCP\\Big Data\\Trabajo 2')\n",
    "\n",
    "ddf_2023 = dd.read_csv('brecha_educativa_jul2023.csv')"
   ],
   "metadata": {
    "collapsed": false,
    "ExecuteTime": {
     "end_time": "2023-09-17T06:09:08.656191Z",
     "start_time": "2023-09-17T06:09:08.624664300Z"
    }
   },
   "id": "fb55ad90821e22b"
  },
  {
   "cell_type": "code",
   "execution_count": 60,
   "outputs": [
    {
     "data": {
      "text/plain": "Unnamed: 0.1              int64\nUnnamed: 0                int64\ncod_loc                   int64\nregion_loc               object\nprovincia_loc            object\n                         ...   \npred_cedido             float64\npred_otro               float64\npred_total              float64\nalbergado                object\ngrupo_prioridad_2021     object\nLength: 74, dtype: object"
     },
     "execution_count": 60,
     "metadata": {},
     "output_type": "execute_result"
    }
   ],
   "source": [
    "ddf_2023.dtypes"
   ],
   "metadata": {
    "collapsed": false,
    "ExecuteTime": {
     "end_time": "2023-09-17T06:09:11.236001Z",
     "start_time": "2023-09-17T06:09:11.203913700Z"
    }
   },
   "id": "9753d2153bc91403"
  },
  {
   "cell_type": "code",
   "execution_count": 73,
   "outputs": [],
   "source": [
    "# Generamos una dummy que permita identificar aquellos locales que pasaron de no estar en riesgo en 2021 a estar en situación de riesgo en 2023\n",
    "\n",
    "# Generamos una variable dummy para los locales en riesgo en 2023\n",
    "ddf_2023['grupo_prioridad'] = ddf_2023['grupo_prioridad'].astype('category')\n",
    "ddf_2023 = ddf_2023.categorize(columns=['grupo_prioridad'])\n",
    "ddf_final = dd.get_dummies(ddf_2023, columns=['grupo_prioridad'], prefix='dummy')\n",
    "ddf_final = ddf_final.iloc[:, 1:-6]\n",
    "\n",
    "# Generamos una variable dummy para los locales en riesgo en 2021\n",
    "ddf_final['grupo_prioridad_2021'] = ddf_final['grupo_prioridad_2021'].astype('category')\n",
    "ddf_final = ddf_final.categorize(columns=['grupo_prioridad_2021'])\n",
    "ddf_final = dd.get_dummies(ddf_final, columns=['grupo_prioridad_2021'], prefix='dummy')\n",
    "ddf_final = ddf_final.iloc[:, 1:-4]\n",
    "ddf_final = ddf_final.iloc[:, :-2].assign(LastColumn=ddf_final.iloc[:, -1])\n",
    "\n",
    "# Modificamos los nombres de las variables dummy generadas\n",
    "new_column_names = {'dummy_1: Riesgo': 'riesgo_2023', 'LastColumn': 'riesgo2021'}\n",
    "ddf_final = ddf_final.rename(columns=new_column_names)\n",
    "\n",
    "# Generamos la variable de cambio de riesgo entre 2021 a 2023\n",
    "ddf_final['cambio_riesgo'] = (ddf_final['riesgo_2023'] & ~ddf_final['riesgo2021']).astype(int)\n"
   ],
   "metadata": {
    "collapsed": false,
    "ExecuteTime": {
     "end_time": "2023-09-17T06:35:22.503572200Z",
     "start_time": "2023-09-17T06:35:21.194701100Z"
    }
   },
   "id": "31544cfd0cbef9b8"
  },
  {
   "cell_type": "code",
   "execution_count": 74,
   "outputs": [],
   "source": [
    "ddf_final = ddf_final.compute()"
   ],
   "metadata": {
    "collapsed": false,
    "ExecuteTime": {
     "end_time": "2023-09-17T06:35:24.540588800Z",
     "start_time": "2023-09-17T06:35:23.634497700Z"
    }
   },
   "id": "79fd68684af856ac"
  }
 ],
 "metadata": {
  "kernelspec": {
   "display_name": "Python 3",
   "language": "python",
   "name": "python3"
  },
  "language_info": {
   "codemirror_mode": {
    "name": "ipython",
    "version": 2
   },
   "file_extension": ".py",
   "mimetype": "text/x-python",
   "name": "python",
   "nbconvert_exporter": "python",
   "pygments_lexer": "ipython2",
   "version": "2.7.6"
  }
 },
 "nbformat": 4,
 "nbformat_minor": 5
}
