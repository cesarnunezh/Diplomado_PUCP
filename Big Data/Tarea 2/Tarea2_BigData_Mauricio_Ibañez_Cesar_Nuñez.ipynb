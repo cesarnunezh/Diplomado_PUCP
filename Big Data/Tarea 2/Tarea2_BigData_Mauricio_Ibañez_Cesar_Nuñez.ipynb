{
 "cells": [
  {
   "cell_type": "markdown",
   "source": [
    "# Tarea 2 - Paralel Computing \n",
    "<b>Autores: </b> Mauricio Ibáñez & César Núñez\n",
    "<b>Fecha: </b> 10/09/2023\n"
   ],
   "metadata": {
    "collapsed": false
   },
   "id": "59a2c693ffdda2f8"
  },
  {
   "cell_type": "markdown",
   "source": [
    "## Parte I\n",
    "### 1.\t¿Qué es un proceso embarrassingly parallel y uno inherentemente serial? Dé un ejemplo de cada uno (distintos a los vistos en clase)\n",
    "\n",
    "Un proceso embarrasingly parallel (EP) está caracterizado por la facilidad inherente que tiene de poder descomponerse en distintos subprocesos a desarrollarse en paralelo. En contraste, un proceso inherentemente serial (IS) es aquel que no puede paralelizarse para nada. La principal diferencia está entre la dependencia de información entre tareas: por un lado, en los procesos EP se pueden generar subprocesos o tareas que son independientes entre sí y no requieren información entre tareas; mientras que en los procesos IS sí existe una fuerte relación entre una tarea y otra, generando la necesidad de que estas se comuniquen frecuentemente para poder obtener el resultado final.\n",
    "\n",
    "Un ejemplo de un proceso EP es la decodificación de una imagen hacia una base de datos. Esta se puede tranquilamente particionar en n subgrupos y cada uno de ellos operar de manera independiente, identificando los colores de cada pixel por separado. Estas subtareas no dependen entre sí, por lo que es completamente paralelizable.\n",
    "Un ejemplo de un proceso IS es una sucesión de números a partir de un dato inicial o también una estimación econométrica. En el caso de esta última, no puedes dividir los datos para obtener la estimación por lo que sólo puede conseguirse el resultado final utilizando toda la información en un solo código "
   ],
   "metadata": {
    "collapsed": false
   },
   "id": "66d1f85ebfceaf18"
  },
  {
   "cell_type": "markdown",
   "source": [
    "### 2.\t¿Cuáles son los dos principales cuellos de botella al paralelizar un proceso? Explíquelo a partir de las leyes de Amdahl y Gustafson "
   ],
   "metadata": {
    "collapsed": false
   },
   "id": "6601170877105f6d"
  },
  {
   "cell_type": "code",
   "execution_count": null,
   "outputs": [],
   "source": [
    "#MAU"
   ],
   "metadata": {
    "collapsed": false
   },
   "id": "6b4bae5ee2db1990"
  },
  {
   "cell_type": "markdown",
   "source": [
    "### 3.\tDescriba los recursos (CPU y GPU) de su computadora y provea evidencia (ie. screenshot). "
   ],
   "metadata": {
    "collapsed": false
   },
   "id": "ed3aa0ad87fc9c97"
  },
  {
   "cell_type": "code",
   "execution_count": null,
   "outputs": [],
   "source": [
    "#MAU"
   ],
   "metadata": {
    "collapsed": false
   },
   "id": "ece4cbb8d4c66167"
  },
  {
   "cell_type": "markdown",
   "source": [
    "### 4.\t¿En qué se diferencia un CPU de un GPU? Dé un ejemplo de un proceso que convendría paralelizar en cada uno de estos tipos de unidad de procesamiento. "
   ],
   "metadata": {
    "collapsed": false
   },
   "id": "adb8907d3d66fe72"
  },
  {
   "cell_type": "code",
   "execution_count": null,
   "outputs": [],
   "source": [
    "#MAU"
   ],
   "metadata": {
    "collapsed": false
   },
   "id": "3868fa1f67df30b4"
  },
  {
   "cell_type": "markdown",
   "source": [
    "### 5.\tSe sabe estima que la nueva memoria RAM POWER 3000 permitirá acelerar las operaciones de su computadora en la mitad del tiempo. ¿Qué tanto más rápido será la velocidad de ejecución de un programa si el 77% del mismo se dedica a operaciones inherentemente paralelizables?"
   ],
   "metadata": {
    "collapsed": false
   },
   "id": "f4b0a52e9199a5c5"
  },
  {
   "cell_type": "code",
   "execution_count": null,
   "outputs": [],
   "source": [
    "#MAU"
   ],
   "metadata": {
    "collapsed": false
   },
   "id": "91cba6144dda23d6"
  },
  {
   "cell_type": "markdown",
   "source": [
    "### 6.\tPiense en una tarea serial que le han encargado paralelizar. Describa el diseño de la implementación en paralelo de dicha tarea siguiente el método de Foster y los cuatro elementos que lo componen.\n",
    "El Método de Foster consiste en estructurar el problema en cuatro estapas: particionar (dividir las tareas en los procesadores), comunicar (determinar y realizar las comunicaciones necesarias para que siga el código), agregar (agrupar las tareas y comunicaciones en tareas más grandes, priorizando aquellas que están relacionadas) y mapping (asignar las tareas ya agregadas a los procesadores).\n",
    "\n"
   ],
   "metadata": {
    "collapsed": false
   },
   "id": "1d6aa4068c14e615"
  },
  {
   "cell_type": "code",
   "execution_count": null,
   "outputs": [],
   "source": [],
   "metadata": {
    "collapsed": false
   },
   "id": "8e05f2b94fc4687e"
  },
  {
   "cell_type": "markdown",
   "source": [
    "### 7.\t¿Cuál es la diferencia entre point-to-point communication y collective communication en MPI? ¿Cuál es la diferencia entre las operaciones de broadcasting, gathering y scattering?\n",
    "El point-to-point communication es aquella comunicación que va desde un procesador lógico hacia otro específico, pero no pasa por ningún otro procesador; mientras que el collectiv comunication es aquella comunicación que va de un procesador lógico hacia más de un procesador lógico o incluso todos.\n",
    "\n",
    "El broadcast es un tipo de comunicación colectiva en la cual un procesador lógico envía información hacia el resto de procesadores y todos reciben la misma información. Esto ocurre cuando una información generada en un núcleo es importante para las tareas del resto de núcleos.\n",
    "El scatter es un tipo de comunicación colectiva en la cual un procesador lógico envía distintas piezas de información al resto de procesadores y cada uno recibe una información diferente. Esto es útil cuando buscamos paralelizar una tarea que depende de una información almacenada en un único procesador.\n",
    "El gather es un tipo de comunicación colectiva en la cual un procesador lógico recupera la información de parte del resto procesadores lógicos. Esto es útil para consolidar la información de acciones paralelizadas que requieren un procesamiento conjunto de manera posterior."
   ],
   "metadata": {
    "collapsed": false
   },
   "id": "45a9a03dd72f0019"
  },
  {
   "cell_type": "markdown",
   "source": [
    "## Parte II\n",
    "### 1.\t(3 puntos) Escribir un código (“parte2_1.py”) que realice lo siguiente:\n",
    "#### a.\tQue un procesador genere una lista y lo envíe a otros tres procesadores.\n",
    "#### b.\tQue cada uno de los tres procesadores reciba la lista enviada, imprima su número de procesador y la lista. \n"
   ],
   "metadata": {
    "collapsed": false
   },
   "id": "dfdcc7ba07033688"
  },
  {
   "cell_type": "code",
   "execution_count": null,
   "outputs": [],
   "source": [
    "#MAU"
   ],
   "metadata": {
    "collapsed": false
   },
   "id": "e759d77515d609db"
  },
  {
   "cell_type": "markdown",
   "source": [
    "#### c.\tEn otro chunk responda: De ejecutar el código 100 veces, ¿el orden de los resultados será siempre igual? ¿Por qué?"
   ],
   "metadata": {
    "collapsed": false
   },
   "id": "9d15ffa610181583"
  },
  {
   "cell_type": "code",
   "execution_count": null,
   "outputs": [],
   "source": [
    "#MAU"
   ],
   "metadata": {
    "collapsed": false
   },
   "id": "4b8308e2fb05d02d"
  },
  {
   "cell_type": "markdown",
   "source": [
    "### 2.\t(2 puntos) Escribir un código (“parte2_2.py”) que realice lo siguiente:\n",
    "#### a.\tUsando la opción de broadcasting en MPI, defina un diccionario de cuatro elementos que contenga sus cuatro cursos favoritos del diplomado desde el primer procesador. Repita esto para todos los procesadores disponibles. Luego, registre y compare el tiempo de demora desde cada procesador.\n",
    "#### b.\tDefina una secuencia de valores: {0,1,2,3,…, n} en donde n es el número de procesadores de su computadora desde uno de los núcleos. Luego disperse los valores a cada uno de los núcleos restantes usando la opción scattering. Identifique si el número asignado por el proceso coincide con el rango del procesador. "
   ],
   "metadata": {
    "collapsed": false
   },
   "id": "6e27cb8b1a7635c3"
  },
  {
   "cell_type": "code",
   "execution_count": null,
   "outputs": [],
   "source": [],
   "metadata": {
    "collapsed": false
   },
   "id": "7d69ba978f5c7d2f"
  },
  {
   "cell_type": "markdown",
   "source": [
    "### 3.\t(5 puntos) Generar un numpy array que almacene el archivo: “tarea2.csv” del siguiente link. Luego:"
   ],
   "metadata": {
    "collapsed": false
   },
   "id": "d50f36dc81a661f0"
  },
  {
   "cell_type": "code",
   "execution_count": null,
   "outputs": [],
   "source": [],
   "metadata": {
    "collapsed": false
   },
   "id": "9f55fa6729674d42"
  },
  {
   "cell_type": "markdown",
   "source": [
    "#### a.\tEscribir un código que halle el valor máximo de “tarea2” usando un procesador. Imprimir el valor máximo. Registrar el tiempo de demora."
   ],
   "metadata": {
    "collapsed": false
   },
   "id": "11af03b6b97b47d0"
  },
  {
   "cell_type": "code",
   "execution_count": null,
   "outputs": [],
   "source": [],
   "metadata": {
    "collapsed": false
   },
   "id": "1071bd7850efaea"
  },
  {
   "cell_type": "markdown",
   "source": [
    "#### b.\tEscribir un código que realice las siguientes indicaciones : (i) dividir el numpy en dos partes iguales, (ii) que dos procesadores distintos encuentren el máximo de cada parte, y (iii) que otro procesador junte los máximos hallados y encuentre el máximo global. Registrar el tiempo de demora."
   ],
   "metadata": {
    "collapsed": false
   },
   "id": "de621aa2f6476be9"
  },
  {
   "cell_type": "code",
   "execution_count": null,
   "outputs": [],
   "source": [],
   "metadata": {
    "collapsed": false
   },
   "id": "3219fd0284fe3f91"
  },
  {
   "cell_type": "markdown",
   "source": [
    "#### c.\tRepetir 3b dividiendo el numpy original en tres partes. Registrar el tiempo de demora."
   ],
   "metadata": {
    "collapsed": false
   },
   "id": "352ecf93ad83a80a"
  },
  {
   "cell_type": "code",
   "execution_count": null,
   "outputs": [],
   "source": [],
   "metadata": {
    "collapsed": false
   },
   "id": "78ace9dd727d9a2f"
  },
  {
   "cell_type": "markdown",
   "source": [
    "#### d.\tComparar los tiempos registrados en 3a, 3b y 3c. ¿Hay una reducción del tiempo? ¿La reducción del tiempo es lineal? ¿Por qué?\n"
   ],
   "metadata": {
    "collapsed": false
   },
   "id": "e1856f45a586876f"
  },
  {
   "cell_type": "code",
   "execution_count": null,
   "outputs": [],
   "source": [],
   "metadata": {
    "collapsed": false
   },
   "id": "ac3f9f4dce463a3"
  }
 ],
 "metadata": {
  "kernelspec": {
   "display_name": "Python 3",
   "language": "python",
   "name": "python3"
  },
  "language_info": {
   "codemirror_mode": {
    "name": "ipython",
    "version": 2
   },
   "file_extension": ".py",
   "mimetype": "text/x-python",
   "name": "python",
   "nbconvert_exporter": "python",
   "pygments_lexer": "ipython2",
   "version": "2.7.6"
  }
 },
 "nbformat": 4,
 "nbformat_minor": 5
}
