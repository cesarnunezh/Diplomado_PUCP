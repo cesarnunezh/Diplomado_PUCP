{
 "cells": [
  {
   "cell_type": "markdown",
   "id": "59a2c693ffdda2f8",
   "metadata": {
    "collapsed": false
   },
   "source": [
    "# Tarea 2 - Paralel Computing \n",
    "<b>Autores: </b> Mauricio Ibáñez & César Núñez\n",
    "<b>Fecha: </b> 10/09/2023\n"
   ]
  },
  {
   "cell_type": "markdown",
   "id": "66d1f85ebfceaf18",
   "metadata": {
    "collapsed": false
   },
   "source": [
    "## Parte I\n",
    "### 1.\t¿Qué es un proceso embarrassingly parallel y uno inherentemente serial? Dé un ejemplo de cada uno (distintos a los vistos en clase)\n",
    "\n",
    "Un proceso embarrasingly parallel (EP) está caracterizado por la facilidad inherente que tiene de poder descomponerse en distintos subprocesos a desarrollarse en paralelo. En contraste, un proceso inherentemente serial (IS) es aquel que no puede paralelizarse para nada. La principal diferencia está entre la dependencia de información entre tareas: por un lado, en los procesos EP se pueden generar subprocesos o tareas que son independientes entre sí y no requieren información entre tareas; mientras que en los procesos IS sí existe una fuerte relación entre una tarea y otra, generando la necesidad de que estas se comuniquen frecuentemente para poder obtener el resultado final.\n",
    "\n",
    "Un ejemplo de un proceso EP es la decodificación de una imagen hacia una base de datos. Esta se puede tranquilamente particionar en n subgrupos y cada uno de ellos operar de manera independiente, identificando los colores de cada pixel por separado. Estas subtareas no dependen entre sí, por lo que es completamente paralelizable.\n",
    "Un ejemplo de un proceso IS es una sucesión de números a partir de un dato inicial o también una estimación econométrica. En el caso de esta última, no puedes dividir los datos para obtener la estimación por lo que sólo puede conseguirse el resultado final utilizando toda la información en un solo código "
   ]
  },
  {
   "cell_type": "markdown",
   "id": "6601170877105f6d",
   "metadata": {
    "collapsed": false
   },
   "source": [
    "### 2.\t¿Cuáles son los dos principales cuellos de botella al paralelizar un proceso? Explíquelo a partir de las leyes de Amdahl y Gustafson "
   ]
  },
  {
   "cell_type": "markdown",
   "id": "4a496be7",
   "metadata": {},
   "source": [
    "Los dos principales cuellos de botella en un proceso son **i) fracción no paralelizable** **ii) secuencialidad**. En el caso de la fracción no paralelizable, esto se puede observar a través de la Ley de Amdahl dado que limitaráel speedup de la tarea a mayor proporción no paralelizable. Respecto a la secuencialidad, de acuerdo la Ley de Gustafson, un proceso se ve ralentizado si la ejeución de tareas se ejecuta serialmente dado que unos resultados dependen de otros anteriormente ejecutados."
   ]
  },
  {
   "cell_type": "markdown",
   "id": "ed3aa0ad87fc9c97",
   "metadata": {
    "collapsed": false
   },
   "source": [
    "### 3.\tDescriba los recursos (CPU y GPU) de su computadora y provea evidencia (ie. screenshot). "
   ]
  },
  {
   "cell_type": "markdown",
   "id": "8b67e8c5",
   "metadata": {},
   "source": [
    "**CPU:**\n",
    "- 4 núcleos\n",
    "- 8 procesadores (2 en cada núcleo)\n",
    "- Velocidad del procesador: 2.3GHz\n",
    "GPU:\n",
    "Procesador: intel core I7 \n",
    "\n"
   ]
  },
  {
   "cell_type": "markdown",
   "id": "859a9730",
   "metadata": {},
   "source": [
    "<img src=https://raw.githubusercontent.com/cesarnunezh/Diplomado_PUCP/main/Big%20Data/Tarea%202/CPU.PNG>\n",
    "\n"
   ]
  },
  {
   "cell_type": "markdown",
   "id": "b60dee09",
   "metadata": {},
   "source": [
    "**GPU:**\n",
    "- Memoria GPU total: 7.9GB\n",
    "- Memoria compartida: 5.9 GB"
   ]
  },
  {
   "cell_type": "markdown",
   "id": "63c977a4",
   "metadata": {},
   "source": [
    "<img src=https://raw.githubusercontent.com/cesarnunezh/Diplomado_PUCP/cf0db9376aa856885ba16a7427b7e80de81eb553/Big%20Data/Tarea%202/GPU.PNG>\n"
   ]
  },
  {
   "cell_type": "markdown",
   "id": "adb8907d3d66fe72",
   "metadata": {
    "collapsed": false
   },
   "source": [
    "### 4.\t¿En qué se diferencia un CPU de un GPU? Dé un ejemplo de un proceso que convendría paralelizar en cada uno de estos tipos de unidad de procesamiento. "
   ]
  },
  {
   "cell_type": "markdown",
   "id": "4ebb317f",
   "metadata": {},
   "source": [
    "Se pueden distinguir tres características principalmente: diseño, memoria, rendimiento. \n",
    "- **Arquitectura:** En cuanto al diseño sabemos que los CPU tienen entre 2 a 32 núcleos cada uno con procesadoes. En cambio los GPU estan conformados por miles de núcleo que realizan tareas en paralelo.\n",
    "- **Memoria:** La memoria de los CPU es muy amplia dado que esta diseñada para soportar procesos de hardware. Mientras que, los GPU tienen poca memoria diseñado principalmente para ejecutar varias tareas en paralelo.\n",
    "- **Rendimiento:** Por un lado los CPU realizan tareas secuenciales y ejecutan las instrucciones del sistema operativo. Por otro lado, los GPU realizan cálculos simultáneos en múltiples núcleos, por ello son utilizados principalmente para el procesamiento de imágenes."
   ]
  },
  {
   "cell_type": "markdown",
   "id": "f4b0a52e9199a5c5",
   "metadata": {
    "collapsed": false
   },
   "source": [
    "### 5.\tSe sabe estima que la nueva memoria RAM POWER 3000 permitirá acelerar las operaciones de su computadora en la mitad del tiempo. ¿Qué tanto más rápido será la velocidad de ejecución de un programa si el 77% del mismo se dedica a operaciones inherentemente paralelizables?"
   ]
  },
  {
   "cell_type": "markdown",
   "id": "78e6ce7a",
   "metadata": {},
   "source": [
    "Se estima la velocidad de ejecución (_Speedup_) en base a la Ley de Amdahl:\n",
    "\n",
    "$S_{latency}(s) = \\cfrac{1}{(1 - p)+ (\\cfrac{p}{s})}$\n",
    " \n",
    "donde $p$ = 0.77, $s$ = 2 dado que la nueva memoria RAM acelera la operación en la mitad del tiempo. Se ejecuta y obtiene:\n",
    "p = 0.77\n",
    "s = 2\n",
    "\n",
    "speed = 1/((1-p)+ (p/s))\n",
    "speed"
   ]
  },
  {
   "cell_type": "code",
   "execution_count": 127,
   "id": "5514be3c",
   "metadata": {
    "ExecuteTime": {
     "end_time": "2023-09-09T22:45:25.486298700Z",
     "start_time": "2023-09-09T22:45:25.476325600Z"
    }
   },
   "outputs": [
    {
     "data": {
      "text/plain": "1.6260162601626016"
     },
     "execution_count": 127,
     "metadata": {},
     "output_type": "execute_result"
    }
   ],
   "source": [
    "p = 0.77\n",
    "s = 2\n",
    "\n",
    "speed = 1/((1-p)+ (p/s))\n",
    "speed"
   ]
  },
  {
   "cell_type": "markdown",
   "id": "20f8927c",
   "metadata": {},
   "source": [
    "la velocidad de ejecución del programa será aproximadamente 1.626 veces más rápida cuando se utilice la nueva memoria RAM y se paraleliza el 77% de las tareas"
   ]
  },
  {
   "cell_type": "markdown",
   "id": "1d6aa4068c14e615",
   "metadata": {
    "collapsed": false
   },
   "source": [
    "### 6.\tPiense en una tarea serial que le han encargado paralelizar. Describa el diseño de la implementación en paralelo de dicha tarea siguiente el método de Foster y los cuatro elementos que lo componen.\n",
    "El Método de Foster consiste en estructurar el problema en cuatro estapas: particionar (dividir las tareas en los procesadores), comunicar (determinar y realizar las comunicaciones necesarias para que siga el código), agregar (agrupar las tareas y comunicaciones en tareas más grandes, priorizando aquellas que están relacionadas) y mapping (asignar las tareas ya agregadas a los procesadores).\n",
    "Suponiendo que la tarea es el scrappeo de la base de datos de la SBS respecto de los montos de créditos otorgados a personas naturales y jurídicas en los meses comprendidos entre 2008 y 2023 para la posterior elaboración de tablas y gráficos resúmenes, es posible realizar una paralelización siguiendo el método de Foster.\n",
    "\n",
    "En primer lugar, debemos identificar qué tareas pueden particionarse. Las tareas particionables serían: scrappeo de la web de la SBS para los periodos solicitados y la transformación de cada tabla extraída para una posterior unión, se podría desagregar la data entre el número de los procesadores lógicos disponibles. Además, también podría paralelizarse la elaboración de gráficos o tablas resúmenes una vez que se tenga la base de datos completa. En segundo lugar, se puede identificar que las comunicaciones necesarias entre procesadores es principalmente entre para cuando se requiera unificar las bases de datos y comunicar la base de datos completa para la elaboración de los gráficos y tablas resumen. En tercer lugar, la agrupación de tareas sólo consistiría en el scrappeo, transformación y la unión de los subperiodos que corresponderían a cada procesador. En cuarto lugar, debe asignarse los subperiodos a cada procesador lógico y determinar cuál de los procesadores será el procesador principal que realice la unión de datos final; así como la asignación de tablas y gráficos en cada uno de los procesadores. "
   ]
  },
  {
   "cell_type": "markdown",
   "id": "45a9a03dd72f0019",
   "metadata": {
    "collapsed": false
   },
   "source": [
    "### 7.\t¿Cuál es la diferencia entre point-to-point communication y collective communication en MPI? ¿Cuál es la diferencia entre las operaciones de broadcasting, gathering y scattering?\n",
    "El point-to-point communication es aquella comunicación que va desde un procesador lógico hacia otro específico, pero no pasa por ningún otro procesador; mientras que el collectiv comunication es aquella comunicación que va de un procesador lógico hacia más de un procesador lógico o incluso todos.\n",
    "\n",
    "El broadcast es un tipo de comunicación colectiva en la cual un procesador lógico envía información hacia el resto de procesadores y todos reciben la misma información. Esto ocurre cuando una información generada en un núcleo es importante para las tareas del resto de núcleos.\n",
    "El scatter es un tipo de comunicación colectiva en la cual un procesador lógico envía distintas piezas de información al resto de procesadores y cada uno recibe una información diferente. Esto es útil cuando buscamos paralelizar una tarea que depende de una información almacenada en un único procesador.\n",
    "El gather es un tipo de comunicación colectiva en la cual un procesador lógico recupera la información de parte del resto procesadores lógicos. Esto es útil para consolidar la información de acciones paralelizadas que requieren un procesamiento conjunto de manera posterior."
   ]
  },
  {
   "cell_type": "markdown",
   "id": "dfdcc7ba07033688",
   "metadata": {
    "collapsed": false
   },
   "source": [
    "## Parte II\n",
    "### 1.\t(3 puntos) Escribir un código (“parte2_1.py”) que realice lo siguiente:\n",
    "#### a.\tQue un procesador genere una lista y lo envíe a otros tres procesadores.\n",
    "#### b.\tQue cada uno de los tres procesadores reciba la lista enviada, imprima su número de procesador y la lista. \n"
   ]
  },
  {
   "cell_type": "code",
   "execution_count": null,
   "id": "e759d77515d609db",
   "metadata": {
    "collapsed": false
   },
   "outputs": [],
   "source": [
    "#MAU"
   ]
  },
  {
   "cell_type": "markdown",
   "id": "9d15ffa610181583",
   "metadata": {
    "collapsed": false
   },
   "source": [
    "#### c.\tEn otro chunk responda: De ejecutar el código 100 veces, ¿el orden de los resultados será siempre igual? ¿Por qué?"
   ]
  },
  {
   "cell_type": "code",
   "execution_count": null,
   "id": "4b8308e2fb05d02d",
   "metadata": {
    "collapsed": false
   },
   "outputs": [],
   "source": [
    "#MAU"
   ]
  },
  {
   "cell_type": "markdown",
   "id": "6e27cb8b1a7635c3",
   "metadata": {
    "collapsed": false
   },
   "source": [
    "### 2.\t(2 puntos) Escribir un código (“parte2_2.py”) que realice lo siguiente:\n",
    "#### a.\tUsando la opción de broadcasting en MPI, defina un diccionario de cuatro elementos que contenga sus cuatro cursos favoritos del diplomado desde el primer procesador. Repita esto para todos los procesadores disponibles. Luego, registre y compare el tiempo de demora desde cada procesador.\n",
    "#### b.\tDefina una secuencia de valores: {0,1,2,3,…, n} en donde n es el número de procesadores de su computadora desde uno de los núcleos. Luego disperse los valores a cada uno de los núcleos restantes usando la opción scattering. Identifique si el número asignado por el proceso coincide con el rango del procesador. "
   ]
  },
  {
   "cell_type": "code",
   "execution_count": null,
   "id": "7d69ba978f5c7d2f",
   "metadata": {
    "collapsed": false
   },
   "outputs": [],
   "source": [
    "#MAU"
   ]
  },
  {
   "cell_type": "markdown",
   "id": "d50f36dc81a661f0",
   "metadata": {
    "collapsed": false
   },
   "source": [
    "### 3.\t(5 puntos) Generar un numpy array que almacene el archivo: “tarea2.csv” del siguiente link. Luego:"
   ]
  },
  {
   "cell_type": "code",
   "execution_count": 1,
   "id": "9f55fa6729674d42",
   "metadata": {
    "ExecuteTime": {
     "end_time": "2023-09-09T00:50:28.183996400Z",
     "start_time": "2023-09-09T00:50:26.374275Z"
    },
    "collapsed": false
   },
   "outputs": [],
   "source": [
    "import numpy as np\n",
    "import os\n",
    "os.chdir(r\"D:\\1. Documentos\\0. Bases de datos\\0. Dofiles y Scripts\\Diplomado_PUCP\\Big Data\\Tarea 2\")\n",
    "narray = np.genfromtxt(\"tarea2.csv\", delimiter= \",\", dtype=float)\n",
    "narray = narray[~np.isnan(narray)]"
   ]
  },
  {
   "cell_type": "code",
   "execution_count": 2,
   "id": "48930c86ec80d034",
   "metadata": {
    "ExecuteTime": {
     "end_time": "2023-09-09T00:50:30.170329300Z",
     "start_time": "2023-09-09T00:50:30.150547800Z"
    },
    "collapsed": false
   },
   "outputs": [
    {
     "name": "stdout",
     "output_type": "stream",
     "text": [
      "4448.366507\n"
     ]
    }
   ],
   "source": [
    "max = np.max(narray)\n",
    "print(max)"
   ]
  },
  {
   "cell_type": "markdown",
   "id": "11af03b6b97b47d0",
   "metadata": {
    "collapsed": false
   },
   "source": [
    "#### a.\tEscribir un código que halle el valor máximo de “tarea2” usando un procesador. Imprimir el valor máximo. Registrar el tiempo de demora."
   ]
  },
  {
   "cell_type": "code",
   "execution_count": 155,
   "id": "1071bd7850efaea",
   "metadata": {
    "collapsed": false,
    "ExecuteTime": {
     "end_time": "2023-09-09T23:01:39.632869600Z",
     "start_time": "2023-09-09T23:01:39.628660900Z"
    }
   },
   "outputs": [
    {
     "name": "stdout",
     "output_type": "stream",
     "text": [
      "Overwriting pregunta3a.py\n"
     ]
    }
   ],
   "source": [
    "%%writefile pregunta3a.py\n",
    "from mpi4py import MPI\n",
    "\n",
    "comm = MPI.COMM_WORLD\n",
    "rank = MPI.COMM_WORLD.Get_rank()\n",
    "size = comm.Get_size()\n",
    "\n",
    "import numpy as np\n",
    "import os\n",
    "os.chdir(r\"D:\\1. Documentos\\0. Bases de datos\\0. Dofiles y Scripts\\Diplomado_PUCP\\Big Data\\Tarea 2\")\n",
    "narray = np.genfromtxt(\"tarea2.csv\", delimiter= \",\", dtype=float)\n",
    "narray = narray[~np.isnan(narray)]\n",
    "if rank == 0:\n",
    "    max_1 = np.max(narray)\n",
    "    print(max_1)\n"
   ]
  },
  {
   "cell_type": "code",
   "execution_count": 156,
   "id": "42126bb0d9a477f3",
   "metadata": {
    "collapsed": false,
    "ExecuteTime": {
     "end_time": "2023-09-09T23:01:42.213499700Z",
     "start_time": "2023-09-09T23:01:41.716230900Z"
    }
   },
   "outputs": [
    {
     "name": "stdout",
     "output_type": "stream",
     "text": [
      "4448.366507\n",
      "El tiempo promedio de ejecución es de 0.5005555152893066s\n"
     ]
    }
   ],
   "source": [
    "import time\n",
    "start = time.time()\n",
    "! mpiexec -n 4 python pregunta3a.py\n",
    "end = time.time()\n",
    "tiempo = end - start\n",
    "print(f'El tiempo promedio de ejecución es de {tiempo}s')"
   ]
  },
  {
   "cell_type": "markdown",
   "id": "de621aa2f6476be9",
   "metadata": {
    "collapsed": false
   },
   "source": [
    "#### b.\tEscribir un código que realice las siguientes indicaciones : (i) dividir el numpy en dos partes iguales, (ii) que dos procesadores distintos encuentren el máximo de cada parte, y (iii) que otro procesador junte los máximos hallados y encuentre el máximo global. Registrar el tiempo de demora."
   ]
  },
  {
   "cell_type": "code",
   "execution_count": 271,
   "id": "7a319a874a809389",
   "metadata": {
    "collapsed": false,
    "ExecuteTime": {
     "end_time": "2023-09-09T23:57:02.437926300Z",
     "start_time": "2023-09-09T23:57:02.418647100Z"
    }
   },
   "outputs": [
    {
     "name": "stdout",
     "output_type": "stream",
     "text": [
      "Overwriting pregunta3b.py\n"
     ]
    }
   ],
   "source": [
    "%%writefile pregunta3b.py\n",
    "from mpi4py import MPI\n",
    "import numpy as np\n",
    "import os\n",
    "\n",
    "comm = MPI.COMM_WORLD\n",
    "rank = MPI.COMM_WORLD.Get_rank()\n",
    "size = comm.Get_size()\n",
    "\n",
    "py_size = size - 1\n",
    "if rank == py_size:\n",
    "    os.chdir(r\"D:\\1. Documentos\\0. Bases de datos\\0. Dofiles y Scripts\\Diplomado_PUCP\\Big Data\\Tarea 2\")\n",
    "    narray = np.genfromtxt(\"tarea2.csv\", delimiter= \",\", dtype=float)\n",
    "    narray = narray[~np.isnan(narray)]\n",
    "    len_narray = int(len(narray)/py_size)\n",
    "    narray = narray.reshape(py_size, len_narray)\n",
    "else:\n",
    "    narray = None\n",
    "    len_narray = None\n",
    "\n",
    "len_narray = comm.bcast(len_narray, root=py_size)\n",
    "narray = comm.bcast(narray, root=py_size)\n",
    "\n",
    "if rank == py_size:\n",
    "    max_local = None\n",
    "else:\n",
    "    max_local = max(narray[rank])\n",
    "\n",
    "max_total = comm.gather(max_local, root=py_size)\n",
    "\n",
    "if rank == py_size:\n",
    "    max_final = max(max_total[:py_size-1])\n",
    "else:\n",
    "    max_final = None\n",
    "\n",
    "print(f'Resultados del procesador N° {rank}')\n",
    "print(max_final)"
   ]
  },
  {
   "cell_type": "code",
   "execution_count": 273,
   "id": "d184fc77a782a488",
   "metadata": {
    "collapsed": false,
    "ExecuteTime": {
     "end_time": "2023-09-09T23:57:07.233071900Z",
     "start_time": "2023-09-09T23:57:06.881778800Z"
    }
   },
   "outputs": [
    {
     "name": "stdout",
     "output_type": "stream",
     "text": [
      "Resultados del procesador N° 1\n",
      "None\n",
      "Resultados del procesador N° 0\n",
      "None\n",
      "Resultados del procesador N° 2\n",
      "4448.366507\n",
      "El tiempo promedio de ejecución es de 0.3498265743255615s\n"
     ]
    }
   ],
   "source": [
    "import time\n",
    "start = time.time()\n",
    "! mpiexec -n 3 python pregunta3b.py\n",
    "end = time.time()\n",
    "tiempo = end - start\n",
    "\n",
    "print(f'El tiempo promedio de ejecución es de {tiempo}s')"
   ]
  },
  {
   "cell_type": "markdown",
   "id": "352ecf93ad83a80a",
   "metadata": {
    "collapsed": false
   },
   "source": [
    "#### c.\tRepetir 3b dividiendo el numpy original en tres partes. Registrar el tiempo de demora."
   ]
  },
  {
   "cell_type": "code",
   "execution_count": 278,
   "id": "78ace9dd727d9a2f",
   "metadata": {
    "collapsed": false,
    "ExecuteTime": {
     "end_time": "2023-09-10T00:04:26.468331900Z",
     "start_time": "2023-09-10T00:04:26.450428600Z"
    }
   },
   "outputs": [
    {
     "name": "stdout",
     "output_type": "stream",
     "text": [
      "Overwriting pregunta3c.py\n"
     ]
    }
   ],
   "source": [
    "%%writefile pregunta3c.py\n",
    "from mpi4py import MPI\n",
    "import numpy as np\n",
    "import os\n",
    "\n",
    "comm = MPI.COMM_WORLD\n",
    "rank = MPI.COMM_WORLD.Get_rank()\n",
    "size = comm.Get_size()\n",
    "\n",
    "py_size = size - 1\n",
    "if rank == py_size:\n",
    "    os.chdir(r\"D:\\1. Documentos\\0. Bases de datos\\0. Dofiles y Scripts\\Diplomado_PUCP\\Big Data\\Tarea 2\")\n",
    "    narray = np.genfromtxt(\"tarea2.csv\", delimiter= \",\", dtype=float)\n",
    "    narray = narray[~np.isnan(narray)]\n",
    "    len_narray = int(len(narray)/py_size) + 1\n",
    "    # Corrección por no ser múltiplo de 3\n",
    "    last_element = narray[-2:-1]\n",
    "    # Append the duplicated element to the original array\n",
    "    narray = np.append(narray, last_element)\n",
    "    narray = narray.reshape(py_size, len_narray)\n",
    "else:\n",
    "    narray = None\n",
    "    len_narray = None\n",
    "\n",
    "len_narray = comm.bcast(len_narray, root=py_size)\n",
    "narray = comm.bcast(narray, root=py_size)\n",
    "\n",
    "if rank == py_size:\n",
    "    max_local = None\n",
    "else:\n",
    "    max_local = max(narray[rank])\n",
    "\n",
    "max_total = comm.gather(max_local, root=py_size)\n",
    "\n",
    "if rank == py_size:\n",
    "    max_final = max(max_total[:py_size-1])\n",
    "else:\n",
    "    max_final = None\n",
    "\n",
    "print(f'Resultados del procesador N° {rank}')\n",
    "print(max_final)"
   ]
  },
  {
   "cell_type": "code",
   "execution_count": 279,
   "id": "6853c45a54192842",
   "metadata": {
    "collapsed": false,
    "ExecuteTime": {
     "end_time": "2023-09-10T00:04:41.858656300Z",
     "start_time": "2023-09-10T00:04:29.402850900Z"
    }
   },
   "outputs": [
    {
     "name": "stdout",
     "output_type": "stream",
     "text": [
      "^C\n",
      "El tiempo promedio de ejecución es de 12.461568593978882s\n"
     ]
    }
   ],
   "source": [
    "import time\n",
    "start = time.time()\n",
    "! mpiexec -n 4 python pregunta3c.py\n",
    "end = time.time()\n",
    "tiempo = end - start\n",
    "\n",
    "print(f'El tiempo promedio de ejecución es de {tiempo}s')"
   ]
  },
  {
   "cell_type": "code",
   "execution_count": 267,
   "outputs": [
    {
     "name": "stdout",
     "output_type": "stream",
     "text": [
      "Overwriting prueba.py\n"
     ]
    }
   ],
   "source": [
    "%%writefile prueba.py\n",
    "from mpi4py import MPI\n",
    "import numpy as np\n",
    "import os\n",
    "\n",
    "comm = MPI.COMM_WORLD\n",
    "rank = MPI.COMM_WORLD.Get_rank()\n",
    "size = comm.Get_size()\n",
    "\n",
    "py_size = size - 1 \n",
    "if rank == py_size:\n",
    "    os.chdir(r\"D:\\1. Documentos\\0. Bases de datos\\0. Dofiles y Scripts\\Diplomado_PUCP\\Big Data\\Tarea 2\")\n",
    "    narray = np.genfromtxt(\"tarea2.csv\", delimiter= \",\", dtype=float)\n",
    "    narray = narray[~np.isnan(narray)]\n",
    "    len_narray = int(len(narray)/py_size)\n",
    "    narray = narray.reshape(py_size, len_narray)\n",
    "else:\n",
    "    narray = None\n",
    "    len_narray = None\n",
    "\n",
    "len_narray = comm.bcast(len_narray, root=py_size)\n",
    "narray = comm.bcast(narray, root=py_size)\n",
    "\n",
    "if rank == py_size:\n",
    "    max_local = None\n",
    "else:\n",
    "    max_local = max(narray[rank])\n",
    "\n",
    "max_total = comm.gather(max_local, root=py_size)\n",
    "\n",
    "if rank == py_size:\n",
    "    max_final = max(max_total[:py_size-1])\n",
    "else:\n",
    "    max_final = None\n",
    "\n",
    "print(f'Resultados del procesador N° {rank}')\n",
    "print(max_final)"
   ],
   "metadata": {
    "collapsed": false,
    "ExecuteTime": {
     "end_time": "2023-09-09T23:55:19.437155400Z",
     "start_time": "2023-09-09T23:55:19.425906200Z"
    }
   },
   "id": "975f376668fe1ab9"
  },
  {
   "cell_type": "code",
   "execution_count": 269,
   "outputs": [
    {
     "name": "stdout",
     "output_type": "stream",
     "text": [
      "Resultados del procesador N° 0\n",
      "None\n",
      "Resultados del procesador N° 1\n",
      "None\n",
      "Resultados del procesador N° 2\n",
      "4448.366507\n",
      "El tiempo promedio de ejecución es de 0.37944555282592773s\n"
     ]
    }
   ],
   "source": [
    "import time\n",
    "start = time.time()\n",
    "! mpiexec -n 3 python prueba.py\n",
    "end = time.time()\n",
    "tiempo = end - start\n",
    "print(f'El tiempo promedio de ejecución es de {tiempo}s')"
   ],
   "metadata": {
    "collapsed": false,
    "ExecuteTime": {
     "end_time": "2023-09-09T23:55:31.165987800Z",
     "start_time": "2023-09-09T23:55:30.792905400Z"
    }
   },
   "id": "8969a1499527702a"
  },
  {
   "cell_type": "markdown",
   "id": "e1856f45a586876f",
   "metadata": {
    "collapsed": false
   },
   "source": [
    "#### d.\tComparar los tiempos registrados en 3a, 3b y 3c. ¿Hay una reducción del tiempo? ¿La reducción del tiempo es lineal? ¿Por qué?\n",
    "En la pregunta a) el tiempo obtenido es de 0.7334s, en la pregunta b) es de 0.7272s y en la pregunta c) es de 0.7094s. Aunque, a veces, cuando he corrido nuevamente los datos salen distintas duraciones."
   ]
  },
  {
   "cell_type": "code",
   "execution_count": 282,
   "id": "ac3f9f4dce463a3",
   "metadata": {
    "collapsed": false,
    "ExecuteTime": {
     "end_time": "2023-09-10T00:05:30.058335200Z",
     "start_time": "2023-09-10T00:05:30.051320200Z"
    }
   },
   "outputs": [],
   "source": [
    "len_narray = int(len(narray)/3) "
   ]
  }
 ],
 "metadata": {
  "kernelspec": {
   "display_name": "Python 3",
   "language": "python",
   "name": "python3"
  },
  "language_info": {
   "codemirror_mode": {
    "name": "ipython",
    "version": 3
   },
   "file_extension": ".py",
   "mimetype": "text/x-python",
   "name": "python",
   "nbconvert_exporter": "python",
   "pygments_lexer": "ipython3",
   "version": "3.10.6"
  }
 },
 "nbformat": 4,
 "nbformat_minor": 5
}
