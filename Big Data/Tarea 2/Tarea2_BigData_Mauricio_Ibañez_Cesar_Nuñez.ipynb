{
 "cells": [
  {
   "cell_type": "markdown",
   "source": [
    "# Tarea 2 - Paralel Computing \n",
    "<b>Autores: </b> Mauricio Ibáñez & César Núñez\n",
    "<b>Fecha: </b> 10/09/2023\n"
   ],
   "metadata": {
    "collapsed": false
   },
   "id": "59a2c693ffdda2f8"
  },
  {
   "cell_type": "markdown",
   "source": [
    "## Parte I\n",
    "### 1.\t¿Qué es un proceso embarrassingly parallel y uno inherentemente serial? Dé un ejemplo de cada uno (distintos a los vistos en clase)\n",
    "\n",
    "Un proceso embarrasingly parallel (EP) está caracterizado por la facilidad inherente que tiene de poder descomponerse en distintos subprocesos a desarrollarse en paralelo. En contraste, un proceso inherentemente serial (IS) es aquel que no puede paralelizarse para nada. La principal diferencia está entre la dependencia de información entre tareas: por un lado, en los procesos EP se pueden generar subprocesos o tareas que son independientes entre sí y no requieren información entre tareas; mientras que en los procesos IS sí existe una fuerte relación entre una tarea y otra, generando la necesidad de que estas se comuniquen frecuentemente para poder obtener el resultado final.\n",
    "\n",
    "Un ejemplo de un proceso EP es la decodificación de una imagen hacia una base de datos. Esta se puede tranquilamente particionar en n subgrupos y cada uno de ellos operar de manera independiente, identificando los colores de cada pixel por separado. Estas subtareas no dependen entre sí, por lo que es completamente paralelizable.\n",
    "Un ejemplo de un proceso IS es una sucesión de números a partir de un dato inicial o también una estimación econométrica. En el caso de esta última, no puedes dividir los datos para obtener la estimación por lo que sólo puede conseguirse el resultado final utilizando toda la información en un solo código "
   ],
   "metadata": {
    "collapsed": false
   },
   "id": "66d1f85ebfceaf18"
  },
  {
   "cell_type": "markdown",
   "source": [
    "### 2.\t¿Cuáles son los dos principales cuellos de botella al paralelizar un proceso? Explíquelo a partir de las leyes de Amdahl y Gustafson "
   ],
   "metadata": {
    "collapsed": false
   },
   "id": "6601170877105f6d"
  },
  {
   "cell_type": "code",
   "execution_count": null,
   "outputs": [],
   "source": [
    "#MAU"
   ],
   "metadata": {
    "collapsed": false
   },
   "id": "6b4bae5ee2db1990"
  },
  {
   "cell_type": "markdown",
   "source": [
    "### 3.\tDescriba los recursos (CPU y GPU) de su computadora y provea evidencia (ie. screenshot). "
   ],
   "metadata": {
    "collapsed": false
   },
   "id": "ed3aa0ad87fc9c97"
  },
  {
   "cell_type": "code",
   "execution_count": null,
   "outputs": [],
   "source": [
    "#MAU"
   ],
   "metadata": {
    "collapsed": false
   },
   "id": "ece4cbb8d4c66167"
  },
  {
   "cell_type": "markdown",
   "source": [
    "### 4.\t¿En qué se diferencia un CPU de un GPU? Dé un ejemplo de un proceso que convendría paralelizar en cada uno de estos tipos de unidad de procesamiento. "
   ],
   "metadata": {
    "collapsed": false
   },
   "id": "adb8907d3d66fe72"
  },
  {
   "cell_type": "code",
   "execution_count": null,
   "outputs": [],
   "source": [
    "#MAU"
   ],
   "metadata": {
    "collapsed": false
   },
   "id": "3868fa1f67df30b4"
  },
  {
   "cell_type": "markdown",
   "source": [
    "### 5.\tSe sabe estima que la nueva memoria RAM POWER 3000 permitirá acelerar las operaciones de su computadora en la mitad del tiempo. ¿Qué tanto más rápido será la velocidad de ejecución de un programa si el 77% del mismo se dedica a operaciones inherentemente paralelizables?"
   ],
   "metadata": {
    "collapsed": false
   },
   "id": "f4b0a52e9199a5c5"
  },
  {
   "cell_type": "code",
   "execution_count": null,
   "outputs": [],
   "source": [
    "#MAU"
   ],
   "metadata": {
    "collapsed": false
   },
   "id": "91cba6144dda23d6"
  },
  {
   "cell_type": "markdown",
   "source": [
    "### 6.\tPiense en una tarea serial que le han encargado paralelizar. Describa el diseño de la implementación en paralelo de dicha tarea siguiente el método de Foster y los cuatro elementos que lo componen.\n",
    "El Método de Foster consiste en estructurar el problema en cuatro estapas: particionar (dividir las tareas en los procesadores), comunicar (determinar y realizar las comunicaciones necesarias para que siga el código), agregar (agrupar las tareas y comunicaciones en tareas más grandes, priorizando aquellas que están relacionadas) y mapping (asignar las tareas ya agregadas a los procesadores).\n",
    "Suponiendo que la tarea es el scrappeo de la base de datos de la SBS respecto de los montos de créditos otorgados a personas naturales y jurídicas en los meses comprendidos entre 2008 y 2023 para la posterior elaboración de tablas y gráficos resúmenes, es posible realizar una paralelización siguiendo el método de Foster.\n",
    "\n",
    "En primer lugar, debemos identificar qué tareas pueden particionarse. Las tareas particionables serían: scrappeo de la web de la SBS para los periodos solicitados y la transformación de cada tabla extraída para una posterior unión, se podría desagregar la data entre el número de los procesadores lógicos disponibles. Además, también podría paralelizarse la elaboración de gráficos o tablas resúmenes una vez que se tenga la base de datos completa. En segundo lugar, se puede identificar que las comunicaciones necesarias entre procesadores es principalmente entre para cuando se requiera unificar las bases de datos y comunicar la base de datos completa para la elaboración de los gráficos y tablas resumen. En tercer lugar, la agrupación de tareas sólo consistiría en el scrappeo, transformación y la unión de los subperiodos que corresponderían a cada procesador. En cuarto lugar, debe asignarse los subperiodos a cada procesador lógico y determinar cuál de los procesadores será el procesador principal que realice la unión de datos final; así como la asignación de tablas y gráficos en cada uno de los procesadores. "
   ],
   "metadata": {
    "collapsed": false
   },
   "id": "1d6aa4068c14e615"
  },
  {
   "cell_type": "markdown",
   "source": [
    "### 7.\t¿Cuál es la diferencia entre point-to-point communication y collective communication en MPI? ¿Cuál es la diferencia entre las operaciones de broadcasting, gathering y scattering?\n",
    "El point-to-point communication es aquella comunicación que va desde un procesador lógico hacia otro específico, pero no pasa por ningún otro procesador; mientras que el collectiv comunication es aquella comunicación que va de un procesador lógico hacia más de un procesador lógico o incluso todos.\n",
    "\n",
    "El broadcast es un tipo de comunicación colectiva en la cual un procesador lógico envía información hacia el resto de procesadores y todos reciben la misma información. Esto ocurre cuando una información generada en un núcleo es importante para las tareas del resto de núcleos.\n",
    "El scatter es un tipo de comunicación colectiva en la cual un procesador lógico envía distintas piezas de información al resto de procesadores y cada uno recibe una información diferente. Esto es útil cuando buscamos paralelizar una tarea que depende de una información almacenada en un único procesador.\n",
    "El gather es un tipo de comunicación colectiva en la cual un procesador lógico recupera la información de parte del resto procesadores lógicos. Esto es útil para consolidar la información de acciones paralelizadas que requieren un procesamiento conjunto de manera posterior."
   ],
   "metadata": {
    "collapsed": false
   },
   "id": "45a9a03dd72f0019"
  },
  {
   "cell_type": "markdown",
   "source": [
    "## Parte II\n",
    "### 1.\t(3 puntos) Escribir un código (“parte2_1.py”) que realice lo siguiente:\n",
    "#### a.\tQue un procesador genere una lista y lo envíe a otros tres procesadores.\n",
    "#### b.\tQue cada uno de los tres procesadores reciba la lista enviada, imprima su número de procesador y la lista. \n"
   ],
   "metadata": {
    "collapsed": false
   },
   "id": "dfdcc7ba07033688"
  },
  {
   "cell_type": "code",
   "execution_count": null,
   "outputs": [],
   "source": [
    "#MAU"
   ],
   "metadata": {
    "collapsed": false
   },
   "id": "e759d77515d609db"
  },
  {
   "cell_type": "markdown",
   "source": [
    "#### c.\tEn otro chunk responda: De ejecutar el código 100 veces, ¿el orden de los resultados será siempre igual? ¿Por qué?"
   ],
   "metadata": {
    "collapsed": false
   },
   "id": "9d15ffa610181583"
  },
  {
   "cell_type": "code",
   "execution_count": null,
   "outputs": [],
   "source": [
    "#MAU"
   ],
   "metadata": {
    "collapsed": false
   },
   "id": "4b8308e2fb05d02d"
  },
  {
   "cell_type": "markdown",
   "source": [
    "### 2.\t(2 puntos) Escribir un código (“parte2_2.py”) que realice lo siguiente:\n",
    "#### a.\tUsando la opción de broadcasting en MPI, defina un diccionario de cuatro elementos que contenga sus cuatro cursos favoritos del diplomado desde el primer procesador. Repita esto para todos los procesadores disponibles. Luego, registre y compare el tiempo de demora desde cada procesador.\n",
    "#### b.\tDefina una secuencia de valores: {0,1,2,3,…, n} en donde n es el número de procesadores de su computadora desde uno de los núcleos. Luego disperse los valores a cada uno de los núcleos restantes usando la opción scattering. Identifique si el número asignado por el proceso coincide con el rango del procesador. "
   ],
   "metadata": {
    "collapsed": false
   },
   "id": "6e27cb8b1a7635c3"
  },
  {
   "cell_type": "code",
   "execution_count": null,
   "outputs": [],
   "source": [
    "#MAU"
   ],
   "metadata": {
    "collapsed": false
   },
   "id": "7d69ba978f5c7d2f"
  },
  {
   "cell_type": "markdown",
   "source": [
    "### 3.\t(5 puntos) Generar un numpy array que almacene el archivo: “tarea2.csv” del siguiente link. Luego:"
   ],
   "metadata": {
    "collapsed": false
   },
   "id": "d50f36dc81a661f0"
  },
  {
   "cell_type": "code",
   "execution_count": 1,
   "outputs": [],
   "source": [
    "import numpy as np\n",
    "import os\n",
    "os.chdir(r\"D:\\1. Documentos\\0. Bases de datos\\0. Dofiles y Scripts\\Diplomado_PUCP\\Big Data\\Tarea 2\")\n",
    "narray = np.genfromtxt(\"tarea2.csv\", delimiter= \",\", dtype=float)\n",
    "narray = narray[~np.isnan(narray)]"
   ],
   "metadata": {
    "collapsed": false,
    "ExecuteTime": {
     "end_time": "2023-09-09T00:50:28.183996400Z",
     "start_time": "2023-09-09T00:50:26.374275Z"
    }
   },
   "id": "9f55fa6729674d42"
  },
  {
   "cell_type": "code",
   "execution_count": 2,
   "outputs": [
    {
     "name": "stdout",
     "output_type": "stream",
     "text": [
      "4448.366507\n"
     ]
    }
   ],
   "source": [
    "max = np.max(narray)\n",
    "print(max)"
   ],
   "metadata": {
    "collapsed": false,
    "ExecuteTime": {
     "end_time": "2023-09-09T00:50:30.170329300Z",
     "start_time": "2023-09-09T00:50:30.150547800Z"
    }
   },
   "id": "48930c86ec80d034"
  },
  {
   "cell_type": "markdown",
   "source": [
    "#### a.\tEscribir un código que halle el valor máximo de “tarea2” usando un procesador. Imprimir el valor máximo. Registrar el tiempo de demora."
   ],
   "metadata": {
    "collapsed": false
   },
   "id": "11af03b6b97b47d0"
  },
  {
   "cell_type": "code",
   "execution_count": 29,
   "outputs": [
    {
     "name": "stdout",
     "output_type": "stream",
     "text": [
      "Overwriting pregunta3a.py\n"
     ]
    }
   ],
   "source": [
    "%%writefile pregunta3a.py\n",
    "from mpi4py import MPI\n",
    "\n",
    "comm = MPI.COMM_WORLD\n",
    "rank = MPI.COMM_WORLD.Get_rank()\n",
    "size = comm.Get_size()\n",
    "\n",
    "import numpy as np\n",
    "import os\n",
    "os.chdir(r\"D:\\1. Documentos\\0. Bases de datos\\0. Dofiles y Scripts\\Diplomado_PUCP\\Big Data\\Tarea 2\")\n",
    "narray = np.genfromtxt(\"tarea2.csv\", delimiter= \",\", dtype=float)\n",
    "narray = narray[~np.isnan(narray)]\n",
    "if rank == 0:\n",
    "    max_1 = np.max(narray)\n",
    "    print(max_1)\n"
   ],
   "metadata": {
    "collapsed": false,
    "ExecuteTime": {
     "end_time": "2023-09-09T01:32:49.015287100Z",
     "start_time": "2023-09-09T01:32:49.006866800Z"
    }
   },
   "id": "1071bd7850efaea"
  },
  {
   "cell_type": "code",
   "execution_count": 30,
   "outputs": [
    {
     "name": "stdout",
     "output_type": "stream",
     "text": [
      "4448.366507\n",
      "El tiempo promedio de ejecución es de 0.7967944145202637s\n"
     ]
    }
   ],
   "source": [
    "import time\n",
    "start = time.time()\n",
    "! mpiexec -n 8 python pregunta3a.py\n",
    "end = time.time()\n",
    "tiempo = end - start\n",
    "print(f'El tiempo promedio de ejecución es de {tiempo}s')"
   ],
   "metadata": {
    "collapsed": false,
    "ExecuteTime": {
     "end_time": "2023-09-09T01:32:51.414790600Z",
     "start_time": "2023-09-09T01:32:50.562757400Z"
    }
   },
   "id": "42126bb0d9a477f3"
  },
  {
   "cell_type": "markdown",
   "source": [
    "#### b.\tEscribir un código que realice las siguientes indicaciones : (i) dividir el numpy en dos partes iguales, (ii) que dos procesadores distintos encuentren el máximo de cada parte, y (iii) que otro procesador junte los máximos hallados y encuentre el máximo global. Registrar el tiempo de demora."
   ],
   "metadata": {
    "collapsed": false
   },
   "id": "de621aa2f6476be9"
  },
  {
   "cell_type": "code",
   "execution_count": 125,
   "outputs": [
    {
     "name": "stdout",
     "output_type": "stream",
     "text": [
      "Overwriting pregunta3b.py\n"
     ]
    }
   ],
   "source": [
    "%%writefile pregunta3b.py\n",
    "from mpi4py import MPI\n",
    "\n",
    "comm = MPI.COMM_WORLD\n",
    "rank = MPI.COMM_WORLD.Get_rank()\n",
    "size = comm.Get_size()\n",
    "\n",
    "import numpy as np\n",
    "import os\n",
    "\n",
    "\n",
    "if rank == 0:\n",
    "    os.chdir(r\"D:\\1. Documentos\\0. Bases de datos\\0. Dofiles y Scripts\\Diplomado_PUCP\\Big Data\\Tarea 2\")\n",
    "    narray = np.genfromtxt(\"tarea2.csv\", delimiter= \",\", dtype=float)\n",
    "    narray = narray[~np.isnan(narray)] \n",
    "    len_narray = int(len(narray)/3)\n",
    "else:\n",
    "    narray = None\n",
    "    len_narray = None\n",
    "\n",
    "len_narray = comm.bcast(len_narray, root=0)\n",
    "\n",
    "local_data = np.empty(len_narray, dtype=float)\n",
    "comm.Scatter(narray, local_data, root=0)\n",
    "    \n",
    "print(rank)\n",
    "print(local_data)\n",
    "print(f'{len_narray}')\n",
    "\n",
    "\n",
    "'''\n",
    "local_data = np.empty(len_narray, dtype=float)\n",
    "comm.Scatter(narray, local_data, root=0)\n",
    "local_max = np.max(local_data)\n",
    "\n",
    "max_total = comm.gather(local_max, root=0)\n",
    "\n",
    "if rank == 0:\n",
    "    max_total = max(max_total)\n",
    "    print(max_total)\n",
    "'''"
   ],
   "metadata": {
    "collapsed": false,
    "ExecuteTime": {
     "end_time": "2023-09-09T02:08:31.856855700Z",
     "start_time": "2023-09-09T02:08:31.841076100Z"
    }
   },
   "id": "3219fd0284fe3f91"
  },
  {
   "cell_type": "code",
   "execution_count": 126,
   "outputs": [
    {
     "name": "stdout",
     "output_type": "stream",
     "text": [
      "^C\n",
      "El tiempo promedio de ejecución es de 3.4522597789764404s\n"
     ]
    }
   ],
   "source": [
    "import time\n",
    "start = time.time()\n",
    "! mpiexec -n 3 python pregunta3b.py\n",
    "end = time.time()\n",
    "tiempo = end - start\n",
    "\n",
    "print(f'El tiempo promedio de ejecución es de {tiempo}s')"
   ],
   "metadata": {
    "collapsed": false,
    "ExecuteTime": {
     "end_time": "2023-09-09T02:08:37.171820Z",
     "start_time": "2023-09-09T02:08:33.719257100Z"
    }
   },
   "id": "d184fc77a782a488"
  },
  {
   "cell_type": "markdown",
   "source": [
    "#### c.\tRepetir 3b dividiendo el numpy original en tres partes. Registrar el tiempo de demora."
   ],
   "metadata": {
    "collapsed": false
   },
   "id": "352ecf93ad83a80a"
  },
  {
   "cell_type": "code",
   "execution_count": 7,
   "outputs": [
    {
     "name": "stdout",
     "output_type": "stream",
     "text": [
      "Overwriting pregunta3c.py\n"
     ]
    }
   ],
   "source": [
    "%%writefile pregunta3c.py\n",
    "from mpi4py import MPI\n",
    "\n",
    "comm = MPI.COMM_WORLD\n",
    "rank = MPI.COMM_WORLD.Get_rank()\n",
    "size = comm.Get_size()\n",
    "\n",
    "import numpy as np\n",
    "import os\n",
    "os.chdir(r\"D:\\1. Documentos\\0. Bases de datos\\0. Dofiles y Scripts\\Diplomado_PUCP\\Big Data\\Tarea 2\")\n",
    "narray = np.genfromtxt(\"tarea2.csv\", delimiter= \",\", dtype=float)\n",
    "narray = narray[~np.isnan(narray)]\n",
    "\n",
    "if rank == 0:\n",
    "    length = int(len(narray)/3)\n",
    "    max_1 = np.max(narray[:length])\n",
    "    comm.send(max_1, dest=3 , tag=3)\n",
    "elif rank ==1:\n",
    "    length_1 = int(len(narray)/3)\n",
    "    length_2 = int(2*len(narray)/3)\n",
    "    max_2 = np.max(narray[length_1:length_2])\n",
    "    comm.send(max_2, dest=3 , tag=3)\n",
    "elif rank ==2:\n",
    "    length_2 = int(2*len(narray)/3)\n",
    "    max_3 = np.max(narray[length_2:])\n",
    "    comm.send(max_3, dest=3 , tag=3)\n",
    "elif rank ==3:\n",
    "    max_1 = comm.recv(source=0 , tag=3)\n",
    "    max_2 = comm.recv(source=1 , tag=3)\n",
    "    max_3 = comm.recv(source=2, tag=3)\n",
    "    max_total = max(max_1,max_2,max_3)\n",
    "    print(max_total)"
   ],
   "metadata": {
    "collapsed": false,
    "ExecuteTime": {
     "end_time": "2023-09-09T00:50:52.076357Z",
     "start_time": "2023-09-09T00:50:52.066407Z"
    }
   },
   "id": "78ace9dd727d9a2f"
  },
  {
   "cell_type": "code",
   "execution_count": 8,
   "outputs": [
    {
     "name": "stdout",
     "output_type": "stream",
     "text": [
      "4448.366507\n",
      "El tiempo promedio de ejecución es de 0.9440469741821289s\n"
     ]
    }
   ],
   "source": [
    "import time\n",
    "start = time.time()\n",
    "! mpiexec -n 8 python pregunta3c.py\n",
    "end = time.time()\n",
    "tiempo = end - start\n",
    "\n",
    "print(f'El tiempo promedio de ejecución es de {tiempo}s')"
   ],
   "metadata": {
    "collapsed": false,
    "ExecuteTime": {
     "end_time": "2023-09-09T00:50:54.868284300Z",
     "start_time": "2023-09-09T00:50:53.930078Z"
    }
   },
   "id": "6853c45a54192842"
  },
  {
   "cell_type": "markdown",
   "source": [
    "#### d.\tComparar los tiempos registrados en 3a, 3b y 3c. ¿Hay una reducción del tiempo? ¿La reducción del tiempo es lineal? ¿Por qué?\n",
    "En la pregunta a) el tiempo obtenido es de 0.7334s, en la pregunta b) es de 0.7272s y en la pregunta c) es de 0.7094s. Aunque, a veces, cuando he corrido nuevamente los datos salen distintas duraciones."
   ],
   "metadata": {
    "collapsed": false
   },
   "id": "e1856f45a586876f"
  },
  {
   "cell_type": "code",
   "execution_count": null,
   "outputs": [],
   "source": [],
   "metadata": {
    "collapsed": false
   },
   "id": "ac3f9f4dce463a3"
  }
 ],
 "metadata": {
  "kernelspec": {
   "display_name": "Python 3",
   "language": "python",
   "name": "python3"
  },
  "language_info": {
   "codemirror_mode": {
    "name": "ipython",
    "version": 2
   },
   "file_extension": ".py",
   "mimetype": "text/x-python",
   "name": "python",
   "nbconvert_exporter": "python",
   "pygments_lexer": "ipython2",
   "version": "2.7.6"
  }
 },
 "nbformat": 4,
 "nbformat_minor": 5
}
