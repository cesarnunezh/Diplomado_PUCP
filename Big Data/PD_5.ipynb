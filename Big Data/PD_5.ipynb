{
 "cells": [
  {
   "cell_type": "code",
   "execution_count": 1,
   "metadata": {},
   "outputs": [],
   "source": [
    "# Establecer directorio\n",
    "import os \n",
    "os.chdir('c:\\\\users\\\\JOSE MENDOZA\\\\Dropbox\\\\Projects\\\\2023-2\\\\QLab\\\\PDs\\\\bases')"
   ]
  },
  {
   "cell_type": "code",
   "execution_count": null,
   "metadata": {},
   "outputs": [],
   "source": []
  },
  {
   "cell_type": "code",
   "execution_count": 9,
   "metadata": {},
   "outputs": [
    {
     "name": "stdout",
     "output_type": "stream",
     "text": [
      "Requirement already satisfied: mpi4py in c:\\users\\jose mendoza\\anaconda3\\lib\\site-packages (3.1.4)\n"
     ]
    }
   ],
   "source": [
    "# Instalar mpi4py\n",
    "! pip install mpi4py"
   ]
  },
  {
   "cell_type": "code",
   "execution_count": null,
   "metadata": {},
   "outputs": [],
   "source": []
  },
  {
   "cell_type": "markdown",
   "metadata": {},
   "source": [
    "### Crear código de ejemplo 1"
   ]
  },
  {
   "cell_type": "code",
   "execution_count": 2,
   "metadata": {
    "scrolled": true
   },
   "outputs": [
    {
     "name": "stdout",
     "output_type": "stream",
     "text": [
      "Overwriting mpi_example1.py\n"
     ]
    }
   ],
   "source": [
    "%%writefile mpi_example1.py \n",
    "from mpi4py import MPI\n",
    "\n",
    "comm = MPI.COMM_WORLD # all available processors to communicate \n",
    "rank = comm.Get_rank() # give ranks to processors, local variable for e/ processor\n",
    "size = comm.Get_size() # each processor identifies the total processors \n",
    "\n",
    "print(\"Hello World from rank \", rank, \" out of \", size, \" processors \")"
   ]
  },
  {
   "cell_type": "code",
   "execution_count": 4,
   "metadata": {
    "scrolled": true
   },
   "outputs": [
    {
     "name": "stdout",
     "output_type": "stream",
     "text": [
      "Hello World from rank  3  out of  8  processors \n",
      "Hello World from rank  4  out of  8  processors \n",
      "Hello World from rank  7  out of  8  processors \n",
      "Hello World from rank  1  out of  8  processors \n",
      "Hello World from rank  0  out of  8  processors \n",
      "Hello World from rank  5  out of  8  processors \n",
      "Hello World from rank  2  out of  8  processors \n",
      "Hello World from rank  6  out of  8  processors \n"
     ]
    }
   ],
   "source": [
    "!mpiexec -n 8 python mpi_example1.py"
   ]
  },
  {
   "cell_type": "code",
   "execution_count": null,
   "metadata": {},
   "outputs": [],
   "source": []
  },
  {
   "cell_type": "code",
   "execution_count": null,
   "metadata": {},
   "outputs": [],
   "source": []
  },
  {
   "cell_type": "code",
   "execution_count": null,
   "metadata": {},
   "outputs": [],
   "source": []
  },
  {
   "cell_type": "code",
   "execution_count": null,
   "metadata": {},
   "outputs": [],
   "source": []
  },
  {
   "cell_type": "markdown",
   "metadata": {},
   "source": [
    "#### Algunas preguntas\n",
    "¿Cuántos procesadores tiene mi computadora?\n",
    "¿Cuál es la diferencia entre procesadores y procesos?"
   ]
  },
  {
   "cell_type": "markdown",
   "metadata": {},
   "source": [
    "### Crear código de ejemplo 2"
   ]
  },
  {
   "cell_type": "code",
   "execution_count": 7,
   "metadata": {},
   "outputs": [
    {
     "name": "stdout",
     "output_type": "stream",
     "text": [
      "Overwriting mpi_example2.py\n"
     ]
    }
   ],
   "source": [
    "%%writefile mpi_example2.py \n",
    "from mpi4py import MPI\n",
    "\n",
    "rank = MPI.COMM_WORLD.Get_rank()\n",
    "a = 6.0\n",
    "b = 3.0\n",
    "if rank == 0:\n",
    "    print(a+b, \"I am processor\", rank)\n",
    "if rank == 1:\n",
    "    print(a*b, \"I am processor\", rank)\n",
    "if rank == 2:\n",
    "    print(max(a,b), \"I am processor\", rank)\n",
    "if rank == 3:\n",
    "    print(min(a,b),\"I am processor\", rank)"
   ]
  },
  {
   "cell_type": "code",
   "execution_count": null,
   "metadata": {},
   "outputs": [],
   "source": []
  },
  {
   "cell_type": "code",
   "execution_count": 8,
   "metadata": {
    "scrolled": false
   },
   "outputs": [
    {
     "name": "stdout",
     "output_type": "stream",
     "text": [
      "6.0 I am processor 2\n",
      "3.0 I am processor 3\n",
      "18.0 I am processor 1\n",
      "9.0 I am processor 0\n",
      "0.15199875831604004\n"
     ]
    }
   ],
   "source": [
    "import time\n",
    "start = time.time()\n",
    "! mpiexec -n 4 python mpi_example2.py\n",
    "end = time.time()\n",
    "print(end - start)"
   ]
  },
  {
   "cell_type": "code",
   "execution_count": 11,
   "metadata": {},
   "outputs": [
    {
     "ename": "NameError",
     "evalue": "name 'data' is not defined",
     "output_type": "error",
     "traceback": [
      "\u001b[1;31m---------------------------------------------------------------------------\u001b[0m",
      "\u001b[1;31mNameError\u001b[0m                                 Traceback (most recent call last)",
      "\u001b[1;32m~\\AppData\\Local\\Temp\\ipykernel_16720\\391604064.py\u001b[0m in \u001b[0;36m<module>\u001b[1;34m\u001b[0m\n\u001b[1;32m----> 1\u001b[1;33m \u001b[0mdata\u001b[0m\u001b[1;33m\u001b[0m\u001b[1;33m\u001b[0m\u001b[0m\n\u001b[0m",
      "\u001b[1;31mNameError\u001b[0m: name 'data' is not defined"
     ]
    }
   ],
   "source": []
  },
  {
   "cell_type": "markdown",
   "metadata": {},
   "source": [
    "### Crear código de ejemplo 3a"
   ]
  },
  {
   "cell_type": "code",
   "execution_count": 9,
   "metadata": {},
   "outputs": [
    {
     "name": "stdout",
     "output_type": "stream",
     "text": [
      "Overwriting mpi_example3.py\n"
     ]
    }
   ],
   "source": [
    "%%writefile mpi_example3.py \n",
    "from mpi4py import MPI\n",
    "\n",
    "comm = MPI.COMM_WORLD\n",
    "rank = comm.Get_rank()\n",
    "if rank == 0:\n",
    "    data = {'a': 7, 'b': 3.14}\n",
    "    comm.send(data, dest=1 , tag=1)\n",
    "elif rank == 1:\n",
    "    data = comm.recv(source=0 , tag=1)\n",
    "    print(\"I am processor\", rank)\n",
    "    print(data)"
   ]
  },
  {
   "cell_type": "code",
   "execution_count": 14,
   "metadata": {
    "scrolled": true
   },
   "outputs": [
    {
     "name": "stdout",
     "output_type": "stream",
     "text": [
      "I am processor 1\n",
      "{'a': 7, 'b': 3.14}\n",
      "0.15696334838867188\n"
     ]
    }
   ],
   "source": [
    "start = time.time()\n",
    "! mpiexec -n 4 python mpi_example3.py\n",
    "end = time.time()\n",
    "print(end - start)"
   ]
  },
  {
   "cell_type": "markdown",
   "metadata": {},
   "source": [
    "### Crear código de ejemplo 3b"
   ]
  },
  {
   "cell_type": "code",
   "execution_count": 18,
   "metadata": {},
   "outputs": [
    {
     "name": "stdout",
     "output_type": "stream",
     "text": [
      "Overwriting mpi_example3b.py\n"
     ]
    }
   ],
   "source": [
    "%%writefile mpi_example3b.py \n",
    "from mpi4py import MPI\n",
    "\n",
    "comm = MPI.COMM_WORLD\n",
    "rank = comm.Get_rank()\n",
    "if rank == 0:\n",
    "    data1 = {'a': 7, 'b': 3.14}\n",
    "    comm.send(data1, dest=1 , tag=1)\n",
    "    data2 = {'Perú': 2, 'Australia': 0}\n",
    "    comm.send(data2, dest=2 , tag=2)\n",
    "elif rank == 1:\n",
    "    data1 = comm.recv(source=0 , tag=1)\n",
    "    print(\"I am processor\", rank)\n",
    "    print(data1)\n",
    "elif rank == 2:\n",
    "    data2 = comm.recv(source=0 , tag=2)\n",
    "    print(\"I am processor\", rank)\n",
    "    print(data2)"
   ]
  },
  {
   "cell_type": "code",
   "execution_count": 19,
   "metadata": {
    "scrolled": false
   },
   "outputs": [
    {
     "name": "stdout",
     "output_type": "stream",
     "text": [
      "I am processor 1\n",
      "{'a': 7, 'b': 3.14}\n",
      "I am processor 2\n",
      "{'Perú': 2, 'Australia': 0}\n",
      "0.13979530334472656\n"
     ]
    }
   ],
   "source": [
    "start = time.time()\n",
    "! mpiexec -n 4 python mpi_example3b.py\n",
    "end = time.time()\n",
    "print(end - start)"
   ]
  },
  {
   "cell_type": "markdown",
   "metadata": {},
   "source": [
    "#### Algunas preguntas\n",
    "¿Siempre se debe usar el mismo nombre para los datos enviados/recibidos?\n",
    "¿Para qué sirven las etiquetas?"
   ]
  },
  {
   "cell_type": "markdown",
   "metadata": {},
   "source": [
    "### Crear código de ejemplo 3c"
   ]
  },
  {
   "cell_type": "code",
   "execution_count": 20,
   "metadata": {},
   "outputs": [
    {
     "name": "stdout",
     "output_type": "stream",
     "text": [
      "Overwriting mpi_example3c.py\n"
     ]
    }
   ],
   "source": [
    "%%writefile mpi_example3c.py \n",
    "from mpi4py import MPI\n",
    "\n",
    "comm = MPI.COMM_WORLD\n",
    "rank = comm.Get_rank()\n",
    "if rank == 0:\n",
    "    data = {'Perú': 2, 'Australia': 0}\n",
    "    comm.send(data, dest=1 , tag=1)\n",
    "    comm.send(data, dest=2 , tag=1)\n",
    "elif rank == 1:\n",
    "    data = comm.recv(source=0 , tag=1)\n",
    "    print(\"I am processor\", rank)\n",
    "    print(data)\n",
    "elif rank == 2:\n",
    "    data = comm.recv(source=0 , tag=1)\n",
    "    print(\"I am processor\", rank)\n",
    "    print(data)"
   ]
  },
  {
   "cell_type": "code",
   "execution_count": 21,
   "metadata": {
    "scrolled": true
   },
   "outputs": [
    {
     "name": "stdout",
     "output_type": "stream",
     "text": [
      "I am processor 1\n",
      "{'Perú': 2, 'Australia': 0}\n",
      "I am processor 2\n",
      "{'Perú': 2, 'Australia': 0}\n",
      "0.14626455307006836\n"
     ]
    }
   ],
   "source": [
    "start = time.time()\n",
    "! mpiexec -n 4 python mpi_example3c.py\n",
    "end = time.time()\n",
    "print(end - start)"
   ]
  },
  {
   "cell_type": "markdown",
   "metadata": {},
   "source": [
    "### Crear código de ejemplo 4a\n",
    "La diferencia entre usar comandos en minúscula/mayúscula es que en mayúscula es mejor para enviar numpys más rápido"
   ]
  },
  {
   "cell_type": "code",
   "execution_count": 17,
   "metadata": {
    "scrolled": true
   },
   "outputs": [
    {
     "name": "stdout",
     "output_type": "stream",
     "text": [
      "Overwriting mpi_example4.py\n"
     ]
    }
   ],
   "source": [
    "%%writefile mpi_example4.py \n",
    "from mpi4py import MPI\n",
    "\n",
    "import numpy as np\n",
    "\n",
    "comm = MPI.COMM_WORLD\n",
    "rank = comm.Get_rank()\n",
    "\n",
    "if rank == 0:\n",
    "    data = np.arange(100000000, dtype=np.float)\n",
    "    comm.Send(data, dest=1)\n",
    "elif rank == 1:\n",
    "    data = np.empty(100000000, dtype=np.float)\n",
    "    comm.Recv(data, source=0)\n",
    "    print(data)\n",
    "    "
   ]
  },
  {
   "cell_type": "code",
   "execution_count": 18,
   "metadata": {
    "scrolled": false
   },
   "outputs": [
    {
     "name": "stdout",
     "output_type": "stream",
     "text": [
      "[0.0000000e+00 1.0000000e+00 2.0000000e+00 ... 9.9999997e+07 9.9999998e+07\n",
      " 9.9999999e+07]\n",
      "0.9299993515014648\n"
     ]
    },
    {
     "name": "stderr",
     "output_type": "stream",
     "text": [
      "c:\\Users\\JOSE MENDOZA\\Dropbox\\Projects\\2023-2\\QLab\\PDs\\bases\\mpi_example4.py:12: DeprecationWarning: `np.float` is a deprecated alias for the builtin `float`. To silence this warning, use `float` by itself. Doing this will not modify any behavior and is safe. If you specifically wanted the numpy scalar type, use `np.float64` here.\n",
      "Deprecated in NumPy 1.20; for more details and guidance: https://numpy.org/devdocs/release/1.20.0-notes.html#deprecations\n",
      "  data = np.empty(100000000, dtype=np.float)\n",
      "c:\\Users\\JOSE MENDOZA\\Dropbox\\Projects\\2023-2\\QLab\\PDs\\bases\\mpi_example4.py:9: DeprecationWarning: `np.float` is a deprecated alias for the builtin `float`. To silence this warning, use `float` by itself. Doing this will not modify any behavior and is safe. If you specifically wanted the numpy scalar type, use `np.float64` here.\n",
      "Deprecated in NumPy 1.20; for more details and guidance: https://numpy.org/devdocs/release/1.20.0-notes.html#deprecations\n",
      "  data = np.arange(100000000, dtype=np.float)\n"
     ]
    }
   ],
   "source": [
    "start2 = time.time()\n",
    "! mpiexec -n 4 python mpi_example4.py\n",
    "end2 = time.time()\n",
    "print(end2 - start2)"
   ]
  },
  {
   "cell_type": "markdown",
   "metadata": {},
   "source": [
    "### Crear código de ejemplo 4b\n",
    "¿Qué sucede si uso los códigos en minúscula?"
   ]
  },
  {
   "cell_type": "code",
   "execution_count": 19,
   "metadata": {},
   "outputs": [
    {
     "name": "stdout",
     "output_type": "stream",
     "text": [
      "Overwriting mpi_example4b.py\n"
     ]
    }
   ],
   "source": [
    "%%writefile mpi_example4b.py \n",
    "from mpi4py import MPI\n",
    "\n",
    "import numpy as np\n",
    "\n",
    "comm = MPI.COMM_WORLD\n",
    "rank = comm.Get_rank()\n",
    "\n",
    "if rank == 0:\n",
    "    data = np.arange(100000000, dtype=np.float)\n",
    "    comm.send(data, dest=1)\n",
    "elif rank == 1:\n",
    "    data = np.empty(100, dtype=np.float)\n",
    "    data = comm.recv(source=0)\n",
    "    print(data)"
   ]
  },
  {
   "cell_type": "code",
   "execution_count": 20,
   "metadata": {},
   "outputs": [
    {
     "name": "stdout",
     "output_type": "stream",
     "text": [
      "[0.0000000e+00 1.0000000e+00 2.0000000e+00 ... 9.9999997e+07 9.9999998e+07\n",
      " 9.9999999e+07]\n",
      "2.1891934871673584\n"
     ]
    },
    {
     "name": "stderr",
     "output_type": "stream",
     "text": [
      "c:\\Users\\JOSE MENDOZA\\Dropbox\\Projects\\2023-2\\QLab\\PDs\\bases\\mpi_example4b.py:12: DeprecationWarning: `np.float` is a deprecated alias for the builtin `float`. To silence this warning, use `float` by itself. Doing this will not modify any behavior and is safe. If you specifically wanted the numpy scalar type, use `np.float64` here.\n",
      "Deprecated in NumPy 1.20; for more details and guidance: https://numpy.org/devdocs/release/1.20.0-notes.html#deprecations\n",
      "  data = np.empty(100, dtype=np.float)\n",
      "c:\\Users\\JOSE MENDOZA\\Dropbox\\Projects\\2023-2\\QLab\\PDs\\bases\\mpi_example4b.py:9: DeprecationWarning: `np.float` is a deprecated alias for the builtin `float`. To silence this warning, use `float` by itself. Doing this will not modify any behavior and is safe. If you specifically wanted the numpy scalar type, use `np.float64` here.\n",
      "Deprecated in NumPy 1.20; for more details and guidance: https://numpy.org/devdocs/release/1.20.0-notes.html#deprecations\n",
      "  data = np.arange(100000000, dtype=np.float)\n"
     ]
    }
   ],
   "source": [
    "start = time.time()\n",
    "! mpiexec -n 4 python mpi_example4b.py\n",
    "end = time.time()\n",
    "print(end - start)"
   ]
  },
  {
   "cell_type": "markdown",
   "metadata": {},
   "source": [
    "### Crear código de ejemplo 5"
   ]
  },
  {
   "cell_type": "code",
   "execution_count": 26,
   "metadata": {},
   "outputs": [
    {
     "name": "stdout",
     "output_type": "stream",
     "text": [
      "Overwriting mpi_example5.py\n"
     ]
    }
   ],
   "source": [
    "%%writefile mpi_example5.py \n",
    "from mpi4py import MPI\n",
    "import matplotlib.pyplot as plt\n",
    "import numpy as np\n",
    "import time\n",
    "\n",
    "def sim_rand_walks_parallel(n_runs):\n",
    "    # Get rank of process and overall size of communicator:\n",
    "    comm = MPI.COMM_WORLD\n",
    "    rank = comm.Get_rank()\n",
    "    size = comm.Get_size()\n",
    "\n",
    "    # Start time:\n",
    "    t0 = time.time()\n",
    "\n",
    "    # Evenly distribute number of simulation runs across processes\n",
    "    N = int(n_runs/size)\n",
    "\n",
    "    # Simulate N random walks and specify as a NumPy Array\n",
    "    r_walks = []\n",
    "    for i in range(N):\n",
    "        steps = np.random.normal(loc=0, scale=1, size=100)\n",
    "        steps[0] = 0\n",
    "        r_walks.append(100 + np.cumsum(steps))\n",
    "    r_walks_array = np.array(r_walks)\n",
    "\n",
    "    # Gather all simulation arrays to buffer of expected size/dtype on rank 0\n",
    "    r_walks_all = None\n",
    "    if rank == 0:\n",
    "        r_walks_all = np.empty([N*size, 100], dtype='float')\n",
    "    comm.Gather(sendbuf = r_walks_array, recvbuf = r_walks_all, root=0)\n",
    "\n",
    "    # Print/plot simulation results on rank 0\n",
    "    if rank == 0:\n",
    "        # Calculate time elapsed after computing mean and std\n",
    "        time_elapsed = time.time() - t0\n",
    "\n",
    "        # Print time elapsed + simulation results\n",
    "        print(\"Simulated %d Random Walks in: %f seconds on %d MPI processes\"\n",
    "                % (n_runs, time_elapsed, size))\n",
    "\n",
    "        # Plot Simulations and save to file\n",
    "        plt.plot(r_walks_all.transpose())\n",
    "        plt.savefig(\"r_walk_nprocs%d_nruns%d.png\" % (size, n_runs))\n",
    "\n",
    "    return\n",
    "\n",
    "def main():\n",
    "    sim_rand_walks_parallel(n_runs = 10000)\n",
    "\n",
    "if __name__ == '__main__':\n",
    "    main()"
   ]
  },
  {
   "cell_type": "code",
   "execution_count": 27,
   "metadata": {
    "scrolled": true
   },
   "outputs": [
    {
     "name": "stdout",
     "output_type": "stream",
     "text": [
      "Simulated 10000 Random Walks in: 0.110367 seconds on 4 MPI processes\n"
     ]
    }
   ],
   "source": [
    "! mpiexec -n 4 python mpi_example5.py\n",
    "# Probar tmb cambiando el número de procesadores"
   ]
  },
  {
   "cell_type": "code",
   "execution_count": null,
   "metadata": {},
   "outputs": [],
   "source": []
  },
  {
   "cell_type": "code",
   "execution_count": null,
   "metadata": {},
   "outputs": [],
   "source": [
    "#Todo se manda al rank 0"
   ]
  },
  {
   "cell_type": "code",
   "execution_count": 27,
   "metadata": {},
   "outputs": [
    {
     "name": "stdout",
     "output_type": "stream",
     "text": [
      "Writing mpi_example7.py\n"
     ]
    }
   ],
   "source": [
    "%%writefile mpi_example7.py \n",
    "from mpi4py import MPI\n",
    "\n",
    "# Get my rank and the number of ranks\n",
    "rank = MPI.COMM_WORLD.Get_rank()\n",
    "n_ranks = MPI.COMM_WORLD.Get_size()\n",
    "\n",
    "if rank != 0:\n",
    "    # All ranks other than 0 should send a message\n",
    "    message = \"Hello World, I'm rank {:d}\".format(rank)\n",
    "    MPI.COMM_WORLD.send(message, dest=0, tag=0)\n",
    "\n",
    "else:\n",
    "    # Rank 0 will receive each message and print them\n",
    "    for sender in range(1, n_ranks):\n",
    "        message = MPI.COMM_WORLD.recv(source=sender, tag=0)\n",
    "        print(message)"
   ]
  },
  {
   "cell_type": "code",
   "execution_count": 28,
   "metadata": {},
   "outputs": [
    {
     "name": "stdout",
     "output_type": "stream",
     "text": [
      "Hello World, I'm rank 1\n",
      "Hello World, I'm rank 2\n",
      "Hello World, I'm rank 3\n"
     ]
    }
   ],
   "source": [
    "! mpiexec -n 4 python mpi_example7.py\n",
    "# Probar tmb cambiando el número de procesadores"
   ]
  },
  {
   "cell_type": "markdown",
   "metadata": {},
   "source": [
    "# Collective Communication"
   ]
  },
  {
   "cell_type": "code",
   "execution_count": 43,
   "metadata": {},
   "outputs": [],
   "source": [
    "#Broadcasting a Python dictionary "
   ]
  },
  {
   "cell_type": "code",
   "execution_count": 44,
   "metadata": {},
   "outputs": [
    {
     "name": "stdout",
     "output_type": "stream",
     "text": [
      "Overwriting mpi_example8.py\n"
     ]
    }
   ],
   "source": [
    "%%writefile mpi_example8.py \n",
    "from mpi4py import MPI\n",
    "\n",
    "comm = MPI.COMM_WORLD\n",
    "rank = comm.Get_rank()\n",
    "\n",
    "if rank == 0:\n",
    "    data = {'key1' : [7, 2.72, 2+3j],\n",
    "            'key2' : ( 'abc', 'xyz')}\n",
    "else:\n",
    "    data = None\n",
    "data = comm.bcast(data, root=0)\n",
    "print(data)"
   ]
  },
  {
   "cell_type": "code",
   "execution_count": 45,
   "metadata": {},
   "outputs": [
    {
     "name": "stdout",
     "output_type": "stream",
     "text": [
      "{'key1': [7, 2.72, (2+3j)], 'key2': ('abc', 'xyz')}\n",
      "{'key1': [7, 2.72, (2+3j)], 'key2': ('abc', 'xyz')}\n",
      "{'key1': [7, 2.72, (2+3j)], 'key2': ('abc', 'xyz')}\n",
      "{'key1': [7, 2.72, (2+3j)], 'key2': ('abc', 'xyz')}\n"
     ]
    }
   ],
   "source": [
    "! mpiexec -n 4 python mpi_example8.py\n",
    "# Probar tmb cambiando el número de procesadores"
   ]
  },
  {
   "cell_type": "code",
   "execution_count": 46,
   "metadata": {},
   "outputs": [],
   "source": [
    "#Scattering Python objects:"
   ]
  },
  {
   "cell_type": "code",
   "execution_count": 47,
   "metadata": {},
   "outputs": [
    {
     "name": "stdout",
     "output_type": "stream",
     "text": [
      "Overwriting mpi_example9.py\n"
     ]
    }
   ],
   "source": [
    "%%writefile mpi_example9.py\n",
    "from mpi4py import MPI\n",
    "\n",
    "comm = MPI.COMM_WORLD\n",
    "size = comm.Get_size()\n",
    "rank = comm.Get_rank()\n",
    "\n",
    "if rank == 0:\n",
    "    data = [(i+1)**2 for i in range(size)]\n",
    "else:\n",
    "    data = None\n",
    "data = comm.scatter(data, root=0)\n",
    "assert data == (rank+1)**2\n",
    "print(data)"
   ]
  },
  {
   "cell_type": "code",
   "execution_count": 48,
   "metadata": {},
   "outputs": [
    {
     "name": "stdout",
     "output_type": "stream",
     "text": [
      "4\n",
      "1\n",
      "9\n",
      "16\n"
     ]
    }
   ],
   "source": [
    "! mpiexec -n 4 python mpi_example9.py\n",
    "# Probar tmb cambiando el número de procesadores"
   ]
  },
  {
   "cell_type": "code",
   "execution_count": 49,
   "metadata": {},
   "outputs": [],
   "source": [
    "#Gathering Python objects:"
   ]
  },
  {
   "cell_type": "code",
   "execution_count": 52,
   "metadata": {},
   "outputs": [
    {
     "name": "stdout",
     "output_type": "stream",
     "text": [
      "Overwriting mpi_example10.py\n"
     ]
    }
   ],
   "source": [
    "%%writefile mpi_example10.py\n",
    "from mpi4py import MPI\n",
    "\n",
    "comm = MPI.COMM_WORLD\n",
    "size = comm.Get_size()\n",
    "rank = comm.Get_rank()\n",
    "\n",
    "data = (rank+1)**2\n",
    "data = comm.gather(data, root=0)\n",
    "if rank == 0:\n",
    "    for i in range(size):\n",
    "        assert data[i] == (i+1)**2\n",
    "else:\n",
    "    assert data is None\n",
    "print(data)"
   ]
  },
  {
   "cell_type": "code",
   "execution_count": 53,
   "metadata": {},
   "outputs": [
    {
     "name": "stdout",
     "output_type": "stream",
     "text": [
      "None\n",
      "None\n",
      "None\n",
      "[1, 4, 9, 16]\n"
     ]
    }
   ],
   "source": [
    "! mpiexec -n 4 python mpi_example10.py\n",
    "# Probar tmb cambiando el número de procesadores"
   ]
  },
  {
   "cell_type": "code",
   "execution_count": 54,
   "metadata": {},
   "outputs": [],
   "source": [
    "#Broadcasting a NumPy array:"
   ]
  },
  {
   "cell_type": "code",
   "execution_count": 55,
   "metadata": {},
   "outputs": [
    {
     "name": "stdout",
     "output_type": "stream",
     "text": [
      "Writing mpi_example11.py\n"
     ]
    }
   ],
   "source": [
    "%%writefile mpi_example11.py\n",
    "\n",
    "from mpi4py import MPI\n",
    "import numpy as np\n",
    "\n",
    "comm = MPI.COMM_WORLD\n",
    "rank = comm.Get_rank()\n",
    "\n",
    "if rank == 0:\n",
    "    data = np.arange(100, dtype='i')\n",
    "else:\n",
    "    data = np.empty(100, dtype='i')\n",
    "comm.Bcast(data, root=0)\n",
    "for i in range(100):\n",
    "    assert data[i] == i\n",
    "print(data)"
   ]
  },
  {
   "cell_type": "code",
   "execution_count": 56,
   "metadata": {},
   "outputs": [
    {
     "name": "stdout",
     "output_type": "stream",
     "text": [
      "[ 0  1  2  3  4  5  6  7  8  9 10 11 12 13 14 15 16 17 18 19 20 21 22 23\n",
      " 24 25 26 27 28 29 30 31 32 33 34 35 36 37 38 39 40 41 42 43 44 45 46 47\n",
      " 48 49 50 51 52 53 54 55 56 57 58 59 60 61 62 63 64 65 66 67 68 69 70 71\n",
      " 72 73 74 75 76 77 78 79 80 81 82 83 84 85 86 87 88 89 90 91 92 93 94 95\n",
      " 96 97 98 99]\n",
      "[ 0  1  2  3  4  5  6  7  8  9 10 11 12 13 14 15 16 17 18 19 20 21 22 23\n",
      " 24 25 26 27 28 29 30 31 32 33 34 35 36 37 38 39 40 41 42 43 44 45 46 47\n",
      " 48 49 50 51 52 53 54 55 56 57 58 59 60 61 62 63 64 65 66 67 68 69 70 71\n",
      " 72 73 74 75 76 77 78 79 80 81 82 83 84 85 86 87 88 89 90 91 92 93 94 95\n",
      " 96 97 98 99]\n",
      "[ 0  1  2  3  4  5  6  7  8  9 10 11 12 13 14 15 16 17 18 19 20 21 22 23\n",
      " 24 25 26 27 28 29 30 31 32 33 34 35 36 37 38 39 40 41 42 43 44 45 46 47\n",
      " 48 49 50 51 52 53 54 55 56 57 58 59 60 61 62 63 64 65 66 67 68 69 70 71\n",
      " 72 73 74 75 76 77 78 79 80 81 82 83 84 85 86 87 88 89 90 91 92 93 94 95\n",
      " 96 97 98 99]\n",
      "[ 0  1  2  3  4  5  6  7  8  9 10 11 12 13 14 15 16 17 18 19 20 21 22 23\n",
      " 24 25 26 27 28 29 30 31 32 33 34 35 36 37 38 39 40 41 42 43 44 45 46 47\n",
      " 48 49 50 51 52 53 54 55 56 57 58 59 60 61 62 63 64 65 66 67 68 69 70 71\n",
      " 72 73 74 75 76 77 78 79 80 81 82 83 84 85 86 87 88 89 90 91 92 93 94 95\n",
      " 96 97 98 99]\n"
     ]
    }
   ],
   "source": [
    "! mpiexec -n 4 python mpi_example11.py\n",
    "# Probar tmb cambiando el número de procesadores"
   ]
  },
  {
   "cell_type": "code",
   "execution_count": null,
   "metadata": {},
   "outputs": [],
   "source": [
    "#Scattering NumPy arrays:"
   ]
  },
  {
   "cell_type": "code",
   "execution_count": 61,
   "metadata": {},
   "outputs": [
    {
     "name": "stdout",
     "output_type": "stream",
     "text": [
      "Overwriting mpi_example12.py\n"
     ]
    }
   ],
   "source": [
    "%%writefile mpi_example12.py\n",
    "\n",
    "from mpi4py import MPI\n",
    "import numpy as np\n",
    "\n",
    "comm = MPI.COMM_WORLD\n",
    "size = comm.Get_size()\n",
    "rank = comm.Get_rank()\n",
    "\n",
    "sendbuf = None\n",
    "if rank == 0:\n",
    "    sendbuf = np.empty([size, 100], dtype='i')\n",
    "    sendbuf.T[:,:] = range(size)\n",
    "recvbuf = np.empty(100, dtype='i')\n",
    "comm.Scatter(sendbuf, recvbuf, root=0)\n",
    "assert np.allclose(recvbuf, rank)\n",
    "print(recvbuf)\n",
    "print(np.allclose(recvbuf, rank))"
   ]
  },
  {
   "cell_type": "code",
   "execution_count": 62,
   "metadata": {},
   "outputs": [
    {
     "name": "stdout",
     "output_type": "stream",
     "text": [
      "[0 0 0 0 0 0 0 0 0 0 0 0 0 0 0 0 0 0 0 0 0 0 0 0 0 0 0 0 0 0 0 0 0 0 0 0 0\n",
      " 0 0 0 0 0 0 0 0 0 0 0 0 0 0 0 0 0 0 0 0 0 0 0 0 0 0 0 0 0 0 0 0 0 0 0 0 0\n",
      " 0 0 0 0 0 0 0 0 0 0 0 0 0 0 0 0 0 0 0 0 0 0 0 0 0 0]\n",
      "True\n",
      "[1 1 1 1 1 1 1 1 1 1 1 1 1 1 1 1 1 1 1 1 1 1 1 1 1 1 1 1 1 1 1 1 1 1 1 1 1\n",
      " 1 1 1 1 1 1 1 1 1 1 1 1 1 1 1 1 1 1 1 1 1 1 1 1 1 1 1 1 1 1 1 1 1 1 1 1 1\n",
      " 1 1 1 1 1 1 1 1 1 1 1 1 1 1 1 1 1 1 1 1 1 1 1 1 1 1]\n",
      "True\n",
      "[2 2 2 2 2 2 2 2 2 2 2 2 2 2 2 2 2 2 2 2 2 2 2 2 2 2 2 2 2 2 2 2 2 2 2 2 2\n",
      " 2 2 2 2 2 2 2 2 2 2 2 2 2 2 2 2 2 2 2 2 2 2 2 2 2 2 2 2 2 2 2 2 2 2 2 2 2\n",
      " 2 2 2 2 2 2 2 2 2 2 2 2 2 2 2 2 2 2 2 2 2 2 2 2 2 2]\n",
      "True\n",
      "[3 3 3 3 3 3 3 3 3 3 3 3 3 3 3 3 3 3 3 3 3 3 3 3 3 3 3 3 3 3 3 3 3 3 3 3 3\n",
      " 3 3 3 3 3 3 3 3 3 3 3 3 3 3 3 3 3 3 3 3 3 3 3 3 3 3 3 3 3 3 3 3 3 3 3 3 3\n",
      " 3 3 3 3 3 3 3 3 3 3 3 3 3 3 3 3 3 3 3 3 3 3 3 3 3 3]\n",
      "True\n"
     ]
    }
   ],
   "source": [
    "! mpiexec -n 4 python mpi_example12.py\n",
    "# Probar tmb cambiando el número de procesadores"
   ]
  },
  {
   "cell_type": "code",
   "execution_count": 63,
   "metadata": {},
   "outputs": [],
   "source": [
    "#Gathering NumPy arrays:"
   ]
  },
  {
   "cell_type": "code",
   "execution_count": 64,
   "metadata": {},
   "outputs": [
    {
     "name": "stdout",
     "output_type": "stream",
     "text": [
      "Writing mpi_example13.py\n"
     ]
    }
   ],
   "source": [
    "%%writefile mpi_example13.py\n",
    "from mpi4py import MPI\n",
    "import numpy as np\n",
    "\n",
    "comm = MPI.COMM_WORLD\n",
    "size = comm.Get_size()\n",
    "rank = comm.Get_rank()\n",
    "\n",
    "sendbuf = np.zeros(100, dtype='i') + rank\n",
    "recvbuf = None\n",
    "if rank == 0:\n",
    "    recvbuf = np.empty([size, 100], dtype='i')\n",
    "comm.Gather(sendbuf, recvbuf, root=0)\n",
    "if rank == 0:\n",
    "    for i in range(size):\n",
    "        assert np.allclose(recvbuf[i,:], i)\n",
    "print(recvbuf)"
   ]
  },
  {
   "cell_type": "code",
   "execution_count": 65,
   "metadata": {},
   "outputs": [
    {
     "name": "stdout",
     "output_type": "stream",
     "text": [
      "None\n",
      "None\n",
      "None\n",
      "[[0 0 0 0 0 0 0 0 0 0 0 0 0 0 0 0 0 0 0 0 0 0 0 0 0 0 0 0 0 0 0 0 0 0 0 0\n",
      "  0 0 0 0 0 0 0 0 0 0 0 0 0 0 0 0 0 0 0 0 0 0 0 0 0 0 0 0 0 0 0 0 0 0 0 0\n",
      "  0 0 0 0 0 0 0 0 0 0 0 0 0 0 0 0 0 0 0 0 0 0 0 0 0 0 0 0]\n",
      " [1 1 1 1 1 1 1 1 1 1 1 1 1 1 1 1 1 1 1 1 1 1 1 1 1 1 1 1 1 1 1 1 1 1 1 1\n",
      "  1 1 1 1 1 1 1 1 1 1 1 1 1 1 1 1 1 1 1 1 1 1 1 1 1 1 1 1 1 1 1 1 1 1 1 1\n",
      "  1 1 1 1 1 1 1 1 1 1 1 1 1 1 1 1 1 1 1 1 1 1 1 1 1 1 1 1]\n",
      " [2 2 2 2 2 2 2 2 2 2 2 2 2 2 2 2 2 2 2 2 2 2 2 2 2 2 2 2 2 2 2 2 2 2 2 2\n",
      "  2 2 2 2 2 2 2 2 2 2 2 2 2 2 2 2 2 2 2 2 2 2 2 2 2 2 2 2 2 2 2 2 2 2 2 2\n",
      "  2 2 2 2 2 2 2 2 2 2 2 2 2 2 2 2 2 2 2 2 2 2 2 2 2 2 2 2]\n",
      " [3 3 3 3 3 3 3 3 3 3 3 3 3 3 3 3 3 3 3 3 3 3 3 3 3 3 3 3 3 3 3 3 3 3 3 3\n",
      "  3 3 3 3 3 3 3 3 3 3 3 3 3 3 3 3 3 3 3 3 3 3 3 3 3 3 3 3 3 3 3 3 3 3 3 3\n",
      "  3 3 3 3 3 3 3 3 3 3 3 3 3 3 3 3 3 3 3 3 3 3 3 3 3 3 3 3]]\n"
     ]
    }
   ],
   "source": [
    "! mpiexec -n 4 python mpi_example13.py\n",
    "# Probar tmb cambiando el número de procesadores"
   ]
  },
  {
   "cell_type": "code",
   "execution_count": null,
   "metadata": {},
   "outputs": [],
   "source": []
  },
  {
   "cell_type": "code",
   "execution_count": null,
   "metadata": {},
   "outputs": [],
   "source": []
  },
  {
   "cell_type": "code",
   "execution_count": null,
   "metadata": {},
   "outputs": [],
   "source": []
  },
  {
   "cell_type": "code",
   "execution_count": null,
   "metadata": {},
   "outputs": [],
   "source": []
  },
  {
   "cell_type": "code",
   "execution_count": null,
   "metadata": {},
   "outputs": [],
   "source": []
  }
 ],
 "metadata": {
  "kernelspec": {
   "display_name": "Python 3 (ipykernel)",
   "language": "python",
   "name": "python3"
  },
  "language_info": {
   "codemirror_mode": {
    "name": "ipython",
    "version": 3
   },
   "file_extension": ".py",
   "mimetype": "text/x-python",
   "name": "python",
   "nbconvert_exporter": "python",
   "pygments_lexer": "ipython3",
   "version": "3.9.13"
  }
 },
 "nbformat": 4,
 "nbformat_minor": 4
}
