{
  "nbformat": 4,
  "nbformat_minor": 0,
  "metadata": {
    "colab": {
      "provenance": [],
      "collapsed_sections": [
        "6YPSM5B_WzXU"
      ]
    },
    "kernelspec": {
      "name": "python3",
      "display_name": "Python 3"
    },
    "language_info": {
      "name": "python"
    }
  },
  "cells": [
    {
      "cell_type": "markdown",
      "source": [
        "# **Curso**: Deep Learning\n",
        "\n",
        "[<img align=\"right\" width=\"400\" height=\"100\" src=\"https://assets.website-files.com/5f909dbbf6ef7c3b428e2522/60f4592942eda3c0ffb35bfd_Logo_QLAB.svg\">](https://qlab.pucp.edu.pe/)\n",
        "\n",
        "\n",
        "[Pedro Achanccaray](mailto:p.diaz@tu-bs.de), y [Smith Arauco](mailto:saraucoc@uni.pe).\n",
        "\n",
        "[Pontificia Universidad Católica del Perú](https://www.pucp.edu.pe/)  \n",
        "[Laboratorio de Inteligencia Artificial y Métodos Computacionales en Ciencias Sociales](https://qlab.pucp.edu.pe/formacion-continua)"
      ],
      "metadata": {
        "id": "rydlIqEGajrJ"
      }
    },
    {
      "cell_type": "markdown",
      "metadata": {
        "id": "NiEbeZyyKPxN"
      },
      "source": [
        "# **Lab 1.1:Función para convertir de Celsius a Fahrenheit**"
      ]
    },
    {
      "cell_type": "markdown",
      "source": [
        "En esta sesión vamos a entrenar una **red neuronal artificial** para aprender una **función**.\n",
        "\n",
        "Para poder entender mejor los conceptos relacionados a las redes neuronales, vamos a usar una **función conocida** como la **conversión** entre grados **Celsius** y **Fahrenheit**.\n",
        "\n",
        "$ Fahrenheit = Celsius * 1.8 + 32$\n",
        "\n",
        "**Importante:** para este ejemplo no necesitamos una GPU, asi que si estas usando Google Colab, puedes seleccionar como _Ambiente de Ejecución (Runtime): CPU_."
      ],
      "metadata": {
        "id": "QW5Jhz3U2ykZ"
      }
    },
    {
      "cell_type": "markdown",
      "source": [
        "## **Conociendo Google Colab**"
      ],
      "metadata": {
        "id": "6YPSM5B_WzXU"
      }
    },
    {
      "cell_type": "markdown",
      "source": [
        "El ambiente Google Colab nos permite ejecutar codigo ***Python*** en nuestro navegador:\n",
        "*   Sin ninguna configuración previa\n",
        "*   Acceso gratuito a GPUs\n",
        "*   Facil de compartir\n",
        "\n",
        "Para mayor información, visistar lo siguientes links:\n",
        "*   [¿Qué es Google Colab?](https://colab.research.google.com/notebooks/intro.ipynb)\n",
        "*   [¿Como montar el Google Drive para ser usado en Google Colab?](https://colab.research.google.com/notebooks/io.ipynb)"
      ],
      "metadata": {
        "id": "piVjx_AbW3YN"
      }
    },
    {
      "cell_type": "markdown",
      "source": [
        "### Operaciones basicas"
      ],
      "metadata": {
        "id": "qYBj8No0W9GT"
      }
    },
    {
      "cell_type": "markdown",
      "source": [
        "Podemos comenzar a ejecutar algunas operaciones matemáticas en Google Colab.\n",
        "```python\n",
        "5+5\n",
        "```\n",
        "```python\n",
        "5*5\n",
        "```\n",
        "```python\n",
        "((5+5)*5+20)/15\n",
        "```\n",
        "Existen 3 métodos para ejecutar una celda:\n",
        "* Apretar el boton de play al inicio de la celda.\n",
        "* Presionar ***CTRL + ENTER***.\n",
        "* Presionar ***SHIFT + ENTER***, lo cual agregará una celda al final."
      ],
      "metadata": {
        "id": "tO8wgs-IW7ba"
      }
    },
    {
      "cell_type": "code",
      "source": [
        "5+5"
      ],
      "metadata": {
        "colab": {
          "base_uri": "https://localhost:8080/"
        },
        "id": "9UYS7NccWwqs",
        "outputId": "baaf2d35-0792-43b4-d1ca-f33502a238b4"
      },
      "execution_count": null,
      "outputs": [
        {
          "output_type": "execute_result",
          "data": {
            "text/plain": [
              "10"
            ]
          },
          "metadata": {},
          "execution_count": 2
        }
      ]
    },
    {
      "cell_type": "markdown",
      "metadata": {
        "id": "cSrVwYciPPAo"
      },
      "source": [
        "## **Cargando librerias**"
      ]
    },
    {
      "cell_type": "markdown",
      "metadata": {
        "id": "GN1PZEc_KWdD"
      },
      "source": [
        "Importando los packages de Python necesarios para nuestra aplicación"
      ]
    },
    {
      "cell_type": "code",
      "metadata": {
        "id": "fPIBuBR7Cp9m"
      },
      "source": [
        "import tensorflow as tf\n",
        "from tensorflow.keras.models import Sequential, Model\n",
        "from tensorflow.keras.layers import Dense, Input\n",
        "from tensorflow.keras.optimizers import Adam\n",
        "import numpy as np"
      ],
      "execution_count": 1,
      "outputs": []
    },
    {
      "cell_type": "markdown",
      "source": [
        "## **Conjunto de datos**"
      ],
      "metadata": {
        "id": "ZjxGVnmwXOQF"
      }
    },
    {
      "cell_type": "markdown",
      "metadata": {
        "id": "7VbgxDr5Kg4C"
      },
      "source": [
        "Debido a que conocemos la función que vamos a aprender usando la red neuronal, podemos tabular algunos valores para crear nuestro conjunto de datos de entrenamiento.\n",
        "\n",
        "Vamos a usar los siguientes datos:\n",
        "\n",
        "**Celsius**: Datos de Entrada\n",
        "\n",
        "**Fahrenheit**: salida\n",
        "\n",
        "<center>\n",
        "\n",
        "| Celsius | Fahrenheit |\n",
        "|:-------:|:----------:|\n",
        "|   -40   |     -40    |\n",
        "|   -10   |     14     |\n",
        "|    0    |     32     |\n",
        "|    8    |     46     |\n",
        "|    15   |     59     |\n",
        "|    22   |     72     |\n",
        "|    38   |     100    |\n",
        "\n",
        "</center>"
      ]
    },
    {
      "cell_type": "markdown",
      "source": [
        "Declarando variables para almacenar los datos de entrada"
      ],
      "metadata": {
        "id": "25j3We_oXXke"
      }
    },
    {
      "cell_type": "code",
      "metadata": {
        "id": "ttwzzaBnC6e6"
      },
      "source": [
        "celsius = np.array([-40, -10, 0, 8, 15, 22, 38],\n",
        "                   dtype=float)\n",
        "fahrenheit = np.array([-40, 14, 32, 46, 59, 72, 100],\n",
        "                      dtype=float)"
      ],
      "execution_count": 24,
      "outputs": []
    },
    {
      "cell_type": "markdown",
      "source": [
        "## **Red neuronal simple o Perceptron**"
      ],
      "metadata": {
        "id": "S-rVpcKaXatF"
      }
    },
    {
      "cell_type": "markdown",
      "metadata": {
        "id": "JyeuLjVOLXvj"
      },
      "source": [
        "Red Neuronal con la siguiente arquitectura:\n",
        "- **Capa de Entrada**: 1 neurona (1 peso sináptico: $w$, 1 bias: $b$)\n",
        "- **Capa de Salida**: 1 neurona (salida: $y$)\n",
        "\n",
        "La salida se obtiene de la siguiente manera:\n",
        "\n",
        "$y = w*x + b$\n",
        "\n",
        "donde: $x$ es la entrada"
      ]
    },
    {
      "cell_type": "code",
      "metadata": {
        "id": "j2Lh-shiDEhv",
        "colab": {
          "base_uri": "https://localhost:8080/"
        },
        "outputId": "d5cc86f3-bcfc-4598-95ef-9969ddfbf7b0"
      },
      "source": [
        "layer = Dense(units=1, input_shape=[1])\n",
        "\n",
        "model = Sequential([\n",
        "                    layer\n",
        "                    ], name=\"Perceptron\")\n",
        "\n",
        "model.summary()"
      ],
      "execution_count": 25,
      "outputs": [
        {
          "output_type": "stream",
          "name": "stdout",
          "text": [
            "Model: \"Perceptron\"\n",
            "_________________________________________________________________\n",
            " Layer (type)                Output Shape              Param #   \n",
            "=================================================================\n",
            " dense_16 (Dense)            (None, 1)                 2         \n",
            "                                                                 \n",
            "=================================================================\n",
            "Total params: 2 (8.00 Byte)\n",
            "Trainable params: 2 (8.00 Byte)\n",
            "Non-trainable params: 0 (0.00 Byte)\n",
            "_________________________________________________________________\n"
          ]
        }
      ]
    },
    {
      "cell_type": "markdown",
      "source": [
        "**Preguntas:**\n",
        "- ¿Cuántos parametros (pesos) tiene la red neuronal?\n",
        "- ¿Cómo podemos calcular el número de parámetros?"
      ],
      "metadata": {
        "id": "-TFZ8gQxXIZB"
      }
    },
    {
      "cell_type": "markdown",
      "source": [
        "### **Configuración de la red**"
      ],
      "metadata": {
        "id": "eBo2catMXig7"
      }
    },
    {
      "cell_type": "markdown",
      "metadata": {
        "id": "7e_2_VuxL_C7"
      },
      "source": [
        "Ahora necesitamos definir los siguiente parámetros de la red neuronal:\n",
        "- **loss**: función de pérdida (loss function).\n",
        "- **optimizer**: método de optimización para disminuir la función de pérdida.\n",
        "\n",
        "Vamos a usar el `mean_squared_error` ($MSE$) como función de pérdida:\n",
        "\n",
        "$MSE = \\frac{1}{n}*\\sum^n_{i=1}(y_i - \\hat{y_i})^2$\n",
        "\n",
        "donde:\n",
        "- $n$: numero de muestras\n",
        "- $y_i$: salida de la $i$\n",
        "- $\\hat{y_i}$: salida esperada para la muestra $i$"
      ]
    },
    {
      "cell_type": "code",
      "metadata": {
        "id": "4i6c3jDPDlw9"
      },
      "source": [
        "model.compile(optimizer=Adam(learning_rate=0.1),\n",
        "              loss='mean_squared_error'\n",
        "              )"
      ],
      "execution_count": 26,
      "outputs": []
    },
    {
      "cell_type": "markdown",
      "source": [
        "### **Entrenamiento**"
      ],
      "metadata": {
        "id": "zZfMWdJeXogF"
      }
    },
    {
      "cell_type": "markdown",
      "metadata": {
        "id": "0rzJtrcqN6vR"
      },
      "source": [
        "Con el método `fit` comenzamos el entrenamos el modelo.\n",
        "\n",
        "En este proceso, los pesos serán ajustados para minimizar la función de pérdida.\n",
        "\n",
        "**Importante:** No olvidar de seguir los pasos mostrados: Crear el modelo (`Sequential`) y configurarlo (`model.compile`)."
      ]
    },
    {
      "cell_type": "code",
      "metadata": {
        "id": "3BH8n4-KD1gA"
      },
      "source": [
        "history = model.fit(celsius,\n",
        "                    fahrenheit,\n",
        "                    epochs=1000,\n",
        "                    verbose=False)"
      ],
      "execution_count": 27,
      "outputs": []
    },
    {
      "cell_type": "code",
      "source": [
        "history.history.keys()"
      ],
      "metadata": {
        "id": "itXIqffIb4bU",
        "colab": {
          "base_uri": "https://localhost:8080/"
        },
        "outputId": "79b91b83-a6f2-4843-f68d-924d54a936be"
      },
      "execution_count": 28,
      "outputs": [
        {
          "output_type": "execute_result",
          "data": {
            "text/plain": [
              "dict_keys(['loss'])"
            ]
          },
          "metadata": {},
          "execution_count": 28
        }
      ]
    },
    {
      "cell_type": "markdown",
      "metadata": {
        "id": "zZP5WsxsOUZo"
      },
      "source": [
        "Ahora podemos visualizar la curva de entrenamiento del modelo, para analizar como fue variando la función de pérdida con cada época.\n",
        "\n",
        "Una época es cuando todo el conjunto de datos ha sido procesado por el modelo. El conjunto de datos es procesado por el modelo varias veces (número de épocas) y los pesos son modificados en cada época."
      ]
    },
    {
      "cell_type": "code",
      "metadata": {
        "colab": {
          "base_uri": "https://localhost:8080/",
          "height": 372
        },
        "id": "-ueVZEWsD_8E",
        "outputId": "1aab5744-5c56-42f4-ce2d-6bc4dce59164"
      },
      "source": [
        "import matplotlib.pyplot as plt\n",
        "\n",
        "plt.figure(figsize=(8,4), dpi=90)\n",
        "plt.plot(history.history[\"loss\"])\n",
        "plt.title(\"Evolución de la función de pérdida durante entrenamiento\")\n",
        "plt.xlabel(\"Número de épocas\")\n",
        "plt.ylabel(\"Valos de la función de pérdida (loss function)\")\n",
        "plt.show()"
      ],
      "execution_count": 29,
      "outputs": [
        {
          "output_type": "display_data",
          "data": {
            "text/plain": [
              "<Figure size 720x360 with 1 Axes>"
            ],
            "image/png": "[encoded data removed]"
          },
          "metadata": {}
        }
      ]
    },
    {
      "cell_type": "markdown",
      "source": [
        "### **Probando el modelo**"
      ],
      "metadata": {
        "id": "R-MtE6lPXsUA"
      }
    },
    {
      "cell_type": "markdown",
      "metadata": {
        "id": "1YNxtLg2Oh3H"
      },
      "source": [
        "Ahora podemos probar el modelo entrenado pasando valores que nunca vio durante el entrenamiento."
      ]
    },
    {
      "cell_type": "code",
      "metadata": {
        "colab": {
          "base_uri": "https://localhost:8080/"
        },
        "id": "YQludOwIEiqp",
        "outputId": "71d7f4bd-5d8b-49b3-e028-0ee3bab4b17c"
      },
      "source": [
        "new_value = 100.0\n",
        "result = model.predict([new_value],\n",
        "                       verbose=0)\n",
        "\n",
        "print(\"Predicción:\\n{} grados Celsius son {} grados Fahrenheit\".format(new_value,\n",
        "                                                                       result[0][0]))\n",
        "print(\"\\nSalida esperada:\\n{} grados Celsius son {} grados Fahrenheit\".format(new_value,\n",
        "                                                                            1.8*new_value + 32))"
      ],
      "execution_count": 30,
      "outputs": [
        {
          "output_type": "stream",
          "name": "stdout",
          "text": [
            "Predicción:\n",
            "100.0 grados Celsius son 211.74404907226562 grados Fahrenheit\n",
            "\n",
            "Salida esperada:\n",
            "100.0 grados Celsius son 212.0 grados Fahrenheit\n"
          ]
        }
      ]
    },
    {
      "cell_type": "markdown",
      "source": [
        "### **Pesos del modelo**"
      ],
      "metadata": {
        "id": "pbb13hZ2X5Q2"
      }
    },
    {
      "cell_type": "markdown",
      "metadata": {
        "id": "5Xx-9VxPOoE3"
      },
      "source": [
        "Tambien podemos ver el conocimiento adquirido por el modelo, lo cual se encuentra en los **pesos sinápticos** y el **bias**.\n",
        "\n",
        "Recordando que al tener solo una neurona, la red calcula la salida de la siguiente manera:\n",
        "\n",
        "$y = w*x + b$"
      ]
    },
    {
      "cell_type": "code",
      "metadata": {
        "colab": {
          "base_uri": "https://localhost:8080/"
        },
        "id": "n0Q39vH5J6LS",
        "outputId": "ebaa8bb0-e8e9-40df-aaf2-cf1e2924003f"
      },
      "source": [
        "print(layer.get_weights())"
      ],
      "execution_count": 31,
      "outputs": [
        {
          "output_type": "stream",
          "name": "stdout",
          "text": [
            "[array([[1.7981342]], dtype=float32), array([31.930628], dtype=float32)]\n"
          ]
        }
      ]
    },
    {
      "cell_type": "markdown",
      "metadata": {
        "id": "XYlX6cP7PAeA"
      },
      "source": [
        "Podemos comparar el resultado con la función de conversión de grados Celsius para Fahrenheit:\n",
        "\n",
        "$ Fahrenheit = Celsius * 1.8 + 32$"
      ]
    },
    {
      "cell_type": "markdown",
      "metadata": {
        "id": "w3fufk3vPY1p"
      },
      "source": [
        "## **Red neuronal con capas ocultas o Multi Layer Perceptron (MLP)**"
      ]
    },
    {
      "cell_type": "markdown",
      "metadata": {
        "id": "z1naxCibRNwX"
      },
      "source": [
        "Ahora usaremos una red neuronal más compleja con la siguiente arquitectura:\n",
        "- **Capa de Entrada**: 1 neurona\n",
        "- **Capa Oculta 1**: 3 neuronas\n",
        "- **Capa Oculta 2**: 3 neuronas\n",
        "- **Capa Oculta 3**: 3 neuronas\n",
        "- **Capa de Salida**: 1 neurona"
      ]
    },
    {
      "cell_type": "code",
      "metadata": {
        "id": "5TB-8fZzPNUv",
        "colab": {
          "base_uri": "https://localhost:8080/"
        },
        "outputId": "f4dd7ffc-a3c2-4f98-8c90-5b22d55752de"
      },
      "source": [
        "hidden1 = Dense(units=3, input_shape=[1], name=\"Oculta_1\")\n",
        "hidden2 = Dense(units=3, name=\"Oculta_2\")\n",
        "hidden3 = Dense(units=3, name=\"Oculta_3\")\n",
        "output = Dense(units=1, name=\"Salida\")\n",
        "\n",
        "model2 = Sequential([\n",
        "                     hidden1,\n",
        "                     hidden2,\n",
        "                     hidden3,\n",
        "                     output\n",
        "                     ], name=\"MLP\")\n",
        "\n",
        "model2.summary()"
      ],
      "execution_count": 32,
      "outputs": [
        {
          "output_type": "stream",
          "name": "stdout",
          "text": [
            "Model: \"MLP\"\n",
            "_________________________________________________________________\n",
            " Layer (type)                Output Shape              Param #   \n",
            "=================================================================\n",
            " Oculta_1 (Dense)            (None, 3)                 6         \n",
            "                                                                 \n",
            " Oculta_2 (Dense)            (None, 3)                 12        \n",
            "                                                                 \n",
            " Oculta_3 (Dense)            (None, 3)                 12        \n",
            "                                                                 \n",
            " Salida (Dense)              (None, 1)                 4         \n",
            "                                                                 \n",
            "=================================================================\n",
            "Total params: 34 (136.00 Byte)\n",
            "Trainable params: 34 (136.00 Byte)\n",
            "Non-trainable params: 0 (0.00 Byte)\n",
            "_________________________________________________________________\n"
          ]
        }
      ]
    },
    {
      "cell_type": "markdown",
      "source": [
        "**Pregunta:**\n",
        "- ¿Cómo se calcula el número de parámetros para las capas ocultas 1, 2, y 3?"
      ],
      "metadata": {
        "id": "dAp-GbI2aNbC"
      }
    },
    {
      "cell_type": "code",
      "source": [
        "from tensorflow.keras.utils import plot_model\n",
        "\n",
        "plot_model(model2, to_file=\"my_model.png\", show_shapes=True)"
      ],
      "metadata": {
        "colab": {
          "base_uri": "https://localhost:8080/",
          "height": 533
        },
        "id": "YyXD4V2Ed_1K",
        "outputId": "5ea7a3b0-b558-43f3-be8a-5237660e6056"
      },
      "execution_count": 33,
      "outputs": [
        {
          "output_type": "execute_result",
          "data": {
            "image/png": "[encoded data removed]",
            "text/plain": [
              "<IPython.core.display.Image object>"
            ]
          },
          "metadata": {},
          "execution_count": 33
        }
      ]
    },
    {
      "cell_type": "markdown",
      "source": [
        "### **Configuración de la red**"
      ],
      "metadata": {
        "id": "Hhb7gsKkYL-K"
      }
    },
    {
      "cell_type": "markdown",
      "metadata": {
        "id": "J0muQ2awR5-G"
      },
      "source": [
        "Compilamos el modelo"
      ]
    },
    {
      "cell_type": "code",
      "metadata": {
        "id": "Zd_JXFQaPxr_"
      },
      "source": [
        "model2.compile(optimizer=Adam(learning_rate=0.1),\n",
        "               loss='mean_squared_error'\n",
        "               )"
      ],
      "execution_count": 34,
      "outputs": []
    },
    {
      "cell_type": "markdown",
      "source": [
        "### **Entrenamiento**"
      ],
      "metadata": {
        "id": "NP01vIctYRMO"
      }
    },
    {
      "cell_type": "markdown",
      "metadata": {
        "id": "cw4sIC83R7sQ"
      },
      "source": [
        "Y procedemos a entrenar el modelo"
      ]
    },
    {
      "cell_type": "code",
      "metadata": {
        "id": "eDJX0K7GQEBu"
      },
      "source": [
        "history2 = model2.fit(celsius, fahrenheit, epochs=1000, verbose=False)"
      ],
      "execution_count": 35,
      "outputs": []
    },
    {
      "cell_type": "code",
      "metadata": {
        "colab": {
          "base_uri": "https://localhost:8080/",
          "height": 378
        },
        "id": "vURgN-nMQHU9",
        "outputId": "d37d23ea-ad55-4f0d-a1c7-bdd37713c0b7"
      },
      "source": [
        "import matplotlib.pyplot as plt\n",
        "\n",
        "plt.figure(figsize=(16,4), dpi=90)\n",
        "\n",
        "plt.subplot(1,2,1)\n",
        "plt.plot(history.history[\"loss\"])\n",
        "plt.title(\"Evolución de la función de pérdida durante entrenamiento\\nPerceptron\")\n",
        "plt.xlabel(\"Número de épocas\")\n",
        "plt.ylabel(\"Valos de la función de pérdida (loss function)\")\n",
        "\n",
        "plt.subplot(1,2,2)\n",
        "plt.plot(history2.history[\"loss\"])\n",
        "plt.title(\"Evolución de la función de pérdida durante entrenamiento\\nMulti Layer Perceptron\")\n",
        "plt.xlabel(\"Número de épocas\")\n",
        "plt.ylabel(\"Valos de la función de pérdida (loss function)\")\n",
        "\n",
        "plt.show()"
      ],
      "execution_count": 38,
      "outputs": [
        {
          "output_type": "display_data",
          "data": {
            "text/plain": [
              "<Figure size 1440x360 with 2 Axes>"
            ],
            "image/png": "[encoded data removed]"
          },
          "metadata": {}
        }
      ]
    },
    {
      "cell_type": "markdown",
      "source": [
        "### **Probando el modelo**"
      ],
      "metadata": {
        "id": "OsaFXzPZYUaK"
      }
    },
    {
      "cell_type": "code",
      "metadata": {
        "colab": {
          "base_uri": "https://localhost:8080/"
        },
        "id": "UKXkgpigQdKI",
        "outputId": "bc4a7403-e840-4f92-fdf2-abc87e57e08d"
      },
      "source": [
        "new_value = 100.0\n",
        "result = model.predict([new_value],\n",
        "                       verbose=0)\n",
        "\n",
        "result2 = model2.predict([new_value],\n",
        "                         verbose=0)\n",
        "\n",
        "print(\"Predicción Perceptron:\\n{} grados Celsius son {} grados Fahrenheit\".format(new_value,\n",
        "                                                                                  result[0][0]))\n",
        "print(\"Predicción MLP:\\n{} grados Celsius son {} grados Fahrenheit\".format(new_value,\n",
        "                                                                           result2[0][0]))\n",
        "print(\"\\nSalida esperada:\\n{} grados Celsius son {} grados Fahrenheit\".format(new_value,\n",
        "                                                                            1.8*new_value + 32))\n"
      ],
      "execution_count": 41,
      "outputs": [
        {
          "output_type": "stream",
          "name": "stdout",
          "text": [
            "Predicción Perceptron:\n",
            "100.0 grados Celsius son 211.74404907226562 grados Fahrenheit\n",
            "Predicción MLP:\n",
            "100.0 grados Celsius son 211.74745178222656 grados Fahrenheit\n",
            "\n",
            "Salida esperada:\n",
            "100.0 grados Celsius son 212.0 grados Fahrenheit\n"
          ]
        }
      ]
    },
    {
      "cell_type": "markdown",
      "source": [
        "### **Pesos del modelo**"
      ],
      "metadata": {
        "id": "aHNtww8GYXbJ"
      }
    },
    {
      "cell_type": "code",
      "metadata": {
        "colab": {
          "base_uri": "https://localhost:8080/"
        },
        "id": "qcRaPQhkQi4_",
        "outputId": "b39d511b-f0a2-4537-e69f-dc3a21eb55f6"
      },
      "source": [
        "for layer in model2.layers:\n",
        "  print(\"Capa:\", layer.name)\n",
        "  print(\"Pesos:\", layer.get_weights(),\"\\n\")"
      ],
      "execution_count": 46,
      "outputs": [
        {
          "output_type": "stream",
          "name": "stdout",
          "text": [
            "Capa: Oculta_1\n",
            "Pesos: [array([[ 0.63845456, -0.04961553,  0.07753721]], dtype=float32), array([ 2.703503 ,  1.3272448, -2.0837252], dtype=float32)] \n",
            "\n",
            "Capa: Oculta_2\n",
            "Pesos: [array([[ 1.0917209 ,  0.18768825, -0.00142903],\n",
            "       [-0.24348892,  0.13111794, -0.6705141 ],\n",
            "       [-0.3405653 , -0.26901475, -0.04527886]], dtype=float32), array([ 2.6721394, -0.6821628, -2.6091487], dtype=float32)] \n",
            "\n",
            "Capa: Oculta_3\n",
            "Pesos: [array([[-0.13924843,  1.0636858 ,  0.9233777 ],\n",
            "       [ 0.4681974 ,  0.31129554, -0.22633134],\n",
            "       [-0.3142001 , -0.9394849 , -0.2664153 ]], dtype=float32), array([-2.3110337,  2.6258698,  2.646132 ], dtype=float32)] \n",
            "\n",
            "Capa: Salida\n",
            "Pesos: [array([[-0.5036541],\n",
            "       [ 1.337787 ],\n",
            "       [ 1.3187836]], dtype=float32), array([2.6173263], dtype=float32)] \n",
            "\n"
          ]
        }
      ]
    },
    {
      "cell_type": "markdown",
      "metadata": {
        "id": "oFArE13rt6qS"
      },
      "source": [
        "Podemos comparar el resultado con la función de conversión de grados Celsius para Fahrenheit:\n",
        "\n",
        "$ Fahrenheit = Celsius * 1.8 + 32$"
      ]
    }
  ]
}