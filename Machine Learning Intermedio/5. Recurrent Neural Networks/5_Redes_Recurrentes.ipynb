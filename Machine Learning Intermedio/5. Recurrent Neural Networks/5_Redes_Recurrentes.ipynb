{
 "cells": [
  {
   "cell_type": "markdown",
   "metadata": {
    "id": "tnpOp1yOWIJT"
   },
   "source": [
    "**Curso**: Deep Learning\n",
    "\n",
    "[<img align=\"right\" width=\"400\" height=\"100\" src=\"https://assets.website-files.com/5f909dbbf6ef7c3b428e2522/60f4592942eda3c0ffb35bfd_Logo_QLAB.svg\">](https://qlab.pucp.edu.pe/)\n",
    "\n",
    "\n",
    "[Pedro Achanccaray](mailto:p.diaz@tu-braunschweig.de), y [Smith Arauco](mailto:saraucoc@uni.pe).\n",
    "\n",
    "\n",
    "[Pontificia Universidad Católica del Perú](https://www.pucp.edu.pe/)  \n",
    "[Laboratorio de Inteligencia Artificial y Métodos Computacionales en Ciencias Sociales](https://qlab.pucp.edu.pe/formacion-continua)"
   ]
  },
  {
   "cell_type": "markdown",
   "metadata": {
    "id": "hJj98oVxv8XK"
   },
   "source": [
    "# Lab 5: RNN\n",
    "En esta sesión vamos a ver los siguientes temas:\n",
    "\n",
    "- Predicción de los pasajeros de las aerolíneas internacionales (LSTM).\n",
    "- LSTM para Regresión Usando el Método de la Ventana"
   ]
  },
  {
   "cell_type": "markdown",
   "metadata": {
    "id": "EyS5sA5SxSYe"
   },
   "source": [
    "## Montar Google Drive a Google Colab"
   ]
  },
  {
   "cell_type": "code",
   "execution_count": 1,
   "metadata": {
    "colab": {
     "base_uri": "https://localhost:8080/"
    },
    "id": "uZxaFpTRxUbn",
    "outputId": "71f732fc-c2d3-40bc-da7b-af5d921d8191"
   },
   "outputs": [
    {
     "output_type": "stream",
     "name": "stdout",
     "text": [
      "Mounted at /content/drive\n"
     ]
    }
   ],
   "source": [
    "from google.colab import drive\n",
    "drive.mount('/content/drive')"
   ]
  },
  {
   "cell_type": "markdown",
   "source": [
    "# Importando packages necesarios"
   ],
   "metadata": {
    "id": "GPn4gR047VZi"
   }
  },
  {
   "cell_type": "code",
   "execution_count": 1,
   "metadata": {
    "id": "EC09utecuSt8",
    "ExecuteTime": {
     "end_time": "2023-11-03T02:31:31.858076600Z",
     "start_time": "2023-11-03T02:31:25.152447600Z"
    }
   },
   "outputs": [],
   "source": [
    "import numpy\n",
    "import matplotlib.pyplot as plt\n",
    "from pandas import read_csv\n",
    "import math\n",
    "from sklearn.preprocessing import MinMaxScaler\n",
    "from sklearn.metrics import mean_squared_error\n",
    "from keras.models import Sequential\n",
    "from keras.layers import Dense\n",
    "from keras.layers import LSTM\n",
    "from tensorflow.keras.utils import plot_model\n",
    "from keras.callbacks import ModelCheckpoint, EarlyStopping\n",
    "\n",
    "# semilla aleatoria para rerpoducibilidad\n",
    "numpy.random.seed(7)"
   ]
  },
  {
   "cell_type": "markdown",
   "metadata": {
    "id": "ZcOA6hVa1PEE"
   },
   "source": [
    "## Conjunto de datos"
   ]
  },
  {
   "cell_type": "markdown",
   "source": [
    "\n",
    "\n",
    "```\n",
    "# Tiene formato de código\n",
    "```\n",
    "\n",
    "- Vamos a trabajar con el conjunto de datos disponible de forma gratuita en la página web de DataMarket.\n",
    "\n",
    "- Los datos van de enero de 1949 a diciembre de 1960 o 12 años, con 144 observaciones.\n",
    "\n",
    "<center>\n",
    "<img width=500 src=\"https://unipython.com/wp-content/uploads/2018/09/Figure_1.png\" img>\n",
    "</center>\n",
    "\n",
    "La primera columna que contiene el recuento de pasajeros de este mes (t) y la segunda columna que contiene el recuento de pasajeros del mes siguiente (t+1), que debe predecirse.\n"
   ],
   "metadata": {
    "id": "Qe7rGMbq7dOf"
   }
  },
  {
   "cell_type": "markdown",
   "metadata": {
    "id": "WrPEPkq1_c-V"
   },
   "source": [
    "### Cargando los datos\n",
    "\n",
    "Para cargar el conjunto de datos usaremos a biblioteca Pandas. Para luego onvertir los valores enteros en valores de coma flotante que son más adecuados para modelar con una red neuronal.\n",
    "\n"
   ]
  },
  {
   "cell_type": "code",
   "source": [
    "# cargamos el conjunto de datos\n",
    "dataframe = read_csv('international-airline-passengers.csv', usecols=[1], engine='python', skipfooter=3)\n",
    "dataset = dataframe.values\n",
    "dataset = dataset.astype('float32')"
   ],
   "metadata": {
    "id": "cH5TYtc2W-Of",
    "ExecuteTime": {
     "end_time": "2023-11-03T02:31:50.947052400Z",
     "start_time": "2023-11-03T02:31:50.927415800Z"
    }
   },
   "execution_count": 2,
   "outputs": []
  },
  {
   "cell_type": "markdown",
   "source": [
    "Las Redes recurrentes son sensibles a la escala de los datos de entrada, especialmente cuando se utilizan las funciones de activación sigmoide (por defecto) o tanh. Puede ser una buena práctica reescalar los datos al rango de 0 a 1, también llamado normalización"
   ],
   "metadata": {
    "id": "MoqRGFdMU9rH"
   }
  },
  {
   "cell_type": "code",
   "source": [
    "# normalizacion de los datos\n",
    "scaler = MinMaxScaler(feature_range=(0, 1))\n",
    "dataset = scaler.fit_transform(dataset)"
   ],
   "metadata": {
    "id": "Nwdsu_THUiHY",
    "ExecuteTime": {
     "end_time": "2023-11-03T02:32:00.325471800Z",
     "start_time": "2023-11-03T02:32:00.305990600Z"
    }
   },
   "execution_count": 3,
   "outputs": []
  },
  {
   "cell_type": "markdown",
   "source": [
    "### Entrenamiento y Pruebas"
   ],
   "metadata": {
    "id": "EO-jhmwvXKef"
   }
  },
  {
   "cell_type": "code",
   "source": [
    "#dividimos datos en entreno y datos para el test\n",
    "train_size = int(len(dataset) * 0.67)\n",
    "test_size = len(dataset) - train_size\n",
    "train, test = dataset[0:train_size,:], dataset[train_size:len(dataset),:]\n",
    "print(len(train), len(test))"
   ],
   "metadata": {
    "id": "FzBcZ2xz6Nqw",
    "colab": {
     "base_uri": "https://localhost:8080/"
    },
    "outputId": "733ffa41-4fe3-4f30-e32f-2927a8fdad2d",
    "ExecuteTime": {
     "end_time": "2023-11-03T02:32:03.366598Z",
     "start_time": "2023-11-03T02:32:03.366598Z"
    }
   },
   "execution_count": 4,
   "outputs": [
    {
     "name": "stdout",
     "output_type": "stream",
     "text": [
      "96 48\n"
     ]
    }
   ]
  },
  {
   "cell_type": "markdown",
   "source": [
    "Creamos un función para crear un nuevo conjunto de datos tal y como se ha descrito anteriormente. La función toma dos argumentos, el conjunto de datos que es un array NumPy que queremos convertir en un conjunto de datos y el look_back, que es el número de pasos de tiempo previos que se deben utilizar como variables de entrada para predecir el siguiente período de tiempo.\n",
    "\n",
    "<center>\n",
    "<img width=1000 src=\"https://i.ibb.co/XCbJfMV/Windows.png\" img>\n",
    "</center>\n",
    "\n"
   ],
   "metadata": {
    "id": "RrYmiP8sTaNy"
   }
  },
  {
   "cell_type": "code",
   "source": [
    "# convertir un array de valores en una matriz de conjuntos de datos\n",
    "def create_dataset(dataset, look_back=1):\n",
    "  dataX, dataY = [], []\n",
    "  for i in range(len(dataset)-look_back-1):\n",
    "    a = dataset[i:(i+look_back), 0]\n",
    "    dataX.append(a)\n",
    "    dataY.append(dataset[i + look_back, 0])\n",
    "  return numpy.array(dataX), numpy.array(dataY)"
   ],
   "metadata": {
    "id": "cwCBcqtiRilQ",
    "ExecuteTime": {
     "end_time": "2023-11-03T02:32:07.438020400Z",
     "start_time": "2023-11-03T02:32:07.406402100Z"
    }
   },
   "execution_count": 5,
   "outputs": []
  },
  {
   "cell_type": "code",
   "source": [
    "# remodelamos X=t y Y=t+1\n",
    "look_back = 3\n",
    "trainX, trainY = create_dataset(train, look_back)\n",
    "testX, testY = create_dataset(test, look_back)\n",
    "trainX.shape"
   ],
   "metadata": {
    "id": "i4JRoPQGTYLI",
    "colab": {
     "base_uri": "https://localhost:8080/"
    },
    "outputId": "e12a0213-4037-4f77-9f81-b7e72b9b71d3",
    "ExecuteTime": {
     "end_time": "2023-11-03T02:32:10.085040300Z",
     "start_time": "2023-11-03T02:32:10.069268200Z"
    }
   },
   "execution_count": 6,
   "outputs": [
    {
     "data": {
      "text/plain": "(92, 3)"
     },
     "execution_count": 6,
     "metadata": {},
     "output_type": "execute_result"
    }
   ]
  },
  {
   "cell_type": "markdown",
   "source": [
    "La red recorrentes espera que los datos de entrada (X) se proporcionen con una estructura de matriz específica en forma de: [muestras, pasos de tiempo, características]. Nuestros datos preparados están en la forma: [muestras, características] y estamos enmarcando el problema como un paso de tiempo para cada muestra."
   ],
   "metadata": {
    "id": "799n5-VCVRhF"
   }
  },
  {
   "cell_type": "code",
   "source": [
    "# cambiar la forma de la entrada para que sea[muestras, pasos de tiempo, características]\n",
    "#trainX = numpy.reshape(trainX, (trainX.shape[0], 1, trainX.shape[1]))\n",
    "#testX = numpy.reshape(testX, (testX.shape[0], 1, testX.shape[1]))\n",
    "# cambiar la forma de la entrada para que sea[muestras, pasos de tiempo, características]\n",
    "trainX = numpy.reshape(trainX, (trainX.shape[0], trainX.shape[1],1))\n",
    "testX = numpy.reshape(testX, (testX.shape[0],testX.shape[1],1))\n",
    "trainX.shape"
   ],
   "metadata": {
    "id": "RgEombQkVc5f",
    "colab": {
     "base_uri": "https://localhost:8080/"
    },
    "outputId": "ed185dbb-7d70-4b0d-ba29-56fd7273a55a",
    "ExecuteTime": {
     "end_time": "2023-11-03T02:32:18.820697100Z",
     "start_time": "2023-11-03T02:32:18.820193100Z"
    }
   },
   "execution_count": 7,
   "outputs": [
    {
     "data": {
      "text/plain": "(92, 3, 1)"
     },
     "execution_count": 7,
     "metadata": {},
     "output_type": "execute_result"
    }
   ]
  },
  {
   "cell_type": "markdown",
   "metadata": {
    "id": "dah4bJlO-rOW"
   },
   "source": [
    "## Modelo LSTM para Regresión\n",
    "\n",
    "\n",
    "Código basado en [PREDICCIÓN CON SERIES TEMPORALES CON LSTM, REDES NEURONALES RECURRENTES](https://unipython.com/prediccion-con-series-temporales-con-lstm-redes-neuronales-recurrentes/)\n",
    "\n",
    "\n",
    "La red recorrente basiada en LSTM tiene una capa visible con 1 entrada, una capa oculta con 4 bloques LSTM o neuronas y una capa de salida que hace una sola predicción de valor.\n",
    "\n"
   ]
  },
  {
   "cell_type": "markdown",
   "source": [
    "Construyendo nuestra red recurente"
   ],
   "metadata": {
    "id": "21c7WHE0EAUP"
   }
  },
  {
   "cell_type": "code",
   "execution_count": 8,
   "metadata": {
    "id": "pSjaGT2v-tQi",
    "ExecuteTime": {
     "end_time": "2023-11-03T02:32:24.784565Z",
     "start_time": "2023-11-03T02:32:23.995537500Z"
    }
   },
   "outputs": [],
   "source": [
    "# creacion de la red LSTM\n",
    "model = Sequential()\n",
    "#model.add(LSTM(4, input_shape=(1, look_back)))\n",
    "model.add(LSTM(8, input_shape=(look_back,1),return_sequences=True))\n",
    "model.add(LSTM(4, input_shape=(look_back,1)))\n",
    "model.add(Dense(1))\n",
    "\n",
    "# look_back - Moficar\n",
    "# LSTMs - mumero de neuronas, Cuantas Lstms, y que valores tendria sus neuronios\n",
    "# Modificar la Funcion de activacion, leaning rate, optimizador (opcional)"
   ]
  },
  {
   "cell_type": "markdown",
   "source": [
    "### Visualizacion de la red LSTM"
   ],
   "metadata": {
    "id": "rZu-ZRQme9f_"
   }
  },
  {
   "cell_type": "code",
   "source": [
    "model.summary()"
   ],
   "metadata": {
    "colab": {
     "base_uri": "https://localhost:8080/"
    },
    "id": "OhmuTmaX7X0Y",
    "outputId": "102d3c87-d9d9-4725-c1ed-40d8b25e4c12",
    "ExecuteTime": {
     "end_time": "2023-11-03T02:32:27.938960500Z",
     "start_time": "2023-11-03T02:32:27.922784900Z"
    }
   },
   "execution_count": 9,
   "outputs": [
    {
     "name": "stdout",
     "output_type": "stream",
     "text": [
      "Model: \"sequential\"\n",
      "_________________________________________________________________\n",
      " Layer (type)                Output Shape              Param #   \n",
      "=================================================================\n",
      " lstm (LSTM)                 (None, 3, 8)              320       \n",
      "                                                                 \n",
      " lstm_1 (LSTM)               (None, 4)                 208       \n",
      "                                                                 \n",
      " dense (Dense)               (None, 1)                 5         \n",
      "                                                                 \n",
      "=================================================================\n",
      "Total params: 533 (2.08 KB)\n",
      "Trainable params: 533 (2.08 KB)\n",
      "Non-trainable params: 0 (0.00 Byte)\n",
      "_________________________________________________________________\n"
     ]
    }
   ]
  },
  {
   "cell_type": "code",
   "source": [
    "plot_model(model, to_file=\"model_lstm.png\", show_shapes=True)"
   ],
   "metadata": {
    "colab": {
     "base_uri": "https://localhost:8080/",
     "height": 422
    },
    "id": "n8ZmuyZPevfa",
    "outputId": "9af0fb79-6020-4661-ab9c-4a162729030a",
    "ExecuteTime": {
     "end_time": "2023-11-03T02:32:41.737749300Z",
     "start_time": "2023-11-03T02:32:41.650595100Z"
    }
   },
   "execution_count": 10,
   "outputs": [
    {
     "data": {
      "image/png": "[encoded data removed]",
      "text/plain": "<IPython.core.display.Image object>"
     },
     "execution_count": 10,
     "metadata": {},
     "output_type": "execute_result"
    }
   ]
  },
  {
   "cell_type": "markdown",
   "source": [
    "### Configuración de Entrenamiento"
   ],
   "metadata": {
    "id": "Woya-69XHVQI"
   }
  },
  {
   "cell_type": "code",
   "source": [
    "model.compile(loss='mean_squared_error', optimizer='adam')"
   ],
   "metadata": {
    "id": "Q15QVezvE35A",
    "ExecuteTime": {
     "end_time": "2023-11-03T02:32:44.866668600Z",
     "start_time": "2023-11-03T02:32:44.847644800Z"
    }
   },
   "execution_count": 11,
   "outputs": []
  },
  {
   "cell_type": "code",
   "source": [
    "trainX.shape"
   ],
   "metadata": {
    "colab": {
     "base_uri": "https://localhost:8080/"
    },
    "id": "aKChmewPs8v5",
    "outputId": "af711dcd-a1ae-4b00-a72e-c0c9a393de30",
    "ExecuteTime": {
     "end_time": "2023-11-03T02:32:46.925208600Z",
     "start_time": "2023-11-03T02:32:46.921235800Z"
    }
   },
   "execution_count": 12,
   "outputs": [
    {
     "data": {
      "text/plain": "(92, 3, 1)"
     },
     "execution_count": 12,
     "metadata": {},
     "output_type": "execute_result"
    }
   ]
  },
  {
   "cell_type": "markdown",
   "source": [
    "## Training"
   ],
   "metadata": {
    "id": "LdwHVpx8xVHD"
   }
  },
  {
   "cell_type": "code",
   "source": [
    "history = model.fit(trainX, trainY, epochs=100, batch_size=1, verbose=0)"
   ],
   "metadata": {
    "id": "kdbrj2-OfYET",
    "ExecuteTime": {
     "end_time": "2023-11-03T02:33:28.999999Z",
     "start_time": "2023-11-03T02:32:49.511857700Z"
    }
   },
   "execution_count": 13,
   "outputs": []
  },
  {
   "cell_type": "markdown",
   "metadata": {
    "id": "Bd8kIWJfIYMb"
   },
   "source": [
    "## Evaluando el Modelo"
   ]
  },
  {
   "cell_type": "code",
   "execution_count": 14,
   "metadata": {
    "id": "iuBzFsg32Ahs",
    "scrolled": true,
    "colab": {
     "base_uri": "https://localhost:8080/"
    },
    "outputId": "481d4f0d-83c7-43cd-e5ab-3dd4a71bacbe",
    "ExecuteTime": {
     "end_time": "2023-11-03T02:37:50.393115400Z",
     "start_time": "2023-11-03T02:37:49.090889100Z"
    }
   },
   "outputs": [
    {
     "name": "stdout",
     "output_type": "stream",
     "text": [
      "3/3 [==============================] - 1s 8ms/step\n",
      "2/2 [==============================] - 0s 0s/step\n"
     ]
    }
   ],
   "source": [
    "# hacemos las predicciones\n",
    "trainPredict = model.predict(trainX)\n",
    "testPredict = model.predict(testX)"
   ]
  },
  {
   "cell_type": "code",
   "source": [
    "# invertimos las predicciones\n",
    "trainPredict = scaler.inverse_transform(trainPredict)\n",
    "trainY = scaler.inverse_transform([trainY])\n",
    "testPredict = scaler.inverse_transform(testPredict)\n",
    "testY = scaler.inverse_transform([testY])"
   ],
   "metadata": {
    "id": "ybOGf0FhZYVp",
    "ExecuteTime": {
     "end_time": "2023-11-03T02:37:55.456022Z",
     "start_time": "2023-11-03T02:37:55.448041100Z"
    }
   },
   "execution_count": 15,
   "outputs": []
  },
  {
   "cell_type": "markdown",
   "source": [
    "## Visualizando las predicciones"
   ],
   "metadata": {
    "id": "gG0zX6THd0mu"
   }
  },
  {
   "cell_type": "code",
   "source": [
    "# calculamos el error rms\n",
    "trainScore = math.sqrt(mean_squared_error(trainY[0], trainPredict[:,0]))\n",
    "print('Resultado del entrenamiento: %.2f RMSE' % (trainScore))\n",
    "testScore = math.sqrt(mean_squared_error(testY[0], testPredict[:,0]))\n",
    "print('Resultado del test: %.2f RMSE' % (testScore))"
   ],
   "metadata": {
    "colab": {
     "base_uri": "https://localhost:8080/"
    },
    "id": "m2Rt0--5Zr2O",
    "outputId": "07e145c3-a24b-4cb4-b7c3-ea895f1da4ee",
    "ExecuteTime": {
     "end_time": "2023-11-03T02:38:02.543194600Z",
     "start_time": "2023-11-03T02:38:02.534694Z"
    }
   },
   "execution_count": 17,
   "outputs": [
    {
     "name": "stdout",
     "output_type": "stream",
     "text": [
      "Resultado del entrenamiento: 22.80 RMSE\n",
      "Resultado del test: 52.14 RMSE\n"
     ]
    }
   ]
  },
  {
   "cell_type": "code",
   "source": [
    "# predicciones del entrenamiento de cambio para plotear\n",
    "trainPredictPlot = numpy.empty_like(dataset)\n",
    "trainPredictPlot[:, :] = numpy.nan\n",
    "trainPredictPlot[look_back:len(trainPredict)+look_back, :] = trainPredict\n",
    "# predicciones del test de cambio para plotear\n",
    "testPredictPlot = numpy.empty_like(dataset)\n",
    "testPredictPlot[:, :] = numpy.nan\n",
    "testPredictPlot[len(trainPredict)+(look_back*2)+1:len(dataset)-1, :] = testPredict\n"
   ],
   "metadata": {
    "id": "ZzBvkRrUZvs5",
    "ExecuteTime": {
     "end_time": "2023-11-03T02:38:04.737319100Z",
     "start_time": "2023-11-03T02:38:04.736815400Z"
    }
   },
   "execution_count": 18,
   "outputs": []
  },
  {
   "cell_type": "code",
   "source": [
    "# plot baseline and predictions\n",
    "plt.plot(scaler.inverse_transform(dataset))\n",
    "# ploteamos linea base y predicciones\n",
    "plt.plot(trainPredictPlot,'r', linewidth = 2)\n",
    "plt.plot(testPredictPlot,'m', linewidth = 2)\n",
    "plt.legend( ('Datos', 'Prediccion datos entramiento', 'Prediccion sobre los datos de test'), loc = 'upper left')\n",
    "plt.grid(True)\n",
    "plt.title(\"Datos sobre pasajeros por mes desde 1949 a 1960\", fontsize = 15)\n",
    "plt.xlabel(\"Tiempo (nº meses)\", fontsize = 10)\n",
    "plt.ylabel(\"nº de pasajeros\", fontsize = 10)\n",
    "plt.show()"
   ],
   "metadata": {
    "colab": {
     "base_uri": "https://localhost:8080/",
     "height": 474
    },
    "id": "bK5xnCCIaSiE",
    "outputId": "62fcb22c-fba2-4fe7-cae5-8734bc82b978",
    "ExecuteTime": {
     "end_time": "2023-11-03T02:38:07.217657100Z",
     "start_time": "2023-11-03T02:38:07.013037800Z"
    }
   },
   "execution_count": 19,
   "outputs": [
    {
     "data": {
      "text/plain": "<Figure size 640x480 with 1 Axes>",
      "image/png": "[encoded data removed]"
     },
     "metadata": {},
     "output_type": "display_data"
    }
   ]
  }
 ],
 "metadata": {
  "colab": {
   "provenance": []
  },
  "kernelspec": {
   "display_name": "Python 3 (ipykernel)",
   "language": "python",
   "name": "python3"
  },
  "language_info": {
   "codemirror_mode": {
    "name": "ipython",
    "version": 3
   },
   "file_extension": ".py",
   "mimetype": "text/x-python",
   "name": "python",
   "nbconvert_exporter": "python",
   "pygments_lexer": "ipython3",
   "version": "3.8.12"
  },
  "gpuClass": "standard",
  "accelerator": "GPU"
 },
 "nbformat": 4,
 "nbformat_minor": 0
}
