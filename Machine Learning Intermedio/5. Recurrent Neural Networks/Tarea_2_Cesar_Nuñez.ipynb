{
 "cells": [
  {
   "cell_type": "markdown",
   "metadata": {
    "id": "hJj98oVxv8XK"
   },
   "source": [
    "# **Tarea 2 - Deep Learning - César Núñez**"
   ]
  },
  {
   "cell_type": "markdown",
   "metadata": {
    "id": "EyS5sA5SxSYe"
   },
   "source": [
    "## Montar Google Drive a Google Colab"
   ]
  },
  {
   "cell_type": "code",
   "execution_count": 1,
   "metadata": {
    "colab": {
     "base_uri": "https://localhost:8080/"
    },
    "id": "uZxaFpTRxUbn",
    "outputId": "71f732fc-c2d3-40bc-da7b-af5d921d8191"
   },
   "outputs": [
    {
     "output_type": "stream",
     "name": "stdout",
     "text": [
      "Mounted at /content/drive\n"
     ]
    }
   ],
   "source": [
    "from google.colab import drive\n",
    "drive.mount('/content/drive')"
   ]
  },
  {
   "cell_type": "markdown",
   "source": [
    "# Importando packages necesarios"
   ],
   "metadata": {
    "id": "GPn4gR047VZi"
   }
  },
  {
   "cell_type": "code",
   "execution_count": 1,
   "metadata": {
    "id": "EC09utecuSt8",
    "ExecuteTime": {
     "end_time": "2023-11-03T14:34:57.584695200Z",
     "start_time": "2023-11-03T14:34:54.210852700Z"
    }
   },
   "outputs": [],
   "source": [
    "import numpy\n",
    "import matplotlib.pyplot as plt\n",
    "from pandas import read_csv\n",
    "import math\n",
    "from sklearn.preprocessing import MinMaxScaler\n",
    "from sklearn.metrics import mean_squared_error\n",
    "from keras.models import Sequential\n",
    "from keras.layers import Dense\n",
    "from keras.layers import LSTM\n",
    "from tensorflow.keras.utils import plot_model\n",
    "from keras.callbacks import ModelCheckpoint, EarlyStopping\n",
    "\n",
    "# semilla aleatoria para reproducibilidad\n",
    "numpy.random.seed(7)"
   ]
  },
  {
   "cell_type": "markdown",
   "metadata": {
    "id": "ZcOA6hVa1PEE"
   },
   "source": [
    "## Conjunto de datos"
   ]
  },
  {
   "cell_type": "markdown",
   "metadata": {
    "id": "WrPEPkq1_c-V"
   },
   "source": [
    "### Cargando los datos\n",
    "Para cargar el conjunto de datos usaremos a biblioteca Pandas. Para luego onvertir los valores enteros en valores de coma flotante que son más adecuados para modelar con una red neuronal."
   ]
  },
  {
   "cell_type": "code",
   "source": [
    "# cargamos el conjunto de datos\n",
    "dataframe = read_csv('international-airline-passengers.csv', usecols=[1], engine='python', skipfooter=3)\n",
    "dataset = dataframe.values\n",
    "dataset = dataset.astype('float32')"
   ],
   "metadata": {
    "id": "cH5TYtc2W-Of",
    "ExecuteTime": {
     "end_time": "2023-11-03T14:35:00.153226Z",
     "start_time": "2023-11-03T14:35:00.142435900Z"
    }
   },
   "execution_count": 2,
   "outputs": []
  },
  {
   "cell_type": "markdown",
   "source": [
    "Las Redes recurrentes son sensibles a la escala de los datos de entrada, especialmente cuando se utilizan las funciones de activación sigmoide (por defecto) o tanh. Puede ser una buena práctica reescalar los datos al rango de 0 a 1, también llamado normalización"
   ],
   "metadata": {
    "id": "MoqRGFdMU9rH"
   }
  },
  {
   "cell_type": "code",
   "source": [
    "# normalizacion de los datos\n",
    "scaler = MinMaxScaler(feature_range=(0, 1))\n",
    "dataset = scaler.fit_transform(dataset)"
   ],
   "metadata": {
    "id": "Nwdsu_THUiHY",
    "ExecuteTime": {
     "end_time": "2023-11-03T14:35:02.130322600Z",
     "start_time": "2023-11-03T14:35:02.127990200Z"
    }
   },
   "execution_count": 3,
   "outputs": []
  },
  {
   "cell_type": "markdown",
   "source": [
    "### Entrenamiento y Pruebas"
   ],
   "metadata": {
    "id": "EO-jhmwvXKef"
   }
  },
  {
   "cell_type": "code",
   "source": [
    "#dividimos datos en entreno y datos para el test\n",
    "train_size = int(len(dataset) * 0.67)\n",
    "test_size = len(dataset) - train_size\n",
    "train, test = dataset[0:train_size,:], dataset[train_size:len(dataset),:]\n",
    "print(len(train), len(test))"
   ],
   "metadata": {
    "id": "FzBcZ2xz6Nqw",
    "colab": {
     "base_uri": "https://localhost:8080/"
    },
    "outputId": "733ffa41-4fe3-4f30-e32f-2927a8fdad2d",
    "ExecuteTime": {
     "end_time": "2023-11-03T14:35:03.806497900Z",
     "start_time": "2023-11-03T14:35:03.802887500Z"
    }
   },
   "execution_count": 4,
   "outputs": [
    {
     "name": "stdout",
     "output_type": "stream",
     "text": [
      "96 48\n"
     ]
    }
   ]
  },
  {
   "cell_type": "code",
   "source": [
    "# convertir un array de valores en una matriz de conjuntos de datos\n",
    "def create_dataset(dataset, look_back=1):\n",
    "  dataX, dataY = [], []\n",
    "  for i in range(len(dataset)-look_back-1):\n",
    "    a = dataset[i:(i+look_back), 0]\n",
    "    dataX.append(a)\n",
    "    dataY.append(dataset[i + look_back, 0])\n",
    "  return numpy.array(dataX), numpy.array(dataY)"
   ],
   "metadata": {
    "id": "cwCBcqtiRilQ",
    "ExecuteTime": {
     "end_time": "2023-11-03T14:35:05.750291Z",
     "start_time": "2023-11-03T14:35:05.747317700Z"
    }
   },
   "execution_count": 5,
   "outputs": []
  },
  {
   "cell_type": "code",
   "source": [
    "# remodelamos X=t y Y=t+1\n",
    "# look_back - Moficar\n",
    "# LSTMs - mumero de neuronas, Cuantas Lstms, y que valores tendria sus neuronios\n",
    "# Modificar la Funcion de activacion, leaning rate, optimizador (opcional)\n",
    "def model_lstm(look_back = 1, optimizer = \"adam\", loss='mean_squared_error'):\n",
    "  trainX, trainY = create_dataset(train, look_back)\n",
    "  testX, testY = create_dataset(test, look_back)\n",
    "  \n",
    "  # cambiar la forma de la entrada para que sea[muestras, pasos de tiempo, características]\n",
    "  trainX = numpy.reshape(trainX, (trainX.shape[0], trainX.shape[1],1))\n",
    "  testX = numpy.reshape(testX, (testX.shape[0],testX.shape[1],1))\n",
    "  \n",
    "  # creacion de la red LSTM\n",
    "  model = Sequential()\n",
    "  #model.add(LSTM(4, input_shape=(1, look_back)))\n",
    "  model.add(LSTM(8, input_shape=(look_back,1),return_sequences=True))\n",
    "  model.add(LSTM(4, input_shape=(look_back,1)))\n",
    "  model.add(Dense(1))\n",
    "  \n",
    "  \n",
    "  model.compile(loss=loss, optimizer=optimizer)\n",
    "  \n",
    "  history = model.fit(trainX, trainY, epochs=100, batch_size=1, verbose=0)\n",
    "  ## Evaluando el Modelo\n",
    "  \n",
    "  # hacemos las predicciones\n",
    "  trainPredict = model.predict(trainX)\n",
    "  testPredict = model.predict(testX)\n",
    "  \n",
    "  # invertimos las predicciones\n",
    "  trainPredict = scaler.inverse_transform(trainPredict)\n",
    "  trainY = scaler.inverse_transform([trainY])\n",
    "  testPredict = scaler.inverse_transform(testPredict)\n",
    "  testY = scaler.inverse_transform([testY])\n",
    "  # calculamos el error rms\n",
    "  trainScore = math.sqrt(mean_squared_error(trainY[0], trainPredict[:,0]))\n",
    "  print('Resultado del entrenamiento: %.2f RMSE' % (trainScore))\n",
    "  testScore = math.sqrt(mean_squared_error(testY[0], testPredict[:,0]))\n",
    "  print('Resultado del test: %.2f RMSE' % (testScore))\n",
    "  return trainScore, testScore"
   ],
   "metadata": {
    "colab": {
     "base_uri": "https://localhost:8080/"
    },
    "id": "m2Rt0--5Zr2O",
    "outputId": "07e145c3-a24b-4cb4-b7c3-ea895f1da4ee",
    "ExecuteTime": {
     "end_time": "2023-11-03T14:35:07.802229200Z",
     "start_time": "2023-11-03T14:35:07.792675200Z"
    }
   },
   "execution_count": 6,
   "outputs": []
  },
  {
   "cell_type": "code",
   "execution_count": 10,
   "outputs": [
    {
     "name": "stdout",
     "output_type": "stream",
     "text": [
      "3/3 [==============================] - 1s 13ms/step\n",
      "2/2 [==============================] - 0s 0s/step\n",
      "Resultado del entrenamiento: 24.64 RMSE\n",
      "Resultado del test: 50.05 RMSE\n",
      "3/3 [==============================] - 1s 4ms/step\n",
      "2/2 [==============================] - 0s 5ms/step\n",
      "Resultado del entrenamiento: 22.86 RMSE\n",
      "Resultado del test: 54.67 RMSE\n",
      "3/3 [==============================] - 1s 9ms/step\n",
      "2/2 [==============================] - 0s 0s/step\n",
      "Resultado del entrenamiento: 70.83 RMSE\n",
      "Resultado del test: 214.24 RMSE\n",
      "3/3 [==============================] - 1s 2ms/step\n",
      "2/2 [==============================] - 0s 13ms/step\n",
      "Resultado del entrenamiento: 66.96 RMSE\n",
      "Resultado del test: 213.08 RMSE\n",
      "3/3 [==============================] - 1s 9ms/step\n",
      "2/2 [==============================] - 0s 4ms/step\n",
      "Resultado del entrenamiento: 69.43 RMSE\n",
      "Resultado del test: 219.71 RMSE\n",
      "3/3 [==============================] - 1s 9ms/step\n",
      "2/2 [==============================] - 0s 0s/step\n",
      "Resultado del entrenamiento: 72.22 RMSE\n",
      "Resultado del test: 229.97 RMSE\n",
      "3/3 [==============================] - 1s 0s/step\n",
      "2/2 [==============================] - 0s 1ms/step\n",
      "Resultado del entrenamiento: 22.26 RMSE\n",
      "Resultado del test: 46.45 RMSE\n",
      "3/3 [==============================] - 1s 8ms/step\n",
      "2/2 [==============================] - 0s 5ms/step\n",
      "Resultado del entrenamiento: 22.84 RMSE\n",
      "Resultado del test: 89.72 RMSE\n",
      "3/3 [==============================] - 1s 4ms/step\n",
      "2/2 [==============================] - 0s 2ms/step\n",
      "Resultado del entrenamiento: 36.68 RMSE\n",
      "Resultado del test: 96.17 RMSE\n",
      "3/3 [==============================] - 1s 4ms/step\n",
      "2/2 [==============================] - 0s 5ms/step\n",
      "Resultado del entrenamiento: 33.03 RMSE\n",
      "Resultado del test: 86.79 RMSE\n",
      "3/3 [==============================] - 1s 3ms/step\n",
      "2/2 [==============================] - 0s 4ms/step\n",
      "Resultado del entrenamiento: 64.60 RMSE\n",
      "Resultado del test: 199.87 RMSE\n",
      "3/3 [==============================] - 1s 4ms/step\n",
      "2/2 [==============================] - 0s 6ms/step\n",
      "Resultado del entrenamiento: 64.78 RMSE\n",
      "Resultado del test: 207.21 RMSE\n",
      "3/3 [==============================] - 1s 4ms/step\n",
      "2/2 [==============================] - 0s 5ms/step\n",
      "Resultado del entrenamiento: 23.67 RMSE\n",
      "Resultado del test: 68.16 RMSE\n",
      "3/3 [==============================] - 1s 4ms/step\n",
      "2/2 [==============================] - 0s 0s/step\n",
      "Resultado del entrenamiento: 22.57 RMSE\n",
      "Resultado del test: 72.52 RMSE\n",
      "3/3 [==============================] - 1s 1ms/step\n",
      "2/2 [==============================] - 0s 7ms/step\n",
      "Resultado del entrenamiento: 38.16 RMSE\n",
      "Resultado del test: 93.86 RMSE\n",
      "3/3 [==============================] - 1s 0s/step\n",
      "2/2 [==============================] - 0s 0s/step\n",
      "Resultado del entrenamiento: 44.61 RMSE\n",
      "Resultado del test: 113.23 RMSE\n",
      "3/3 [==============================] - 1s 5ms/step\n",
      "2/2 [==============================] - 0s 4ms/step\n",
      "Resultado del entrenamiento: 59.21 RMSE\n",
      "Resultado del test: 178.07 RMSE\n",
      "3/3 [==============================] - 1s 6ms/step\n",
      "2/2 [==============================] - 0s 5ms/step\n",
      "Resultado del entrenamiento: 57.52 RMSE\n",
      "Resultado del test: 181.21 RMSE\n",
      "3/3 [==============================] - 1s 7ms/step\n",
      "2/2 [==============================] - 0s 14ms/step\n",
      "Resultado del entrenamiento: 21.11 RMSE\n",
      "Resultado del test: 50.52 RMSE\n",
      "3/3 [==============================] - 1s 8ms/step\n",
      "2/2 [==============================] - 0s 8ms/step\n",
      "Resultado del entrenamiento: 24.87 RMSE\n",
      "Resultado del test: 75.24 RMSE\n",
      "3/3 [==============================] - 1s 8ms/step\n",
      "2/2 [==============================] - 0s 0s/step\n",
      "Resultado del entrenamiento: 37.98 RMSE\n",
      "Resultado del test: 83.84 RMSE\n",
      "3/3 [==============================] - 1s 1ms/step\n",
      "2/2 [==============================] - 0s 6ms/step\n",
      "Resultado del entrenamiento: 37.03 RMSE\n",
      "Resultado del test: 91.74 RMSE\n",
      "3/3 [==============================] - 1s 4ms/step\n",
      "2/2 [==============================] - 0s 0s/step\n",
      "Resultado del entrenamiento: 58.27 RMSE\n",
      "Resultado del test: 170.82 RMSE\n",
      "3/3 [==============================] - 1s 8ms/step\n",
      "2/2 [==============================] - 0s 0s/step\n",
      "Resultado del entrenamiento: 60.51 RMSE\n",
      "Resultado del test: 191.00 RMSE\n",
      "3/3 [==============================] - 1s 5ms/step\n",
      "2/2 [==============================] - 0s 0s/step\n",
      "Resultado del entrenamiento: 20.65 RMSE\n",
      "Resultado del test: 58.08 RMSE\n",
      "3/3 [==============================] - 1s 8ms/step\n",
      "2/2 [==============================] - 0s 0s/step\n",
      "Resultado del entrenamiento: 23.02 RMSE\n",
      "Resultado del test: 72.94 RMSE\n",
      "3/3 [==============================] - 1s 0s/step\n",
      "2/2 [==============================] - 0s 8ms/step\n",
      "Resultado del entrenamiento: 41.74 RMSE\n",
      "Resultado del test: 86.21 RMSE\n",
      "3/3 [==============================] - 1s 7ms/step\n",
      "2/2 [==============================] - 0s 4ms/step\n",
      "Resultado del entrenamiento: 36.88 RMSE\n",
      "Resultado del test: 102.04 RMSE\n",
      "3/3 [==============================] - 1s 5ms/step\n",
      "2/2 [==============================] - 0s 6ms/step\n",
      "Resultado del entrenamiento: 59.25 RMSE\n",
      "Resultado del test: 182.36 RMSE\n",
      "3/3 [==============================] - 1s 4ms/step\n",
      "2/2 [==============================] - 0s 0s/step\n",
      "Resultado del entrenamiento: 42.49 RMSE\n",
      "Resultado del test: 111.31 RMSE\n"
     ]
    }
   ],
   "source": [
    "modelList = []\n",
    "lookList = []\n",
    "optmList = []\n",
    "lossList = []\n",
    "trainList = []\n",
    "testList = []\n",
    "cont_model = 1\n",
    "for look in range(1,10,2):\n",
    "  for optm in list([\"adam\",\"SGD\", \"Adagrad\"]):\n",
    "    for loss in list([\"mean_squared_error\",\"mean_absolute_error\"]):\n",
    "      modelList.append(f\"Modelo N° {cont_model}\")\n",
    "      lookList.append(look) \n",
    "      optmList.append(optm)\n",
    "      lossList.append(loss)\n",
    "      trainS, testS = model_lstm(look_back = look, optimizer = optm, loss=loss)\n",
    "      trainList.append(trainS)\n",
    "      testList.append(testS)\n",
    "      cont_model = cont_model + 1"
   ],
   "metadata": {
    "collapsed": false,
    "ExecuteTime": {
     "end_time": "2023-11-03T17:24:04.441938500Z",
     "start_time": "2023-11-03T17:02:28.332341200Z"
    }
   }
  },
  {
   "cell_type": "code",
   "execution_count": 11,
   "outputs": [
    {
     "name": "stdout",
     "output_type": "stream",
     "text": [
      "           Model  Lookback Optimizer        Loss function   MSE Train\n",
      "0    Modelo N° 1         1      adam   mean_squared_error   50.046564\n",
      "1    Modelo N° 2         1      adam  mean_absolute_error   54.666386\n",
      "2    Modelo N° 3         1       SGD   mean_squared_error  214.242038\n",
      "3    Modelo N° 4         1       SGD  mean_absolute_error  213.083676\n",
      "4    Modelo N° 5         1   Adagrad   mean_squared_error  219.706178\n",
      "5    Modelo N° 6         1   Adagrad  mean_absolute_error  229.967436\n",
      "6    Modelo N° 7         3      adam   mean_squared_error   46.446730\n",
      "7    Modelo N° 8         3      adam  mean_absolute_error   89.720245\n",
      "8    Modelo N° 9         3       SGD   mean_squared_error   96.170702\n",
      "9   Modelo N° 10         3       SGD  mean_absolute_error   86.790243\n",
      "10  Modelo N° 11         3   Adagrad   mean_squared_error  199.868958\n",
      "11  Modelo N° 12         3   Adagrad  mean_absolute_error  207.207110\n",
      "12  Modelo N° 13         5      adam   mean_squared_error   68.156921\n",
      "13  Modelo N° 14         5      adam  mean_absolute_error   72.524706\n",
      "14  Modelo N° 15         5       SGD   mean_squared_error   93.859409\n",
      "15  Modelo N° 16         5       SGD  mean_absolute_error  113.229681\n",
      "16  Modelo N° 17         5   Adagrad   mean_squared_error  178.070138\n",
      "17  Modelo N° 18         5   Adagrad  mean_absolute_error  181.206177\n",
      "18  Modelo N° 19         7      adam   mean_squared_error   50.519708\n",
      "19  Modelo N° 20         7      adam  mean_absolute_error   75.240971\n",
      "20  Modelo N° 21         7       SGD   mean_squared_error   83.842478\n",
      "21  Modelo N° 22         7       SGD  mean_absolute_error   91.736818\n",
      "22  Modelo N° 23         7   Adagrad   mean_squared_error  170.819716\n",
      "23  Modelo N° 24         7   Adagrad  mean_absolute_error  191.003931\n",
      "24  Modelo N° 25         9      adam   mean_squared_error   58.082465\n",
      "25  Modelo N° 26         9      adam  mean_absolute_error   72.943312\n",
      "26  Modelo N° 27         9       SGD   mean_squared_error   86.211179\n",
      "27  Modelo N° 28         9       SGD  mean_absolute_error  102.040181\n",
      "28  Modelo N° 29         9   Adagrad   mean_squared_error  182.364101\n",
      "29  Modelo N° 30         9   Adagrad  mean_absolute_error  111.308179\n"
     ]
    }
   ],
   "source": [
    "import pandas as pd\n",
    "# Crear un diccionario con los datos\n",
    "datos = {'Model': modelList,\n",
    "         'Lookback' : lookList,\n",
    "         'Optimizer' : optmList,\n",
    "         'Loss function': lossList,\n",
    "         'MSE Train': trainList,\n",
    "         'MSE Train': testList}\n",
    "\n",
    "# Crear un DataFrame a partir del diccionario\n",
    "tabla_resumen = pd.DataFrame(datos)\n",
    "\n",
    "# Mostrar la tabla resumen\n",
    "print(tabla_resumen)"
   ],
   "metadata": {
    "collapsed": false,
    "ExecuteTime": {
     "end_time": "2023-11-03T17:24:04.453851Z",
     "start_time": "2023-11-03T17:24:04.418222600Z"
    }
   }
  }
 ],
 "metadata": {
  "colab": {
   "provenance": []
  },
  "kernelspec": {
   "display_name": "Python 3 (ipykernel)",
   "language": "python",
   "name": "python3"
  },
  "language_info": {
   "codemirror_mode": {
    "name": "ipython",
    "version": 3
   },
   "file_extension": ".py",
   "mimetype": "text/x-python",
   "name": "python",
   "nbconvert_exporter": "python",
   "pygments_lexer": "ipython3",
   "version": "3.8.12"
  },
  "gpuClass": "standard",
  "accelerator": "GPU"
 },
 "nbformat": 4,
 "nbformat_minor": 0
}
