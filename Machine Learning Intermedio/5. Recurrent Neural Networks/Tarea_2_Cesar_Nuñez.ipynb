{
 "cells": [
  {
   "cell_type": "markdown",
   "metadata": {
    "id": "hJj98oVxv8XK"
   },
   "source": [
    "# **Tarea 2 - Deep Learning - César Núñez**"
   ]
  },
  {
   "cell_type": "markdown",
   "metadata": {
    "id": "EyS5sA5SxSYe"
   },
   "source": [
    "## Montar Google Drive a Google Colab"
   ]
  },
  {
   "cell_type": "code",
   "execution_count": 1,
   "metadata": {
    "colab": {
     "base_uri": "https://localhost:8080/"
    },
    "id": "uZxaFpTRxUbn",
    "outputId": "71f732fc-c2d3-40bc-da7b-af5d921d8191"
   },
   "outputs": [
    {
     "output_type": "stream",
     "name": "stdout",
     "text": [
      "Mounted at /content/drive\n"
     ]
    }
   ],
   "source": [
    "from google.colab import drive\n",
    "drive.mount('/content/drive')"
   ]
  },
  {
   "cell_type": "markdown",
   "source": [
    "# Importando packages necesarios"
   ],
   "metadata": {
    "id": "GPn4gR047VZi"
   }
  },
  {
   "cell_type": "code",
   "execution_count": 1,
   "metadata": {
    "id": "EC09utecuSt8",
    "ExecuteTime": {
     "end_time": "2023-11-03T14:34:57.584695200Z",
     "start_time": "2023-11-03T14:34:54.210852700Z"
    }
   },
   "outputs": [],
   "source": [
    "import numpy\n",
    "import matplotlib.pyplot as plt\n",
    "from pandas import read_csv\n",
    "import math\n",
    "from sklearn.preprocessing import MinMaxScaler\n",
    "from sklearn.metrics import mean_squared_error\n",
    "from keras.models import Sequential\n",
    "from keras.layers import Dense\n",
    "from keras.layers import LSTM\n",
    "from tensorflow.keras.utils import plot_model\n",
    "from keras.callbacks import ModelCheckpoint, EarlyStopping\n",
    "\n",
    "# semilla aleatoria para reproducibilidad\n",
    "numpy.random.seed(7)"
   ]
  },
  {
   "cell_type": "markdown",
   "metadata": {
    "id": "ZcOA6hVa1PEE"
   },
   "source": [
    "## Conjunto de datos"
   ]
  },
  {
   "cell_type": "markdown",
   "metadata": {
    "id": "WrPEPkq1_c-V"
   },
   "source": [
    "### Cargando los datos\n",
    "Para cargar el conjunto de datos usaremos a biblioteca Pandas. Para luego onvertir los valores enteros en valores de coma flotante que son más adecuados para modelar con una red neuronal."
   ]
  },
  {
   "cell_type": "code",
   "source": [
    "# cargamos el conjunto de datos\n",
    "dataframe = read_csv('international-airline-passengers.csv', usecols=[1], engine='python', skipfooter=3)\n",
    "dataset = dataframe.values\n",
    "dataset = dataset.astype('float32')"
   ],
   "metadata": {
    "id": "cH5TYtc2W-Of",
    "ExecuteTime": {
     "end_time": "2023-11-03T14:35:00.153226Z",
     "start_time": "2023-11-03T14:35:00.142435900Z"
    }
   },
   "execution_count": 2,
   "outputs": []
  },
  {
   "cell_type": "markdown",
   "source": [
    "Las Redes recurrentes son sensibles a la escala de los datos de entrada, especialmente cuando se utilizan las funciones de activación sigmoide (por defecto) o tanh. Puede ser una buena práctica reescalar los datos al rango de 0 a 1, también llamado normalización"
   ],
   "metadata": {
    "id": "MoqRGFdMU9rH"
   }
  },
  {
   "cell_type": "code",
   "source": [
    "# normalizacion de los datos\n",
    "scaler = MinMaxScaler(feature_range=(0, 1))\n",
    "dataset = scaler.fit_transform(dataset)"
   ],
   "metadata": {
    "id": "Nwdsu_THUiHY",
    "ExecuteTime": {
     "end_time": "2023-11-03T14:35:02.130322600Z",
     "start_time": "2023-11-03T14:35:02.127990200Z"
    }
   },
   "execution_count": 3,
   "outputs": []
  },
  {
   "cell_type": "markdown",
   "source": [
    "### Entrenamiento y Pruebas"
   ],
   "metadata": {
    "id": "EO-jhmwvXKef"
   }
  },
  {
   "cell_type": "code",
   "source": [
    "#dividimos datos en entreno y datos para el test\n",
    "train_size = int(len(dataset) * 0.67)\n",
    "test_size = len(dataset) - train_size\n",
    "train, test = dataset[0:train_size,:], dataset[train_size:len(dataset),:]\n",
    "print(len(train), len(test))"
   ],
   "metadata": {
    "id": "FzBcZ2xz6Nqw",
    "colab": {
     "base_uri": "https://localhost:8080/"
    },
    "outputId": "733ffa41-4fe3-4f30-e32f-2927a8fdad2d",
    "ExecuteTime": {
     "end_time": "2023-11-03T14:35:03.806497900Z",
     "start_time": "2023-11-03T14:35:03.802887500Z"
    }
   },
   "execution_count": 4,
   "outputs": [
    {
     "name": "stdout",
     "output_type": "stream",
     "text": [
      "96 48\n"
     ]
    }
   ]
  },
  {
   "cell_type": "code",
   "source": [
    "# convertir un array de valores en una matriz de conjuntos de datos\n",
    "def create_dataset(dataset, look_back=1):\n",
    "  dataX, dataY = [], []\n",
    "  for i in range(len(dataset)-look_back-1):\n",
    "    a = dataset[i:(i+look_back), 0]\n",
    "    dataX.append(a)\n",
    "    dataY.append(dataset[i + look_back, 0])\n",
    "  return numpy.array(dataX), numpy.array(dataY)"
   ],
   "metadata": {
    "id": "cwCBcqtiRilQ",
    "ExecuteTime": {
     "end_time": "2023-11-03T14:35:05.750291Z",
     "start_time": "2023-11-03T14:35:05.747317700Z"
    }
   },
   "execution_count": 5,
   "outputs": []
  },
  {
   "cell_type": "code",
   "source": [
    "# remodelamos X=t y Y=t+1\n",
    "# look_back - Moficar\n",
    "# LSTMs - mumero de neuronas, Cuantas Lstms, y que valores tendria sus neuronios\n",
    "# Modificar la Funcion de activacion, leaning rate, optimizador (opcional)\n",
    "def model_lstm(look_back = 1, optimizer = \"adam\", loss='mean_squared_error'):\n",
    "  trainX, trainY = create_dataset(train, look_back)\n",
    "  testX, testY = create_dataset(test, look_back)\n",
    "  \n",
    "  # cambiar la forma de la entrada para que sea[muestras, pasos de tiempo, características]\n",
    "  trainX = numpy.reshape(trainX, (trainX.shape[0], trainX.shape[1],1))\n",
    "  testX = numpy.reshape(testX, (testX.shape[0],testX.shape[1],1))\n",
    "  \n",
    "  # creacion de la red LSTM\n",
    "  model = Sequential()\n",
    "  #model.add(LSTM(4, input_shape=(1, look_back)))\n",
    "  model.add(LSTM(8, input_shape=(look_back,1),return_sequences=True))\n",
    "  model.add(LSTM(4, input_shape=(look_back,1)))\n",
    "  model.add(Dense(1))\n",
    "  \n",
    "  \n",
    "  model.compile(loss=loss, optimizer=optimizer)\n",
    "  \n",
    "  history = model.fit(trainX, trainY, epochs=100, batch_size=1, verbose=0)\n",
    "  ## Evaluando el Modelo\n",
    "  \n",
    "  # hacemos las predicciones\n",
    "  trainPredict = model.predict(trainX)\n",
    "  testPredict = model.predict(testX)\n",
    "  \n",
    "  # invertimos las predicciones\n",
    "  trainPredict = scaler.inverse_transform(trainPredict)\n",
    "  trainY = scaler.inverse_transform([trainY])\n",
    "  testPredict = scaler.inverse_transform(testPredict)\n",
    "  testY = scaler.inverse_transform([testY])\n",
    "  # calculamos el error rms\n",
    "  trainScore = math.sqrt(mean_squared_error(trainY[0], trainPredict[:,0]))\n",
    "  print('Resultado del entrenamiento: %.2f RMSE' % (trainScore))\n",
    "  testScore = math.sqrt(mean_squared_error(testY[0], testPredict[:,0]))\n",
    "  print('Resultado del test: %.2f RMSE' % (testScore))\n",
    "  return trainScore, testScore"
   ],
   "metadata": {
    "colab": {
     "base_uri": "https://localhost:8080/"
    },
    "id": "m2Rt0--5Zr2O",
    "outputId": "07e145c3-a24b-4cb4-b7c3-ea895f1da4ee",
    "ExecuteTime": {
     "end_time": "2023-11-03T14:35:07.802229200Z",
     "start_time": "2023-11-03T14:35:07.792675200Z"
    }
   },
   "execution_count": 6,
   "outputs": []
  },
  {
   "cell_type": "code",
   "execution_count": 10,
   "outputs": [
    {
     "name": "stdout",
     "output_type": "stream",
     "text": [
      "3/3 [==============================] - 1s 13ms/step\n",
      "2/2 [==============================] - 0s 0s/step\n",
      "Resultado del entrenamiento: 24.64 RMSE\n",
      "Resultado del test: 50.05 RMSE\n",
      "3/3 [==============================] - 1s 4ms/step\n",
      "2/2 [==============================] - 0s 5ms/step\n",
      "Resultado del entrenamiento: 22.86 RMSE\n",
      "Resultado del test: 54.67 RMSE\n",
      "3/3 [==============================] - 1s 9ms/step\n",
      "2/2 [==============================] - 0s 0s/step\n",
      "Resultado del entrenamiento: 70.83 RMSE\n",
      "Resultado del test: 214.24 RMSE\n",
      "3/3 [==============================] - 1s 2ms/step\n",
      "2/2 [==============================] - 0s 13ms/step\n",
      "Resultado del entrenamiento: 66.96 RMSE\n",
      "Resultado del test: 213.08 RMSE\n",
      "3/3 [==============================] - 1s 9ms/step\n",
      "2/2 [==============================] - 0s 4ms/step\n",
      "Resultado del entrenamiento: 69.43 RMSE\n",
      "Resultado del test: 219.71 RMSE\n",
      "3/3 [==============================] - 1s 9ms/step\n",
      "2/2 [==============================] - 0s 0s/step\n",
      "Resultado del entrenamiento: 72.22 RMSE\n",
      "Resultado del test: 229.97 RMSE\n",
      "3/3 [==============================] - 1s 0s/step\n",
      "2/2 [==============================] - 0s 1ms/step\n",
      "Resultado del entrenamiento: 22.26 RMSE\n",
      "Resultado del test: 46.45 RMSE\n",
      "3/3 [==============================] - 1s 8ms/step\n",
      "2/2 [==============================] - 0s 5ms/step\n",
      "Resultado del entrenamiento: 22.84 RMSE\n",
      "Resultado del test: 89.72 RMSE\n",
      "3/3 [==============================] - 1s 4ms/step\n",
      "2/2 [==============================] - 0s 2ms/step\n",
      "Resultado del entrenamiento: 36.68 RMSE\n",
      "Resultado del test: 96.17 RMSE\n",
      "3/3 [==============================] - 1s 4ms/step\n",
      "2/2 [==============================] - 0s 5ms/step\n",
      "Resultado del entrenamiento: 33.03 RMSE\n",
      "Resultado del test: 86.79 RMSE\n",
      "3/3 [==============================] - 1s 3ms/step\n",
      "2/2 [==============================] - 0s 4ms/step\n",
      "Resultado del entrenamiento: 64.60 RMSE\n",
      "Resultado del test: 199.87 RMSE\n",
      "3/3 [==============================] - 1s 4ms/step\n",
      "2/2 [==============================] - 0s 6ms/step\n",
      "Resultado del entrenamiento: 64.78 RMSE\n",
      "Resultado del test: 207.21 RMSE\n",
      "3/3 [==============================] - 1s 4ms/step\n",
      "2/2 [==============================] - 0s 5ms/step\n",
      "Resultado del entrenamiento: 23.67 RMSE\n",
      "Resultado del test: 68.16 RMSE\n",
      "3/3 [==============================] - 1s 4ms/step\n",
      "2/2 [==============================] - 0s 0s/step\n",
      "Resultado del entrenamiento: 22.57 RMSE\n",
      "Resultado del test: 72.52 RMSE\n",
      "3/3 [==============================] - 1s 1ms/step\n",
      "2/2 [==============================] - 0s 7ms/step\n",
      "Resultado del entrenamiento: 38.16 RMSE\n",
      "Resultado del test: 93.86 RMSE\n",
      "3/3 [==============================] - 1s 0s/step\n",
      "2/2 [==============================] - 0s 0s/step\n",
      "Resultado del entrenamiento: 44.61 RMSE\n",
      "Resultado del test: 113.23 RMSE\n",
      "3/3 [==============================] - 1s 5ms/step\n",
      "2/2 [==============================] - 0s 4ms/step\n",
      "Resultado del entrenamiento: 59.21 RMSE\n",
      "Resultado del test: 178.07 RMSE\n",
      "3/3 [==============================] - 1s 6ms/step\n",
      "2/2 [==============================] - 0s 5ms/step\n",
      "Resultado del entrenamiento: 57.52 RMSE\n",
      "Resultado del test: 181.21 RMSE\n",
      "3/3 [==============================] - 1s 7ms/step\n",
      "2/2 [==============================] - 0s 14ms/step\n",
      "Resultado del entrenamiento: 21.11 RMSE\n",
      "Resultado del test: 50.52 RMSE\n",
      "3/3 [==============================] - 1s 8ms/step\n",
      "2/2 [==============================] - 0s 8ms/step\n",
      "Resultado del entrenamiento: 24.87 RMSE\n",
      "Resultado del test: 75.24 RMSE\n",
      "3/3 [==============================] - 1s 8ms/step\n",
      "2/2 [==============================] - 0s 0s/step\n",
      "Resultado del entrenamiento: 37.98 RMSE\n",
      "Resultado del test: 83.84 RMSE\n",
      "3/3 [==============================] - 1s 1ms/step\n",
      "2/2 [==============================] - 0s 6ms/step\n",
      "Resultado del entrenamiento: 37.03 RMSE\n",
      "Resultado del test: 91.74 RMSE\n",
      "3/3 [==============================] - 1s 4ms/step\n",
      "2/2 [==============================] - 0s 0s/step\n",
      "Resultado del entrenamiento: 58.27 RMSE\n",
      "Resultado del test: 170.82 RMSE\n",
      "3/3 [==============================] - 1s 8ms/step\n",
      "2/2 [==============================] - 0s 0s/step\n",
      "Resultado del entrenamiento: 60.51 RMSE\n",
      "Resultado del test: 191.00 RMSE\n",
      "3/3 [==============================] - 1s 5ms/step\n",
      "2/2 [==============================] - 0s 0s/step\n",
      "Resultado del entrenamiento: 20.65 RMSE\n",
      "Resultado del test: 58.08 RMSE\n",
      "3/3 [==============================] - 1s 8ms/step\n",
      "2/2 [==============================] - 0s 0s/step\n",
      "Resultado del entrenamiento: 23.02 RMSE\n",
      "Resultado del test: 72.94 RMSE\n",
      "3/3 [==============================] - 1s 0s/step\n",
      "2/2 [==============================] - 0s 8ms/step\n",
      "Resultado del entrenamiento: 41.74 RMSE\n",
      "Resultado del test: 86.21 RMSE\n",
      "3/3 [==============================] - 1s 7ms/step\n",
      "2/2 [==============================] - 0s 4ms/step\n",
      "Resultado del entrenamiento: 36.88 RMSE\n",
      "Resultado del test: 102.04 RMSE\n",
      "3/3 [==============================] - 1s 5ms/step\n",
      "2/2 [==============================] - 0s 6ms/step\n",
      "Resultado del entrenamiento: 59.25 RMSE\n",
      "Resultado del test: 182.36 RMSE\n",
      "3/3 [==============================] - 1s 4ms/step\n",
      "2/2 [==============================] - 0s 0s/step\n",
      "Resultado del entrenamiento: 42.49 RMSE\n",
      "Resultado del test: 111.31 RMSE\n"
     ]
    }
   ],
   "source": [
    "modelList = []\n",
    "lookList = []\n",
    "optmList = []\n",
    "lossList = []\n",
    "trainList = []\n",
    "testList = []\n",
    "cont_model = 1\n",
    "for look in range(1,10,2):\n",
    "  for optm in list([\"adam\",\"SGD\", \"Adagrad\"]):\n",
    "    for loss in list([\"mean_squared_error\",\"mean_absolute_error\"]):\n",
    "      modelList.append(f\"Modelo N° {cont_model}\")\n",
    "      lookList.append(look) \n",
    "      optmList.append(optm)\n",
    "      lossList.append(loss)\n",
    "      trainS, testS = model_lstm(look_back = look, optimizer = optm, loss=loss)\n",
    "      trainList.append(trainS)\n",
    "      testList.append(testS)\n",
    "      cont_model = cont_model + 1"
   ],
   "metadata": {
    "collapsed": false,
    "ExecuteTime": {
     "end_time": "2023-11-03T17:24:04.441938500Z",
     "start_time": "2023-11-03T17:02:28.332341200Z"
    }
   }
  },
  {
   "cell_type": "code",
   "execution_count": 15,
   "outputs": [
    {
     "name": "stdout",
     "output_type": "stream",
     "text": [
      "          MSE Train    MSE Test\n",
      "Lookback                       \n",
      "1         54.489602  163.618713\n",
      "3         40.697036  121.033998\n",
      "5         40.956976  117.841172\n",
      "7         39.963407  110.527270\n",
      "9         37.337581  102.158236\n",
      "           Lookback  MSE Train    MSE Test\n",
      "Optimizer                                 \n",
      "Adagrad         5.0  60.828044  187.152192\n",
      "SGD             5.0  44.390404  118.120641\n",
      "adam            5.0  22.848312   63.834801\n",
      "                     Lookback  MSE Train    MSE Test\n",
      "Loss function                                       \n",
      "mean_absolute_error       5.0  42.146181  126.177937\n",
      "mean_squared_error        5.0  43.231659  119.893819\n"
     ]
    }
   ],
   "source": [
    "import pandas as pd\n",
    "# Crear un diccionario con los datos\n",
    "datos = {'Model': modelList,\n",
    "         'Lookback' : lookList,\n",
    "         'Optimizer' : optmList,\n",
    "         'Loss function': lossList,\n",
    "         'MSE Train': trainList,\n",
    "         'MSE Test': testList}\n",
    "\n",
    "# Crear un DataFrame a partir del diccionario\n",
    "tabla_resumen = pd.DataFrame(datos)\n",
    "\n",
    "resumen_lookback = tabla_resumen.groupby('Lookback').mean('MSE Test')\n",
    "print(resumen_lookback)\n",
    "\n",
    "resumen_optimizer = tabla_resumen.groupby('Optimizer').mean('MSE Test')\n",
    "print(resumen_optimizer)\n",
    "\n",
    "resumen_loss = tabla_resumen.groupby('Loss function').mean('MSE Test')\n",
    "print(resumen_loss)\n",
    "\n"
   ],
   "metadata": {
    "collapsed": false,
    "ExecuteTime": {
     "end_time": "2023-11-05T02:17:00.827362400Z",
     "start_time": "2023-11-05T02:17:00.794492300Z"
    }
   }
  },
  {
   "cell_type": "markdown",
   "source": [
    "# Resultados\n",
    "Como se puede observar en la tabla `resumen_look`, en promedio el error cuadrático medio es menor en la medida que aumenta el look back en el modelo, aunque la mejora en la precisión del modelo tanto en el conjunto de entrenamiento como en el conjunto de prueba. \n",
    "\n",
    "Como se resume en la tabla `resumen_optimizer`, en promedio el error cuadrático medio es significativamente menor cuando se usa el optimizador `adam` en comparación a cuando se utiliza `SGD` o `Adagrad`, tanto en el conjunto de entrenamiento como en el conjunto de prueba.\n",
    "\n",
    "Como se puede observar en la tabla `resumen_loss`, en promedio el error cuadrático medio es menor cuando la medida de pérdida es el `mean_squared_error` tomando en cuanta los resultados en el conjunto de prueba a pesar de que ocurre lo contrario en los resultados del conjunto de entrenamiento. "
   ],
   "metadata": {
    "collapsed": false
   }
  }
 ],
 "metadata": {
  "colab": {
   "provenance": []
  },
  "kernelspec": {
   "display_name": "Python 3 (ipykernel)",
   "language": "python",
   "name": "python3"
  },
  "language_info": {
   "codemirror_mode": {
    "name": "ipython",
    "version": 3
   },
   "file_extension": ".py",
   "mimetype": "text/x-python",
   "name": "python",
   "nbconvert_exporter": "python",
   "pygments_lexer": "ipython3",
   "version": "3.8.12"
  },
  "gpuClass": "standard",
  "accelerator": "GPU"
 },
 "nbformat": 4,
 "nbformat_minor": 0
}
