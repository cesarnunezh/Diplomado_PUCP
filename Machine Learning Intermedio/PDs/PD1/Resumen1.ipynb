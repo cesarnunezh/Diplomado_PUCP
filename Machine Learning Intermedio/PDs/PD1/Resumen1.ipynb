{
  "nbformat": 4,
  "nbformat_minor": 0,
  "metadata": {
    "colab": {
      "provenance": []
    },
    "kernelspec": {
      "name": "python3",
      "display_name": "Python 3"
    },
    "language_info": {
      "name": "python"
    }
  },
  "cells": [
    {
      "cell_type": "code",
      "source": [
        "# Importamos las bibliotecas necesarias\n",
        "import tensorflow as tf\n",
        "from tensorflow.keras.models import Sequential\n",
        "from tensorflow.keras.layers import Dense\n",
        "from tensorflow.keras.optimizers import Adam\n",
        "import numpy as np\n",
        "import matplotlib.pyplot as plt"
      ],
      "metadata": {
        "id": "e3MFlJ8_JJxH"
      },
      "execution_count": null,
      "outputs": []
    },
    {
      "cell_type": "code",
      "source": [
        "# Creamos una función para el Perceptrón Simple\n",
        "def perceptron_simple():\n",
        "    # Datos de entrada\n",
        "    celsius = np.array([-40, -10, 0, 8, 15, 22, 38], dtype=float)\n",
        "    fahrenheit = np.array([-40, 14, 32, 46, 59, 72, 100], dtype=float)\n",
        "\n",
        "    # Definimos el modelo\n",
        "    model = Sequential([\n",
        "        Dense(units=1, input_shape=[1])\n",
        "    ], name=\"Perceptron\")\n",
        "\n",
        "    model.compile(optimizer=Adam(learning_rate=0.1),\n",
        "                  loss='mean_squared_error')\n",
        "\n",
        "    history = model.fit(celsius, fahrenheit, epochs=1000, verbose=False)\n",
        "\n",
        "    # Graficamos la función de pérdida\n",
        "    plt.figure(figsize=(8, 4), dpi=90)\n",
        "    plt.plot(history.history[\"loss\"])\n",
        "    plt.title(\"Evolución de la función de pérdida durante entrenamiento (Perceptrón)\")\n",
        "    plt.xlabel(\"Número de épocas\")\n",
        "    plt.ylabel(\"Valor de la función de pérdida (loss function)\")\n",
        "    plt.show()\n",
        "\n",
        "    # Realizamos una predicción\n",
        "    new_value = 100.0\n",
        "    result = model.predict([new_value], verbose=0)\n",
        "\n",
        "    return new_value, result[0][0], 1.8 * new_value + 32\n",
        "\n",
        "# Creamos una función para el MLP\n",
        "def multi_layer_perceptron():\n",
        "    # Datos de entrada\n",
        "    celsius = np.array([-40, -10, 0, 8, 15, 22, 38], dtype=float)\n",
        "    fahrenheit = np.array([-40, 14, 32, 46, 59, 72, 100], dtype=float)\n",
        "\n",
        "    # Definimos el modelo MLP\n",
        "    model = Sequential([\n",
        "        Dense(units=3, input_shape=[1], name=\"Oculta_1\"),\n",
        "        Dense(units=3, name=\"Oculta_2\"),\n",
        "        Dense(units=3, name=\"Oculta_3\"),\n",
        "        Dense(units=1, name=\"Salida\")\n",
        "    ], name=\"MLP\")\n",
        "\n",
        "    model.compile(optimizer=Adam(learning_rate=0.1), loss='mean_squared_error')\n",
        "\n",
        "    history = model.fit(celsius, fahrenheit, epochs=1000, verbose=False)\n",
        "\n",
        "    # Graficamos la función de pérdida\n",
        "    plt.figure(figsize=(8, 4), dpi=90)\n",
        "    plt.plot(history.history[\"loss\"])\n",
        "    plt.title(\"Evolución de la función de pérdida durante entrenamiento (MLP)\")\n",
        "    plt.xlabel(\"Número de épocas\")\n",
        "    plt.ylabel(\"Valor de la función de pérdida (loss function)\")\n",
        "    plt.show()\n",
        "\n",
        "    # Realizamos una predicción\n",
        "    new_value = 100.0\n",
        "    result = model.predict([new_value], verbose=0)\n",
        "\n",
        "    return new_value, result[0][0], 1.8 * new_value + 32\n"
      ],
      "metadata": {
        "id": "dJKZE_TaJLH6"
      },
      "execution_count": null,
      "outputs": []
    },
    {
      "cell_type": "code",
      "source": [
        "# Creamos un menú interactivo\n",
        "while True:\n",
        "    print(\"Seleccione una opción:\")\n",
        "    print(\"1. Perceptrón Simple\")\n",
        "    print(\"2. MLP (Multi Layer Perceptron)\")\n",
        "    print(\"3. Salir\")\n",
        "\n",
        "    opcion = input()\n",
        "\n",
        "    if opcion == '1':\n",
        "        new_value, prediction, expected = perceptron_simple()\n",
        "        print(\"Predicción:\\n{} grados Celsius son {} grados Fahrenheit\".format(new_value, prediction))\n",
        "        print(\"Salida esperada:\\n{} grados Celsius son {} grados Fahrenheit\".format(new_value, expected))\n",
        "    elif opcion == '2':\n",
        "        new_value, prediction, expected = multi_layer_perceptron()\n",
        "        print(\"Predicción:\\n{} grados Celsius son {} grados Fahrenheit\".format(new_value, prediction))\n",
        "        print(\"Salida esperada:\\n{} grados Celsius son {} grados Fahrenheit\".format(new_value, expected))\n",
        "    elif opcion == '3':\n",
        "        break\n",
        "    else:\n",
        "        print(\"Opción no válida. Por favor, elija una opción válida.\")"
      ],
      "metadata": {
        "id": "Rm0ynmNyJi0T"
      },
      "execution_count": null,
      "outputs": []
    }
  ]
}